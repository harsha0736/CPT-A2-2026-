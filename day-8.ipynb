{
 "cells": [
  {
   "cell_type": "code",
   "execution_count": null,
   "id": "22fccd6e-b064-480c-a0f8-815146cb36a5",
   "metadata": {},
   "outputs": [],
   "source": [
    "https://meet.google.com/qam-csgg-aii"
   ]
  },
  {
   "cell_type": "code",
   "execution_count": 5,
   "id": "e56e0dc2-2395-44cb-8e39-e3aa6b0e12b2",
   "metadata": {},
   "outputs": [
    {
     "name": "stdout",
     "output_type": "stream",
     "text": [
      "Animal sound\n",
      "Dog barks.....!!\n",
      "puppy weeps....!!\n"
     ]
    }
   ],
   "source": [
    "#multi-level inheritence\n",
    "class pet:\n",
    "    def sound(self):\n",
    "        print(\"Animal sound\")\n",
    "class dog(pet):\n",
    "    def bark(self):\n",
    "        print(\"Dog barks.....!!\")\n",
    "class puppy(dog):\n",
    "    def weep(self):\n",
    "        print(\"puppy weeps....!!\")\n",
    "\n",
    "puppy=puppy()\n",
    "puppy.sound()\n",
    "puppy.bark()\n",
    "puppy.weep()\n",
    "        \n",
    "    "
   ]
  },
  {
   "cell_type": "code",
   "execution_count": 9,
   "id": "8e6b6037-a0b0-4576-9ec8-cdadb7962c3f",
   "metadata": {},
   "outputs": [
    {
     "name": "stdin",
     "output_type": "stream",
     "text": [
      "enter the value of x: 36\n",
      "enter the value of y: 42\n"
     ]
    },
    {
     "name": "stdout",
     "output_type": "stream",
     "text": [
      "addition: 78\n",
      "subtract: -6\n",
      "product: 1512\n",
      "division: 0.8571428571428571\n"
     ]
    }
   ],
   "source": [
    "''' code for math operation using base class , with 1st and 2nd derived class respectively.\n",
    "create an object where derived will be executed and perform multiple operations'''\n",
    "class num:\n",
    "    def __init__(self,h,d):\n",
    "        self.h=h\n",
    "        self.d=d\n",
    "class basicops(num):\n",
    "    def add(self):\n",
    "        return self.h+self.d\n",
    "    def sub(self):\n",
    "        return self.h-self.d\n",
    "class advops(basicops):\n",
    "    def mul(self):\n",
    "        return self.h*self.d\n",
    "    def div(self):\n",
    "        return self.h/self.d\n",
    "h=int(input(\"enter the value of x:\"))\n",
    "d=int(input(\"enter the value of y:\"))\n",
    "calc=advops(h,d)\n",
    "print(\"addition:\",calc.add())\n",
    "print(\"subtract:\",calc.sub())\n",
    "print(\"product:\",calc.mul())\n",
    "print(\"division:\",calc.div())\n"
   ]
  },
  {
   "cell_type": "code",
   "execution_count": 51,
   "id": "2d64db88-469c-4da7-9c59-848670853c39",
   "metadata": {},
   "outputs": [
    {
     "name": "stdout",
     "output_type": "stream",
     "text": [
      "Student Name: Harsha\n",
      "Total Marks: 362\n",
      "Average: 90.5\n",
      "Student Grade: A\n"
     ]
    }
   ],
   "source": [
    "''' code for student grading system, where student base class has to be derived by marks and marks with grades in a multi-level inheritance.\n",
    "caliculate the grade to be allocated to students with marks A,B,C,D  with >=90, >=75.>=60 or less than 60 respectively\n",
    "marks:[85,90,78,92]\n",
    "caliculate and display marks,avg,grade of henry'''\n",
    "\n",
    "class Student:\n",
    "    def __init__(self, name):\n",
    "        self.name = name  \n",
    "class Marks(Student):\n",
    "    def __init__(self, name, marks):\n",
    "        super().__init__(name)\n",
    "        self.marks = marks\n",
    "    def total_marks(self):\n",
    "        return sum(self.marks)\n",
    "class Grade(Marks):\n",
    "    def average(self):\n",
    "        return self.total_marks() / len(self.marks)\n",
    "    def cal_grade(self):\n",
    "        avg = self.average() \n",
    "        if avg >= 90:\n",
    "            return 'A'\n",
    "        elif avg >= 75:  \n",
    "            return 'B'\n",
    "        elif avg >= 60:\n",
    "            return 'C'\n",
    "        else:\n",
    "            return 'D'\n",
    "\n",
    "student = Grade(\"Harsha\", [90, 95, 85, 92])\n",
    "print(\"Student Name:\", student.name)\n",
    "print(\"Total Marks:\", student.total_marks())\n",
    "print(\"Average:\", student.average())\n",
    "print(\"Student Grade:\", student.cal_grade())"
   ]
  },
  {
   "cell_type": "code",
   "execution_count": 25,
   "id": "7daa04a1-562c-449c-82f5-60357783a13f",
   "metadata": {},
   "outputs": [
    {
     "name": "stdout",
     "output_type": "stream",
     "text": [
      "milo barks!!\n",
      "kitty meows!!\n"
     ]
    }
   ],
   "source": [
    "class pet:\n",
    "    def __init__(self,name):\n",
    "        self.name=name\n",
    "    def sound(self):\n",
    "        print(f\"{self.name} makes a sound\")\n",
    "class dog(pet):\n",
    "    def sound(self):\n",
    "        print(f\"{self.name} barks!!\")\n",
    "class cat(pet):\n",
    "    def sound(self):\n",
    "        print(f\"{self.name} meows!!\")\n",
    "d=dog(\"milo\")\n",
    "c=cat(\"kitty\")\n",
    "d.sound()\n",
    "c.sound()\n",
    "        \n",
    "        "
   ]
  },
  {
   "cell_type": "code",
   "execution_count": 71,
   "id": "42884367-0e9f-4084-a562-75165a0641b2",
   "metadata": {},
   "outputs": [
    {
     "name": "stdout",
     "output_type": "stream",
     "text": [
      "area of a rectangle: 50\n",
      "area of a triangle: 25.0\n",
      "area of a circle: 314.1592653589793\n"
     ]
    }
   ],
   "source": [
    "'''Hierarchical geometry oprrations of different shapes area values of all circle,rectangle,triangle derived class'''\n",
    "import math\n",
    "class shape:\n",
    "    def __init__(self,d1,d2=0):\n",
    "        self.d1=d1\n",
    "        self.d2=d2\n",
    "class rectangle(shape):\n",
    "    def area(self):\n",
    "        return self.d1*self.d2\n",
    "class circle(shape):\n",
    "    def area(self):\n",
    "        return math.pi*self.d1*self.d1\n",
    "class triangle(shape):\n",
    "    def area(self):\n",
    "        return 0.5*self.d1*self.d2\n",
    "\n",
    "\n",
    "rect= rectangle(10,5)\n",
    "print(\"area of a rectangle:\",rect.area())\n",
    "tri= triangle(10,5)\n",
    "print(\"area of a triangle:\",tri.area())\n",
    "cir=circle(10)\n",
    "print(\"area of a circle:\",cir.area())"
   ]
  },
  {
   "cell_type": "code",
   "execution_count": 75,
   "id": "c4e4a2ec-6748-43ee-b884-5de0b026ecd7",
   "metadata": {},
   "outputs": [
    {
     "name": "stdout",
     "output_type": "stream",
     "text": [
      "Area of rectangle is : 22\n",
      "Area of circle is : 113.1\n",
      "Area of triangle is : 12.0\n"
     ]
    }
   ],
   "source": [
    "#abstraction of the base class for evaluting the area of sq,rect,tri\n",
    "from abc import ABC, abstractmethod\n",
    "from math import pi\n",
    "class shape(ABC):\n",
    "    def __init__(self,name):\n",
    "        self.name=name\n",
    "    @abstractmethod\n",
    "    def area(self):\n",
    "        pass\n",
    "class rectangle(shape):\n",
    "    def __init__(self,l,b):\n",
    "        super().__init__(\"rectangle\")\n",
    "        self.l=l\n",
    "        self.b=b\n",
    "    def area(self):\n",
    "        return self.l*self.b\n",
    "    \n",
    "class circle(shape):\n",
    "    def __init__(self,r):\n",
    "        super().__init__(\"circle\")\n",
    "        self.r=r\n",
    "    def area(self):\n",
    "        return pi*self.r*self.r\n",
    "class triangle(shape):\n",
    "    def __init__(self,b,h):\n",
    "        super().__init__(\"triangle\")\n",
    "        self.h=h\n",
    "        self.b=b\n",
    "    def area(self):\n",
    "        return 0.5 *self.b*self.h\n",
    "r=rectangle(11,2)\n",
    "c=circle(6)\n",
    "t=triangle(4,6)\n",
    "print(\"Area of rectangle is :\",r.area())\n",
    "print(\"Area of circle is :\",round(c.area(),2))\n",
    "print(\"Area of triangle is :\",t.area())"
   ]
  },
  {
   "cell_type": "code",
   "execution_count": null,
   "id": "85c4c70d-2213-4cda-9593-724275b7bd56",
   "metadata": {},
   "outputs": [],
   "source": []
  }
 ],
 "metadata": {
  "kernelspec": {
   "display_name": "Python 3 (ipykernel)",
   "language": "python",
   "name": "python3"
  },
  "language_info": {
   "codemirror_mode": {
    "name": "ipython",
    "version": 3
   },
   "file_extension": ".py",
   "mimetype": "text/x-python",
   "name": "python",
   "nbconvert_exporter": "python",
   "pygments_lexer": "ipython3",
   "version": "3.12.7"
  }
 },
 "nbformat": 4,
 "nbformat_minor": 5
}
