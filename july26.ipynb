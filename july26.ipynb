{
 "cells": [
  {
   "cell_type": "code",
   "execution_count": null,
   "id": "93ffd712-3238-45e7-8f1b-a770df2d15e7",
   "metadata": {},
   "outputs": [],
   "source": [
    "\n",
    "double LL:\n",
    "1.insertion -at begin, end, position\n",
    "2.deletion  - by value\n",
    "3.traversal  -foward/backward\n",
    "\n",
    "\n",
    "head<----> node1<--->node2<---->node3<---->null\n",
    "\n",
    "node:\n",
    "class node:\n",
    "    def __init__(self,data):\n",
    "        self.data=data\n",
    "        self.next=none\n",
    "        self.prev=none"
   ]
  },
  {
   "cell_type": "code",
   "execution_count": 13,
   "id": "914aa72e-e03b-4c5c-8f1a-c99f7d81a078",
   "metadata": {},
   "outputs": [
    {
     "name": "stdin",
     "output_type": "stream",
     "text": [
      "enter the number of elements to insert at end: 7\n",
      "enter element 1: 2\n",
      "enter element 2: 8\n",
      "enter element 3: 4\n",
      "enter element 4: 9\n",
      "enter element 5: 1\n",
      "enter element 6: 3\n",
      "enter element 7: 7\n"
     ]
    },
    {
     "name": "stdout",
     "output_type": "stream",
     "text": [
      "Double linked list:\n",
      "2<->8<->4<->9<->1<->3<->7<->None\n"
     ]
    }
   ],
   "source": [
    "#at the end insertion an DLL\n",
    "\n",
    "class Node:\n",
    "    def __init__(self,data):\n",
    "        self.data=data\n",
    "        self.prev=None\n",
    "        self.next=None\n",
    "class DoublyLinkedList:\n",
    "    def __init__(self):\n",
    "        self.head=None\n",
    "    def iae(self,data):\n",
    "        newnode=Node(data)\n",
    "        if self.head is None:\n",
    "            self.head=newnode\n",
    "            return\n",
    "        temp=self.head\n",
    "        while temp.next:\n",
    "            temp=temp.next\n",
    "        temp.next=newnode\n",
    "        newnode.prev=temp\n",
    "    def display(self):\n",
    "        temp=self.head\n",
    "        print(\"Double linked list:\")\n",
    "        while temp:\n",
    "            print(temp.data,end=\"<->\")\n",
    "            temp=temp.next\n",
    "        print(\"None\")\n",
    "            \n",
    "\n",
    "\n",
    "dll=DoublyLinkedList()\n",
    "n=int(input(\"enter the number of elements to insert at end:\"))\n",
    "for i in range(n):\n",
    "    val=int(input(f\"enter element {i+1}:\"))\n",
    "    dll.iae(val)\n",
    "dll.display()\n"
   ]
  },
  {
   "cell_type": "code",
   "execution_count": 27,
   "id": "9ac70a7e-c81f-4713-af48-26cff9c6bb04",
   "metadata": {},
   "outputs": [
    {
     "name": "stdin",
     "output_type": "stream",
     "text": [
      "enter the number of elements to insert at end: 3\n",
      "enter element 1: 11\n",
      "enter element 2: 22\n",
      "enter element 3: 33\n"
     ]
    },
    {
     "name": "stdout",
     "output_type": "stream",
     "text": [
      "Double linked list:\n",
      "33<->22<->11<->None\n"
     ]
    }
   ],
   "source": [
    "#at the end insertion an DLL\n",
    "\n",
    "class Node:\n",
    "    def __init__(self,data):\n",
    "        self.data=data\n",
    "        self.prev=None\n",
    "        self.next=None\n",
    "class DoublyLinkedList:\n",
    "    def __init__(self):\n",
    "        self.head=None\n",
    "    def iab(self,data):\n",
    "        newnode=Node(data)\n",
    "        newnode.next=self.head\n",
    "        if self.head:\n",
    "            self.head.prev=newnode\n",
    "        self.head=newnode    \n",
    "            \n",
    "    def display(self):\n",
    "        temp=self.head\n",
    "        print(\"Double linked list:\")\n",
    "        while temp:\n",
    "            print(temp.data,end=\"<->\")\n",
    "            temp=temp.next\n",
    "        print(\"None\")\n",
    "            \n",
    "\n",
    "\n",
    "dll=DoublyLinkedList()\n",
    "n=int(input(\"enter the number of elements to insert at end:\"))\n",
    "for i in range(n):\n",
    "    val=int(input(f\"enter element {i+1}:\"))\n",
    "    dll.iab(val)\n",
    "dll.display()\n"
   ]
  },
  {
   "cell_type": "code",
   "execution_count": null,
   "id": "7cec13f7-5b8c-4c41-8e58-9289c1859e7d",
   "metadata": {},
   "outputs": [],
   "source": [
    "#at the end insertion an DLL\n",
    "\n",
    "class Node:\n",
    "    def __init__(self,data):\n",
    "        self.data=data\n",
    "        self.prev=None\n",
    "        self.next=None\n",
    "class DoublyLinkedList:\n",
    "    def __init__(self):\n",
    "        self.head=None\n",
    "    def iab(self,data):\n",
    "        newnode=Node(data)\n",
    "        newnode.next=self.head\n",
    "        if self.head:\n",
    "            self.head.prev=newnode\n",
    "        self.head=newnode    \n",
    "\n",
    "\n",
    "\n",
    "    \n",
    "    def display(self):\n",
    "        temp=self.head\n",
    "        print(\"Double linked list:\")\n",
    "        while temp:\n",
    "            print(temp.data,end=\"<->\")\n",
    "            temp=temp.next\n",
    "        print(\"None\")\n",
    "\n",
    "dll=DoublyLinkedList()\n",
    "n=int(input(\"enter the number of elements to insert at end:\"))\n",
    "for i in range(n):\n",
    "    val=int(input(f\"enter element {i+1}:\"))\n",
    "    dll.iab(val)\n",
    "dll.display()\n"
   ]
  }
 ],
 "metadata": {
  "kernelspec": {
   "display_name": "Python 3 (ipykernel)",
   "language": "python",
   "name": "python3"
  },
  "language_info": {
   "codemirror_mode": {
    "name": "ipython",
    "version": 3
   },
   "file_extension": ".py",
   "mimetype": "text/x-python",
   "name": "python",
   "nbconvert_exporter": "python",
   "pygments_lexer": "ipython3",
   "version": "3.12.7"
  }
 },
 "nbformat": 4,
 "nbformat_minor": 5
}
