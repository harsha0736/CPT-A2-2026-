{
 "cells": [
  {
   "cell_type": "code",
   "execution_count": null,
   "id": "a0448bfd-1bdd-4650-8b2b-acaed9c536ee",
   "metadata": {},
   "outputs": [],
   "source": [
    "\n",
    "double LL:\n",
    "1.insertion -at begin, end, position\n",
    "2.deletion  - by value\n",
    "3.traversal  -foward/backward\n",
    "\n",
    "\n",
    "head<----> node1<--->node2<---->node3<---->null\n",
    "\n",
    "node:\n",
    "class node:\n",
    "    def __init__(self,data):\n",
    "        self.data=data\n",
    "        self.next=none\n",
    "        self.prev=none"
   ]
  },
  {
   "cell_type": "code",
   "execution_count": null,
   "id": "06a8ae95-53a8-4c18-b9b7-7396431d831c",
   "metadata": {},
   "outputs": [],
   "source": [
    "#at the end insertion an DLL\n",
    "\n",
    "class Node:\n",
    "    def __init__(self,data):\n",
    "        self.data=data\n",
    "        self.prev=None\n",
    "        self.next=None\n",
    "class DoublyLinkedList:\n",
    "    def __init__(self):\n",
    "        self.head=None\n",
    "    def iae(self,data):\n",
    "        newnode=Node(data)\n",
    "        if self.head is None:\n",
    "            self.head=newnode\n",
    "            return\n",
    "        temp=self.head\n",
    "        while temp.next:\n",
    "            temp=temp.next\n",
    "        temp.next=newnode\n",
    "        newnode.prev=temp\n",
    "    def display(self):\n",
    "        temp=self.head\n",
    "        print(\"Double linked list:\")\n",
    "        while temp:\n",
    "            print(temp.data,end=\"<->\")\n",
    "            temp=temp.next\n",
    "        print(\"None\")\n",
    "            \n",
    "\n",
    "\n",
    "dll=DoublyLinkedList()\n",
    "n=int(input(\"enter the number of elements to insert at end:\"))\n",
    "for i in range(n):\n",
    "    val=int(input(f\"enter element {i+1}:\"))\n",
    "    dll.iae(val)\n",
    "dll.display()\n"
   ]
  },
  {
   "cell_type": "code",
   "execution_count": null,
   "id": "e08b3641-182d-4659-8493-8df7e1661ac3",
   "metadata": {},
   "outputs": [],
   "source": [
    "#at the end insertion an DLL\n",
    "\n",
    "class Node:\n",
    "    def __init__(self,data):\n",
    "        self.data=data\n",
    "        self.prev=None\n",
    "        self.next=None\n",
    "class DoublyLinkedList:\n",
    "    def __init__(self):\n",
    "        self.head=None\n",
    "    def iab(self,data):\n",
    "        newnode=Node(data)\n",
    "        newnode.next=self.head\n",
    "        if self.head:\n",
    "            self.head.prev=newnode\n",
    "        self.head=newnode    \n",
    "            \n",
    "    def display(self):\n",
    "        temp=self.head\n",
    "        print(\"Double linked list:\")\n",
    "        while temp:\n",
    "            print(temp.data,end=\"<->\")\n",
    "            temp=temp.next\n",
    "        print(\"None\")\n",
    "            \n",
    "\n",
    "\n",
    "dll=DoublyLinkedList()\n",
    "n=int(input(\"enter the number of elements to insert at end:\"))\n",
    "for i in range(n):\n",
    "    val=int(input(f\"enter element {i+1}:\"))\n",
    "    dll.iab(val)\n",
    "dll.display()\n"
   ]
  },
  {
   "cell_type": "code",
   "execution_count": 2,
   "id": "f4e0df9b-25e7-4e02-aef2-b0d0270a6818",
   "metadata": {},
   "outputs": [
    {
     "name": "stdin",
     "output_type": "stream",
     "text": [
      "Enter the number of elements to insert: 4\n",
      "Enter the position to insert element 1:  15\n",
      "Enter element 1:  2\n"
     ]
    },
    {
     "name": "stdout",
     "output_type": "stream",
     "text": [
      "Position out of range\n"
     ]
    },
    {
     "name": "stdin",
     "output_type": "stream",
     "text": [
      "Enter the position to insert element 2:  2\n",
      "Enter element 2:  1\n",
      "Enter the position to insert element 3:  1\n",
      "Enter element 3:  1\n",
      "Enter the position to insert element 4:  4\n",
      "Enter element 4:  3\n"
     ]
    },
    {
     "name": "stdout",
     "output_type": "stream",
     "text": [
      "Doubly Linked List:\n",
      "1<->100<->1<->3<->None\n"
     ]
    }
   ],
   "source": [
    "class Node:\n",
    "    def __init__(self, data):\n",
    "        self.data = data\n",
    "        self.prev = None\n",
    "        self.next = None\n",
    "\n",
    "class DoublyLinkedList:\n",
    "    def __init__(self):\n",
    "        self.head = None\n",
    "\n",
    "    def iap(self, pos, data):\n",
    "        newnode = Node(data)\n",
    "        if pos <= 0:\n",
    "            print(\"Invalid position\")\n",
    "            return\n",
    "        if pos == 1:\n",
    "            newnode.next = self.head\n",
    "            if self.head:\n",
    "                self.head.prev = newnode\n",
    "            self.head = newnode\n",
    "            return\n",
    "        temp = self.head\n",
    "        for _ in range(pos - 2):\n",
    "            if temp is None:\n",
    "                print(\"Position out of range\")\n",
    "                return\n",
    "            temp = temp.next\n",
    "        if temp is None:\n",
    "            print(\"No elements...\")\n",
    "            return\n",
    "        newnode.next = temp.next\n",
    "        newnode.prev = temp\n",
    "        if temp.next:\n",
    "            temp.next.prev = newnode\n",
    "        temp.next = newnode\n",
    "\n",
    "    def display(self):\n",
    "        temp = self.head\n",
    "        print(\"Doubly Linked List:\")\n",
    "        while temp:\n",
    "            print(temp.data, end=\"<->\")\n",
    "            temp = temp.next\n",
    "        print(\"None\")\n",
    "\n",
    "# Driver code\n",
    "dll = DoublyLinkedList()\n",
    "dll.iap(1, 100)\n",
    "n = int(input(\"Enter the number of elements to insert:\"))\n",
    "for i in range(n):\n",
    "    pos = int(input(f\"Enter the position to insert element {i+1}: \"))\n",
    "    val = int(input(f\"Enter element {i+1}: \"))\n",
    "    dll.iap(pos, val)\n",
    "dll.display()\n"
   ]
  },
  {
   "cell_type": "code",
   "execution_count": null,
   "id": "e59e5e08-106a-49d7-92e1-1a4785537240",
   "metadata": {},
   "outputs": [],
   "source": []
  }
 ],
 "metadata": {
  "kernelspec": {
   "display_name": "Python 3 (ipykernel)",
   "language": "python",
   "name": "python3"
  },
  "language_info": {
   "codemirror_mode": {
    "name": "ipython",
    "version": 3
   },
   "file_extension": ".py",
   "mimetype": "text/x-python",
   "name": "python",
   "nbconvert_exporter": "python",
   "pygments_lexer": "ipython3",
   "version": "3.12.7"
  }
 },
 "nbformat": 4,
 "nbformat_minor": 5
}
