{
 "cells": [
  {
   "cell_type": "code",
   "execution_count": null,
   "id": "2704c438-9a9b-49a0-80d0-b39bbfbbe8e7",
   "metadata": {},
   "outputs": [],
   "source": [
    "1.size n /sorted\n",
    "2.create a black key\n",
    "3.search operation will be performed\n",
    "  arr[m]<var/key <arr(k+1)[m]\n",
    "4.compar each jump linearly\n",
    "-------------------------------------------"
   ]
  },
  {
   "cell_type": "code",
   "execution_count": 1,
   "id": "63c76e96-e6f6-4fa6-ab3a-fb0d1c16c993",
   "metadata": {},
   "outputs": [
    {
     "name": "stdout",
     "output_type": "stream",
     "text": [
      "element 7 found at index:3\n"
     ]
    }
   ],
   "source": [
    "import math\n",
    "def jump_search(arr,target):\n",
    "    if not arr:\n",
    "        return -1\n",
    "    n=len(arr)\n",
    "    step=int(math.sqrt(n))\n",
    "    prev=0\n",
    "    while prev <n and arr[prev]<target:\n",
    "        prev +=step\n",
    "    for i in range(max(0,prev- step),min(n,prev+1)):\n",
    "        if arr[i]==target:\n",
    "            return i\n",
    "    return -1        \n",
    "        \n",
    "arr=[1,3,5,7,9,11]\n",
    "target=7\n",
    "result=jump_search(arr,target)\n",
    "print(f\"element {target} found at index:{result}\")"
   ]
  },
  {
   "cell_type": "code",
   "execution_count": null,
   "id": "b2919d4f-0cf5-4522-9730-4399b82677aa",
   "metadata": {},
   "outputs": [],
   "source": [
    "1.sorted numbers searching\n",
    "2.cheak the array !=0m\n",
    "3.check the first element\n",
    "4.find the range using expo \n",
    "ehile for boundry\n",
    "identify within boundr\n",
    "5.range peform binary search\n",
    "6. return result "
   ]
  },
  {
   "cell_type": "code",
   "execution_count": 12,
   "id": "9f2c5b75-589d-4973-a0b7-b9eac5cec017",
   "metadata": {},
   "outputs": [
    {
     "name": "stdout",
     "output_type": "stream",
     "text": [
      "element10 found at index:4\n"
     ]
    }
   ],
   "source": [
    "def bsearch_range(arr,target,left,right):\n",
    "    while left<=right:\n",
    "        mid=(left+right)//2\n",
    "        if arr[mid]==target:\n",
    "            return mid\n",
    "        elif arr[mid]< target:\n",
    "            left=mid+1\n",
    "        else:\n",
    "            right=mid-1\n",
    "    return -1        \n",
    "def expo_search(arr,target):\n",
    "    if not arr:\n",
    "        return -1\n",
    "    if arr[0]==target:\n",
    "        return 0\n",
    "    n=len(arr)\n",
    "    i=1\n",
    "    while i <n and arr[i]<=target:\n",
    "        i *=2\n",
    "    return bsearch_range(arr,target,i//2,min(i,n-1))    \n",
    "    \n",
    "arr=[2,4,6,8,10,12,14]\n",
    "target=10\n",
    "result=expo_search(arr,target)\n",
    "print(f\"element{target} found at index:{result}\")"
   ]
  },
  {
   "cell_type": "code",
   "execution_count": null,
   "id": "d545f8bd-2f24-4e8d-994e-2b3ca2fc8a92",
   "metadata": {},
   "outputs": [],
   "source": [
    "fibonacci search\n",
    "1.find smallest fibo number "
   ]
  },
  {
   "cell_type": "code",
   "execution_count": 20,
   "id": "8cd098ac-1329-4cbb-a989-7486ccd28c6e",
   "metadata": {},
   "outputs": [
    {
     "name": "stdout",
     "output_type": "stream",
     "text": [
      "element10 found at index:4\n"
     ]
    }
   ],
   "source": [
    "def fibsearch(arr,target):\n",
    "    if not arr:\n",
    "        return -1\n",
    "    n=len(arr)\n",
    "    fib2=0\n",
    "    fib1=1\n",
    "    fib=fib1+fib2\n",
    "    while fib<n:\n",
    "        fib2=fib1\n",
    "        fib1=fib\n",
    "        fib=fib1+fib2\n",
    "    offset=-1\n",
    "    while fib>1:\n",
    "        i=min(offset+fib2,n-1)\n",
    "        if arr[i]==target:\n",
    "            return i\n",
    "        elif arr[i]<target:\n",
    "            offset=i\n",
    "            fib=fib1\n",
    "            fib1=fib2\n",
    "            fib2=fib-fib1\n",
    "        else:\n",
    "            fib=fib2\n",
    "            fib1=fib1-fib2\n",
    "            fib2=fib-fib1\n",
    "    if fib==1 and offset+1<n and arr[offset+1]==target:\n",
    "        return offset+1\n",
    "    return -1\n",
    "    \n",
    "arr=[2,4,6,8,10,12]\n",
    "target=10\n",
    "result=fibsearch(arr,target)\n",
    "print(f\"element{target} found at index:{result}\")"
   ]
  },
  {
   "cell_type": "code",
   "execution_count": null,
   "id": "e424c61b-44d0-4f94-b12d-5784c0f3a84f",
   "metadata": {},
   "outputs": [],
   "source": []
  }
 ],
 "metadata": {
  "kernelspec": {
   "display_name": "Python 3 (ipykernel)",
   "language": "python",
   "name": "python3"
  },
  "language_info": {
   "codemirror_mode": {
    "name": "ipython",
    "version": 3
   },
   "file_extension": ".py",
   "mimetype": "text/x-python",
   "name": "python",
   "nbconvert_exporter": "python",
   "pygments_lexer": "ipython3",
   "version": "3.12.7"
  }
 },
 "nbformat": 4,
 "nbformat_minor": 5
}
