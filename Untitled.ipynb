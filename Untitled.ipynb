{
 "cells": [
  {
   "cell_type": "code",
   "execution_count": null,
   "id": "37507ed8-6355-450d-ad94-5aa7fe2d0cb8",
   "metadata": {},
   "outputs": [],
   "source": [
    "''' program that uses class as student to store the name and marks\n",
    "of the student , use a list to store the marks of 3 subjects .\n",
    "constraints :\n",
    "1. take class as student \n",
    "2. create a constructor for the student name \n",
    "3. create a function for marks , to be entered manully with in thet class\n",
    "function and add the marks to the list \n",
    "4. display then student name and the marks he/she got\n",
    "5. pass the object's attributes of two stdent names \n",
    "tc :\n",
    "obj1: \"vijay\"\n",
    "obj2: \"Anil\"\n",
    "\n",
    "output : vijay got [88,88,90]\n",
    "\n"
   ]
  },
  {
   "cell_type": "code",
   "execution_count": 1,
   "id": "5f4b41cb-c29d-4678-86d2-1af1d4802e02",
   "metadata": {},
   "outputs": [
    {
     "name": "stdin",
     "output_type": "stream",
     "text": [
      "enter the marks of durga in subjects 1: 100\n",
      "enter the marks of durga in subjects 2: 90\n",
      "enter the marks of durga in subjects 3: 80\n",
      "enter the marks of harsha in subjects 1: 70\n",
      "enter the marks of harsha in subjects 2: 80\n",
      "enter the marks of harsha in subjects 3: 75\n"
     ]
    },
    {
     "name": "stdout",
     "output_type": "stream",
     "text": [
      "durga got [100, 90, 80]\n",
      "harsha got [70, 80, 75]\n"
     ]
    }
   ],
   "source": [
    "class student:\n",
    "    def __init__(self,name):\n",
    "        self.name=name\n",
    "        self.marks=[]\n",
    "    def entermarks(self):\n",
    "        for i in range(3):\n",
    "            m=int(input(\"enter the marks of %s in subjects %d:\"%(self.name,i+1)))\n",
    "            self.marks.append(m)\n",
    "    def display(self):\n",
    "        print(self.name,\"got\", self.marks)\n",
    "s1=student(\"durga\")\n",
    "s1.entermarks()\n",
    "s2=student(\"harsha\")\n",
    "s2.entermarks()\n",
    "s1.display()\n",
    "s2.display()\n"
   ]
  },
  {
   "cell_type": "code",
   "execution_count": null,
   "id": "43e62db2-73fe-4d2f-8914-78bca75f4c85",
   "metadata": {},
   "outputs": [],
   "source": []
  }
 ],
 "metadata": {
  "kernelspec": {
   "display_name": "Python 3 (ipykernel)",
   "language": "python",
   "name": "python3"
  },
  "language_info": {
   "codemirror_mode": {
    "name": "ipython",
    "version": 3
   },
   "file_extension": ".py",
   "mimetype": "text/x-python",
   "name": "python",
   "nbconvert_exporter": "python",
   "pygments_lexer": "ipython3",
   "version": "3.12.7"
  }
 },
 "nbformat": 4,
 "nbformat_minor": 5
}
