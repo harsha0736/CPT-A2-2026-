{
 "cells": [
  {
   "cell_type": "code",
   "execution_count": 3,
   "id": "88f1b796-66a2-4ba2-aef9-57078b2afeae",
   "metadata": {},
   "outputs": [
    {
     "name": "stdout",
     "output_type": "stream",
     "text": [
      "4\n",
      "3\n"
     ]
    }
   ],
   "source": [
    "##write a program to swap two variables using AND and OR with a easable empty buket\n",
    "a=3\n",
    "b=4\n",
    "temp=a\n",
    "a=(a|b) & b\n",
    "b=(temp|b)& temp\n",
    "print(a)\n",
    "print(b)"
   ]
  },
  {
   "cell_type": "code",
   "execution_count": 5,
   "id": "7292d5e1-678b-4208-8cf8-fdeab695cbd1",
   "metadata": {},
   "outputs": [
    {
     "name": "stdout",
     "output_type": "stream",
     "text": [
      "{'a1': 42, 'b1': 36}\n"
     ]
    }
   ],
   "source": [
    "##write a pogram to swap 2 variables in dictionary \n",
    "dict={'a1':36,'b1':42}\n",
    "dict['a1'],dict['b1']=dict['b1'],dict['a1']\n",
    "print(dict)"
   ]
  },
  {
   "cell_type": "code",
   "execution_count": 7,
   "id": "2f3aff85-9815-4309-bd04-e919daf8ef50",
   "metadata": {},
   "outputs": [
    {
     "name": "stdout",
     "output_type": "stream",
     "text": [
      "[2, 1]\n"
     ]
    }
   ],
   "source": [
    "##iterative generate tool \n",
    "gen=iter([1,2])\n",
    "lst=list(gen)\n",
    "lst[0],lst[1]=lst[1],lst[0]\n",
    "print(lst)"
   ]
  },
  {
   "cell_type": "code",
   "execution_count": 9,
   "id": "be4660da-46ea-468a-ab96-be900b46c3c3",
   "metadata": {},
   "outputs": [
    {
     "name": "stdout",
     "output_type": "stream",
     "text": [
      "[4, 16, 36, 64, 100]\n"
     ]
    }
   ],
   "source": [
    "##write a program to print a list comprehension of all even number with their square till 10\n",
    "#even\n",
    "print([i**2 for i in range(1,11) if i%2==0])"
   ]
  },
  {
   "cell_type": "code",
   "execution_count": 13,
   "id": "6e02935a-92a5-4ed6-afd3-b1d066e2aa96",
   "metadata": {},
   "outputs": [
    {
     "name": "stdout",
     "output_type": "stream",
     "text": [
      "[1, 9, 25, 49, 81]\n"
     ]
    }
   ],
   "source": [
    "#for odd\n",
    "print([i**2 for i in range(1,11) if i%2==1])"
   ]
  },
  {
   "cell_type": "code",
   "execution_count": null,
   "id": "3cb5732d-f5de-4370-a9d8-623568ebc4fa",
   "metadata": {},
   "outputs": [],
   "source": [
    "even \n",
    "prime\n",
    "odd\n",
    "amstromg\n",
    "nivens/harshd number\n"
   ]
  },
  {
   "cell_type": "code",
   "execution_count": 31,
   "id": "b9b4b437-356e-4086-8a9e-1172a4a43c76",
   "metadata": {},
   "outputs": [
    {
     "name": "stdin",
     "output_type": "stream",
     "text": [
      "enter the number 379\n"
     ]
    },
    {
     "name": "stdout",
     "output_type": "stream",
     "text": [
      "odd\n"
     ]
    }
   ],
   "source": [
    "##wirte a program for nivens/harshd number\n",
    "num=int(input(\"enter the number\"))\n",
    "copy=num\n",
    "sum=0\n",
    "while num>0:\n",
    "    digit=num%10\n",
    "    sum+=digit\n",
    "    num//=10\n",
    "if copy%sum==0:\n",
    "    print(\"Nivens\")\n",
    "else:\n",
    "    print(\"odd\")"
   ]
  },
  {
   "cell_type": "code",
   "execution_count": 54,
   "id": "f8c7eb6c-f006-4abf-81bf-c478bb312f7c",
   "metadata": {},
   "outputs": [
    {
     "name": "stdin",
     "output_type": "stream",
     "text": [
      "enter the number 145\n"
     ]
    },
    {
     "name": "stdout",
     "output_type": "stream",
     "text": [
      "145 Is a strong number\n"
     ]
    }
   ],
   "source": [
    "#strong number/krishnamurty's number\n",
    "n=int(input(\"enter the number\"))\n",
    "copy=n\n",
    "sum=0\n",
    "while n>0:\n",
    "    d=n%10\n",
    "    f=1\n",
    "    for i in range(1,d+1):\n",
    "        f*=i\n",
    "    sum+=f\n",
    "    n//=10\n",
    "if sum==copy:\n",
    "    print(copy,\"Is a strong number\")\n",
    "else:\n",
    "    print(copy,\"is not a strong number\")\n",
    "    "
   ]
  },
  {
   "cell_type": "code",
   "execution_count": null,
   "id": "257fdc28-abea-4813-b100-5a6df5d7668e",
   "metadata": {},
   "outputs": [],
   "source": [
    "types of numbers\n",
    "1.happy\n",
    "2.automorphic \n",
    "3.magic \n",
    "4.adam's"
   ]
  }
 ],
 "metadata": {
  "kernelspec": {
   "display_name": "Python 3 (ipykernel)",
   "language": "python",
   "name": "python3"
  },
  "language_info": {
   "codemirror_mode": {
    "name": "ipython",
    "version": 3
   },
   "file_extension": ".py",
   "mimetype": "text/x-python",
   "name": "python",
   "nbconvert_exporter": "python",
   "pygments_lexer": "ipython3",
   "version": "3.12.7"
  }
 },
 "nbformat": 4,
 "nbformat_minor": 5
}
