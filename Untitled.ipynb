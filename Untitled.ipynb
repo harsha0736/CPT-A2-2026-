{
 "cells": [
  {
   "cell_type": "code",
   "execution_count": 3,
   "id": "88f1b796-66a2-4ba2-aef9-57078b2afeae",
   "metadata": {},
   "outputs": [
    {
     "name": "stdout",
     "output_type": "stream",
     "text": [
      "4\n",
      "3\n"
     ]
    }
   ],
   "source": [
    "##write a program to swap two variables using AND and OR with a easable empty buket\n",
    "a=3\n",
    "b=4\n",
    "temp=a\n",
    "a=(a|b) & b\n",
    "b=(temp|b)& temp\n",
    "print(a)\n",
    "print(b)"
   ]
  },
  {
   "cell_type": "code",
   "execution_count": null,
   "id": "7292d5e1-678b-4208-8cf8-fdeab695cbd1",
   "metadata": {},
   "outputs": [],
   "source": []
  }
 ],
 "metadata": {
  "kernelspec": {
   "display_name": "Python 3 (ipykernel)",
   "language": "python",
   "name": "python3"
  },
  "language_info": {
   "codemirror_mode": {
    "name": "ipython",
    "version": 3
   },
   "file_extension": ".py",
   "mimetype": "text/x-python",
   "name": "python",
   "nbconvert_exporter": "python",
   "pygments_lexer": "ipython3",
   "version": "3.12.7"
  }
 },
 "nbformat": 4,
 "nbformat_minor": 5
}
