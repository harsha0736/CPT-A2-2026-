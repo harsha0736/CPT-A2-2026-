{
 "cells": [
  {
   "cell_type": "markdown",
   "id": "882a2bb6-4a96-4816-963f-6269c3a933ba",
   "metadata": {},
   "source": [
    "exceptional handeling:\n",
    "errors-logical errors/syntax\n",
    "exceptions-sync async\n",
    "4/0\n",
    "1.exception -for base classes\n",
    "2.arthmetic error- math error\n",
    "3.zero Division Error-4/0\n",
    "4.stop iteration= next method or iterator not available/condition not available\n",
    "5.system exit-current os exit\n",
    "6.standard error= pre defined keyword\n",
    "7.EOF error= i/o till the end offile\n",
    "8.import error=file existing interrupt\n",
    "9.keyboardinterrupt-execution interrrupt\n",
    "10.nameError-\n",
    "11.valueError-\n",
    "12.IndexError-\n",
    "13.TypeError-\n",
    "14.IOError-\n",
    "15.SyntaxERROR-\n",
    "16.RuntimeError-\n",
    "17.IndentationError-\n",
    "18.attributeError-\n",
    "19.assertionError-\n",
    "\n",
    "\n",
    "try:\n",
    "    ---------"
   ]
  },
  {
   "cell_type": "code",
   "execution_count": null,
   "id": "517c2f07-9341-4c9c-9ee1-fa6a7fa56fb5",
   "metadata": {},
   "outputs": [],
   "source": [
    "print(11/0)\n"
   ]
  },
  {
   "cell_type": "code",
   "execution_count": 11,
   "id": "73632461-3fbd-4a16-a073-d4a569987810",
   "metadata": {},
   "outputs": [
    {
     "name": "stdin",
     "output_type": "stream",
     "text": [
      "enter numerator: 7\n",
      "enter denominator: 3\n"
     ]
    },
    {
     "name": "stdout",
     "output_type": "stream",
     "text": [
      "result: 2.3333333333333335\n"
     ]
    }
   ],
   "source": [
    "try:\n",
    "    num1=int(input(\"enter numerator:\"))\n",
    "    num2=int(input(\"enter denominator:\"))\n",
    "    output=num1/num2\n",
    "    print(\"result:\",output)\n",
    "except ZeroDivisionError:\n",
    "    print(\"cannot divide by zero.....\")\n",
    "    \n"
   ]
  },
  {
   "cell_type": "code",
   "execution_count": 17,
   "id": "c47c2544-b7e8-404a-9aee-43954cc05030",
   "metadata": {},
   "outputs": [
    {
     "name": "stdin",
     "output_type": "stream",
     "text": [
      "enter the file name: file1.txt\n"
     ]
    },
    {
     "name": "stdout",
     "output_type": "stream",
     "text": [
      "number from file 1\n"
     ]
    }
   ],
   "source": [
    "try:\n",
    "    filename=input(\"enter the file name:\")\n",
    "    file=open(filename,'r')\n",
    "    number=int(file.readline())\n",
    "    print(\"number from file\",number)\n",
    "    file.close()\n",
    "except FileNorFoundError:\n",
    "    print(\"file does not exist.....\")\n",
    "except ValueError:\n",
    "    print(\"file Does not have integer....\")\n",
    "except:\n",
    "    print(\"unkown Error......\")\n",
    "    \n"
   ]
  },
  {
   "cell_type": "code",
   "execution_count": 25,
   "id": "05593835-bdc8-45a8-b62d-465105afb4f3",
   "metadata": {},
   "outputs": [
    {
     "name": "stdin",
     "output_type": "stream",
     "text": [
      "enter a number: 7\n"
     ]
    },
    {
     "name": "stdout",
     "output_type": "stream",
     "text": [
      "squareRoot: 2.6458\n"
     ]
    }
   ],
   "source": [
    "import math\n",
    "try:\n",
    "    num=int(input(\"enter a number:\"))\n",
    "    if num<0:\n",
    "        raise ValueError(\"negitive number.....\")\n",
    "except ValueError:\n",
    "    print(\"enter positive number only.....\")\n",
    "else:\n",
    "    print(\"squareRoot:\",round(math.sqrt(num),4))\n"
   ]
  },
  {
   "cell_type": "code",
   "execution_count": 29,
   "id": "8c7b0e57-384c-4964-8359-782bc925d539",
   "metadata": {},
   "outputs": [
    {
     "name": "stdin",
     "output_type": "stream",
     "text": [
      "enter a number: 36\n"
     ]
    },
    {
     "name": "stdout",
     "output_type": "stream",
     "text": [
      "36\n",
      "Exception raised intentionally even o use......\n"
     ]
    }
   ],
   "source": [
    "import math\n",
    "try:\n",
    "    num=int(input(\"enter a number:\"))\n",
    "    print(num)\n",
    "    raise ValueError\n",
    "except:\n",
    "    print(\"Exception raised intentionally even o use......\")\n",
    "    "
   ]
  },
  {
   "cell_type": "code",
   "execution_count": 45,
   "id": "f04d0fe4-6de0-4a4e-8f17-9254d316cfce",
   "metadata": {},
   "outputs": [
    {
     "name": "stdin",
     "output_type": "stream",
     "text": [
      "enter numerator: e4r\n"
     ]
    }
   ],
   "source": [
    "import datetime\n",
    "try:\n",
    "    x=int(input(\"enter numerator:\"))\n",
    "    y=int(input(\"enter denominator:\"))\n",
    "    print(\"result:\",x/y)\n",
    "except (ZeroDivisionError) as e:\n",
    "    ct=datetime.datetime.now().strftime(\"%Y-%m-%d %H:%M:%S\")\n",
    "    txt=f\"[{ct}] Error:{str(e)} \\n\"\n",
    "    with open(\"data.txt\",'a') as file:\n",
    "        file.write(txt)\n",
    "\n",
    "except (ValueError) as e:\n",
    "    ct=datetime.datetime.now().strftime(\"%Y-%m-%d %H:%M:%S\")\n",
    "    txt=f\"[{ct}] Error:{str(e)} \\n\"\n",
    "    with open(\"data.txt\",'a') as file:\n",
    "        file.write(txt)"
   ]
  },
  {
   "cell_type": "code",
   "execution_count": null,
   "id": "06cd3c07-6d01-4bd1-bc3d-659a7fd053be",
   "metadata": {},
   "outputs": [],
   "source": []
  }
 ],
 "metadata": {
  "kernelspec": {
   "display_name": "Python 3 (ipykernel)",
   "language": "python",
   "name": "python3"
  },
  "language_info": {
   "codemirror_mode": {
    "name": "ipython",
    "version": 3
   },
   "file_extension": ".py",
   "mimetype": "text/x-python",
   "name": "python",
   "nbconvert_exporter": "python",
   "pygments_lexer": "ipython3",
   "version": "3.12.7"
  }
 },
 "nbformat": 4,
 "nbformat_minor": 5
}
