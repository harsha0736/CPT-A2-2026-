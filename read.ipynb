{
 "cells": [
  {
   "cell_type": "code",
   "execution_count": null,
   "id": "391b877b-0136-4968-96e0-0832cfea042f",
   "metadata": {},
   "outputs": [],
   "source": [
    "file handling:\n",
    "file\n",
    "type paths\n",
    "open/close\n",
    "reading\n",
    "writing\n",
    "appending data info the file\n",
    "file,directory\n",
    "os module methods\n",
    "\n",
    "relative\n",
    "absolute \n",
    "\n",
    "\n",
    "file types-ascii binary \n",
    "abc\n",
    "97899\n",
    "......................................................\n",
    "\n",
    "open()    -file=open(\" filename.format\"),\"mode\")\n",
    "close()\n",
    ".................................................................\n",
    "\n",
    "\n",
    "r-reading the file which has existed\n",
    "w-write data in a file/\n",
    "fileno()- file stream refresh\n",
    "readline/readlines\n",
    "truncate()\n",
    "rstrip()\n",
    "strip()\n",
    "\n",
    "\n",
    "\n",
    "program that accepts filename as an input\n",
    "from the user\n",
    "open the file and count the number of times a charecter appears in the file:\n"
   ]
  },
  {
   "cell_type": "code",
   "execution_count": 18,
   "id": "19030337-741b-450e-8c74-f5465a44e22f",
   "metadata": {},
   "outputs": [
    {
     "name": "stdout",
     "output_type": "stream",
     "text": [
      "Hello students......\n",
      "Good morning......\n",
      "how are you....\n",
      "how is it giong in your college.....\n",
      "\n"
     ]
    }
   ],
   "source": [
    "file=open(\"sample.txt\",\"r\")\n",
    "data=file.read()\n",
    "print(data)\n",
    "file.close()"
   ]
  },
  {
   "cell_type": "code",
   "execution_count": 16,
   "id": "4953d8b7-3533-4477-a594-5910707b3c9a",
   "metadata": {},
   "outputs": [
    {
     "name": "stdout",
     "output_type": "stream",
     "text": [
      "b'Hello students......\\n'\n"
     ]
    }
   ],
   "source": [
    "file=open(\"sample.txt\",\"rb\")\n",
    "data=file.readline()\n",
    "print(data)\n",
    "file.close()"
   ]
  },
  {
   "cell_type": "code",
   "execution_count": 22,
   "id": "8f09f0ef-57c7-48b7-8f89-c611a86e9cea",
   "metadata": {},
   "outputs": [
    {
     "name": "stdin",
     "output_type": "stream",
     "text": [
      "enter the filename: sample.txt\n",
      "enter a char: o\n"
     ]
    },
    {
     "name": "stdout",
     "output_type": "stream",
     "text": [
      "o appears 10 times in the file\n"
     ]
    }
   ],
   "source": [
    "#freq\n",
    "filename=input(\"enter the filename:\")\n",
    "with open(filename) as file:\n",
    "    text=file.read()\n",
    "    letter=input(\"enter a char:\")\n",
    "    c=0\n",
    "    for char in text:\n",
    "        if char==letter:\n",
    "            c+=1\n",
    "print(letter,\"appears\",c,\"times in the file\")            "
   ]
  },
  {
   "cell_type": "code",
   "execution_count": 24,
   "id": "1177dc31-23e5-453d-b230-39539c673c50",
   "metadata": {},
   "outputs": [
    {
     "name": "stdin",
     "output_type": "stream",
     "text": [
      "enter the filename: sample.txt\n",
      "enter a char: .\n"
     ]
    },
    {
     "name": "stdout",
     "output_type": "stream",
     "text": [
      ". appears 21 times in the file\n"
     ]
    }
   ],
   "source": [
    "#freq\n",
    "filename=input(\"enter the filename:\")\n",
    "with open(filename,'r') as file:\n",
    "    text=file.read()\n",
    "    letter=input(\"enter a char:\")\n",
    "    c=0\n",
    "    for char in text:\n",
    "        if char==letter:\n",
    "            c+=1\n",
    "print(letter,\"appears\",c,\"times in the file\")        "
   ]
  },
  {
   "cell_type": "code",
   "execution_count": 26,
   "id": "2975e640-2dcd-4d4d-8e55-4377481cb2f2",
   "metadata": {},
   "outputs": [
    {
     "name": "stdout",
     "output_type": "stream",
     "text": [
      "successfully renamed.......\n"
     ]
    }
   ],
   "source": [
    "import os\n",
    "os.rename(\"sample.txt\",\"harsha.txt\")\n",
    "print(\"successfully renamed.......\")\n"
   ]
  },
  {
   "cell_type": "code",
   "execution_count": 32,
   "id": "38e8fc5e-065c-4877-9a7e-be5a26ec8dcb",
   "metadata": {},
   "outputs": [
    {
     "name": "stdout",
     "output_type": "stream",
     "text": [
      "successfully.... gone to dogs\n"
     ]
    }
   ],
   "source": [
    "import os\n",
    "os.remove(\"test.txt\")\n",
    "print(\"successfully.... gone to dogs\")\n"
   ]
  },
  {
   "cell_type": "code",
   "execution_count": null,
   "id": "1d11703a-4b68-4298-81b6-1d6b3e950723",
   "metadata": {},
   "outputs": [],
   "source": []
  }
 ],
 "metadata": {
  "kernelspec": {
   "display_name": "Python 3 (ipykernel)",
   "language": "python",
   "name": "python3"
  },
  "language_info": {
   "codemirror_mode": {
    "name": "ipython",
    "version": 3
   },
   "file_extension": ".py",
   "mimetype": "text/x-python",
   "name": "python",
   "nbconvert_exporter": "python",
   "pygments_lexer": "ipython3",
   "version": "3.12.7"
  }
 },
 "nbformat": 4,
 "nbformat_minor": 5
}
