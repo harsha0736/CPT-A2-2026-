{
 "cells": [
  {
   "cell_type": "code",
   "execution_count": 2,
   "id": "3a149599",
   "metadata": {},
   "outputs": [
    {
     "name": "stdout",
     "output_type": "stream",
     "text": [
      "THAR\n",
      "160\n",
      "200\n"
     ]
    }
   ],
   "source": [
    "#excapsulatioin\n",
    "'''basic encapulation with attributes,private attributes \n",
    "1.__var,__x.__a\n",
    "self.__a\n",
    "'''\n",
    "\n",
    "class car:\n",
    "    def __init__(self,brand,speed):\n",
    "        self.brand=brand\n",
    "        self.__speed=speed\n",
    "    def get_speed(self):\n",
    "        return self.__speed\n",
    "    def set_speed(self,speed):\n",
    "        if speed>=0:\n",
    "            self.__speed=speed\n",
    "        else:\n",
    "            print(\"car is not moving\")\n",
    "            \n",
    "c=car(\"THAR\",160)\n",
    "print(c.brand)\n",
    "print(c.get_speed())\n",
    "c.set_speed(200)\n",
    "print(c.get_speed())\n",
    "c.set_speed(0)\n",
    "        "
   ]
  },
  {
   "cell_type": "code",
   "execution_count": 4,
   "id": "41b0707d",
   "metadata": {},
   "outputs": [
    {
     "name": "stdout",
     "output_type": "stream",
     "text": [
      "Harsha\n",
      "Name:Harsha,Age:21\n"
     ]
    }
   ],
   "source": [
    "#protected attributes\n",
    "class student:\n",
    "    def __init__(self,name,age):\n",
    "        self._name=name\n",
    "        self._age=age\n",
    "    def display_info(self):\n",
    "        print(f\"Name:{self._name},Age:{self._age}\")\n",
    "        \n",
    "s=student(\"Harsha\",21)\n",
    "print(s._name)\n",
    "s.display_info()"
   ]
  },
  {
   "cell_type": "code",
   "execution_count": 3,
   "id": "3474be1e",
   "metadata": {},
   "outputs": [
    {
     "name": "stdout",
     "output_type": "stream",
     "text": [
      "280000.0\n"
     ]
    }
   ],
   "source": [
    "#private methods\n",
    "\n",
    "class emp:\n",
    "    def __init__(self,name,sal):\n",
    "        self.name=name\n",
    "        self.__sal=sal\n",
    "    def __bonus(self):\n",
    "        return self.__sal*0.4\n",
    "    def pack(self):\n",
    "        return self.__sal+self.__bonus()\n",
    "\n",
    "e=emp(\"Durga\",200000)\n",
    "print(e.pack())"
   ]
  },
  {
   "cell_type": "code",
   "execution_count": 4,
   "id": "86f7e7c9",
   "metadata": {},
   "outputs": [
    {
     "name": "stdout",
     "output_type": "stream",
     "text": [
      "89.25\n",
      "Name:Harsha,GPA:89.25\n"
     ]
    }
   ],
   "source": [
    "''' caliculate the average of 4 subjects of a student by taking protected atributes,pass name and four subjects marks to\n",
    "class student \n",
    "find gpa and assign the avg to gpa\n",
    "name=\"$$$$$$$$\"\n",
    "marks=[99,79,84,95]\n",
    "output=average of grades=90.0\n",
    "output=name $$$$$,gpa=90.0'''\n",
    "\n",
    "\n",
    "\n",
    "class student:\n",
    "    def __init__(self,name,grades):\n",
    "        self._name=name\n",
    "        self._grades=grades\n",
    "        \n",
    "    def gpa(self):\n",
    "        if not self._grades:\n",
    "            return 0\n",
    "        return sum(self._grades)/len(self._grades)\n",
    "    def display_info(self):\n",
    "        print(f\"Name:{self._name},GPA:{self.gpa():.2f}\")\n",
    "        \n",
    "s=student(\"Harsha\",[99,79,84,95])    \n",
    "print(s.gpa())\n",
    "s.display_info()\n",
    "        "
   ]
  },
  {
   "cell_type": "code",
   "execution_count": null,
   "id": "8d5f80f9",
   "metadata": {},
   "outputs": [],
   "source": [
    "'''errors and exceptions'''\n",
    "'''built-in exceptions '''\n",
    "1.Exception\n",
    "2.StandardError\n",
    "3.SystemError-sys.exit()\n",
    "4.OverflowError\n",
    "5.ArthmeticError\n",
    "6.IndexError\n",
    "7.KeyError\n",
    "8.KeyboardInterupt\n",
    "9.StopIterationError\n",
    "10.EnvitonmentalError\n",
    "11.IOError\n",
    "12.NotImplementedError\n",
    "\n",
    "\n",
    "float(int())\n",
    "(str)float\n",
    "\n"
   ]
  },
  {
   "cell_type": "code",
   "execution_count": null,
   "id": "5008c210",
   "metadata": {},
   "outputs": [],
   "source": [
    "'''\n",
    "try:\n",
    "   stmt1\n",
    "   stmt2\n",
    "except exceptionname:\n",
    "stmt\n",
    " '''"
   ]
  },
  {
   "cell_type": "code",
   "execution_count": 1,
   "id": "1036d062",
   "metadata": {},
   "outputs": [
    {
     "name": "stdout",
     "output_type": "stream",
     "text": [
      "enter the numerator:10\n",
      "enter the denominator:20\n",
      "Quotient: 0.5\n"
     ]
    }
   ],
   "source": [
    "#handle zero exception \n",
    "num1=int(input(\"enter the numerator:\"))\n",
    "num2=int(input(\"enter the denominator:\"))\n",
    "try:\n",
    "    quo=num1/num2\n",
    "    print(\"Quotient:\",quo)\n",
    "except ZeroDivisionError:\n",
    "    print(\"Denominotor cannot be zero\")"
   ]
  },
  {
   "cell_type": "code",
   "execution_count": 5,
   "id": "422afd32",
   "metadata": {},
   "outputs": [
    {
     "name": "stdout",
     "output_type": "stream",
     "text": [
      "Enter a number:lll\n",
      "please enter carefully...\n"
     ]
    }
   ],
   "source": [
    "#multiple exception blocks \n",
    "\n",
    "try:\n",
    "    num=int(input(\"Enter a number:\"))\n",
    "    print(num**7)\n",
    "except (KeyboardInterrupt):\n",
    "    print(\"enter only numeric.....program end!!\")\n",
    "except (ValueError):\n",
    "    print(\"please enter carefully...\")"
   ]
  },
  {
   "cell_type": "code",
   "execution_count": 9,
   "id": "90662ad5",
   "metadata": {},
   "outputs": [
    {
     "name": "stdout",
     "output_type": "stream",
     "text": [
      "enter a number:kung\n",
      "Accessing from the block above\n",
      "end\n"
     ]
    }
   ],
   "source": [
    "try:\n",
    "    num=int(input(\"enter a number:\"))\n",
    "    print(num-55)\n",
    "except(KeyboardInterrupt,ValueError,TypeError):\n",
    "    print(\"Accessing from the block above\")\n",
    "print(\"end\")    "
   ]
  },
  {
   "cell_type": "code",
   "execution_count": null,
   "id": "6eb7847a",
   "metadata": {},
   "outputs": [],
   "source": []
  }
 ],
 "metadata": {
  "kernelspec": {
   "display_name": "Python 3 (ipykernel)",
   "language": "python",
   "name": "python3"
  },
  "language_info": {
   "codemirror_mode": {
    "name": "ipython",
    "version": 3
   },
   "file_extension": ".py",
   "mimetype": "text/x-python",
   "name": "python",
   "nbconvert_exporter": "python",
   "pygments_lexer": "ipython3",
   "version": "3.11.3"
  }
 },
 "nbformat": 4,
 "nbformat_minor": 5
}
