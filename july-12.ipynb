{
 "cells": [
  {
   "cell_type": "code",
   "execution_count": 30,
   "id": "4db1cedc-5a89-404d-9b5d-2fe6230d43b5",
   "metadata": {},
   "outputs": [
    {
     "name": "stdin",
     "output_type": "stream",
     "text": [
      "enter numbers seperated with space 5 2 9 3 3 \n"
     ]
    },
    {
     "name": "stdout",
     "output_type": "stream",
     "text": [
      "flip at 3: [9, 2, 5, 3, 3]\n",
      "flip at 5: [3, 3, 5, 2, 9]\n",
      "flip at 3: [5, 3, 3, 2, 9]\n",
      "flip at 4: [2, 3, 3, 5, 9]\n",
      "flip at 2: [3, 2, 3, 5, 9]\n",
      "flip at 3: [3, 2, 3, 5, 9]\n",
      "flip at 2: [2, 3, 3, 5, 9]\n",
      "sorted [2, 3, 3, 5, 9]\n"
     ]
    }
   ],
   "source": [
    "#pancake sort\n",
    "\n",
    "'''\n",
    "algo:\n",
    "1.start complete array and decrease tha size(n-1)\n",
    "2,for each size:\n",
    "a.find the index of max element\n",
    "b.flip the array with max element index\n",
    "c.flip the total array to the currect size\n",
    "max -> move to the end of the array  \n",
    "3.repeat step1 by n-2,n-3......\n",
    "for n th reduced element perform step-2 untill 0th index value respectively.....\n",
    "'''\n",
    "#code\n",
    "\n",
    "#arr=[88,9,0,5]\n",
    "\n",
    "def flip(arr,k):\n",
    "    return arr[:k+1][::-1]+arr[k+1:]\n",
    "def pancake(arr):\n",
    "    n=len(arr)\n",
    "    for size in range(n, 1, -1):\n",
    "        max_index=arr.index(max(arr[:size]))\n",
    "        if max_index !=size-1:\n",
    "            if max_index !=0:\n",
    "                arr=flip(arr,max_index)\n",
    "                print(f\"flip at {max_index+1}: {arr}\")\n",
    "            arr=flip(arr,size-1)\n",
    "            print(f\"flip at {size}: {arr}\")\n",
    "    return arr\n",
    "nums=list(map(int,input(\"enter numbers seperated with space\").split()))\n",
    "sorted_nums=pancake(nums)\n",
    "print(\"sorted\",sorted_nums)\n"
   ]
  },
  {
   "cell_type": "code",
   "execution_count": null,
   "id": "a163680a-1afe-46f6-8a6f-be4738087166",
   "metadata": {},
   "outputs": [],
   "source": [
    "file handling:\n",
    "file\n",
    "type paths\n",
    "open/close\n",
    "reading\n",
    "writing\n",
    "appending data info the file\n",
    "file,directory\n",
    "os module methods\n",
    "\n",
    "relative\n",
    "absolute \n",
    "\n",
    "\n",
    "file types-ascii binary \n",
    "abc\n",
    "97899\n",
    "......................................................\n",
    "\n",
    "open()    -file=open(\" filename.format\"),\"mode\")\n",
    "close()\n",
    ".................................................................\n",
    "\n"
   ]
  }
 ],
 "metadata": {
  "kernelspec": {
   "display_name": "Python 3 (ipykernel)",
   "language": "python",
   "name": "python3"
  },
  "language_info": {
   "codemirror_mode": {
    "name": "ipython",
    "version": 3
   },
   "file_extension": ".py",
   "mimetype": "text/x-python",
   "name": "python",
   "nbconvert_exporter": "python",
   "pygments_lexer": "ipython3",
   "version": "3.12.7"
  }
 },
 "nbformat": 4,
 "nbformat_minor": 5
}
