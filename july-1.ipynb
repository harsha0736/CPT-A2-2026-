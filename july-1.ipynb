{
 "cells": [
  {
   "cell_type": "code",
   "execution_count": null,
   "id": "4bf854dc-095c-44aa-9527-6969675540bf",
   "metadata": {},
   "outputs": [],
   "source": [
    "day-1\n",
    "1.array/list\n",
    "2.string\n",
    "3.stack\n",
    "4.linked list\n",
    "5.queue\n",
    "6.hashing/hashtable\n",
    "7.sets\n",
    "8.trees\n",
    "9.graphs\n",
    "10.heaps/priority queue\n",
    "11.trie-prefix\n",
    "12.recursion/backtracking\n",
    "13.searchinh\n",
    "14.sorting\n",
    "15.greedy/brute force\n",
    "---------------------------------------------------------------------\n",
    "searchings\n",
    "linear\n",
    "binary\n",
    "sentinel search\n",
    "Fibonacci search\n",
    "interpolation search\n",
    "----------------------------\n",
    "liear search:\n",
    "is sorted or unstored arrays\n",
    "[45,-9,77,32]\n",
    "1.arr of list of size n\n",
    "2.key for search element\n",
    "3.start with zero index\n",
    "4.compare arr[i]=key\n",
    "      arr[i]=key return index\n",
    "      else not(move o next index)\n",
    "5.repeat same step till n-1\n",
    "6.if not match return -1\n",
    "------------------------------\n",
    "binary search:\n",
    "1.array must be sorted \n",
    "2.array is divided in to 2 sepersate equvilent halfs\n",
    "\n",
    "set low & high 0->n-1\n",
    "condition low<=high\n",
    "mid=low+high//2\n",
    "arr[mid]==key return mid\n",
    "arr[mid<key low mid+1\n",
    "arr[mid]>key high mid-1\n",
    "not found return -1\n",
    "\n"
   ]
  },
  {
   "cell_type": "code",
   "execution_count": 7,
   "id": "44582b5a-6613-4817-96d4-42d6721cf157",
   "metadata": {},
   "outputs": [
    {
     "name": "stdout",
     "output_type": "stream",
     "text": [
      "10 20 25 30 40 50 \n",
      "\n",
      "10 20 25 40 \n",
      " 25 in array? True\n"
     ]
    }
   ],
   "source": [
    "#1\n",
    "''' #array operations\n",
    "\n",
    "program to consider a list arr=[10,20,30,40] and perform\n",
    "insert operand with 50 and 25 at position 2 respectively,\n",
    "delete 30 and traverse the array to fetch a number 25 is\n",
    "present or not '''\n",
    "\n",
    "arr=[10,20,30,40]\n",
    "#insert\n",
    "arr.append(50)\n",
    "arr.insert(2,25)\n",
    "#print(arr)\n",
    "for i in arr:\n",
    "    print(i,end=' ')\n",
    "#deletion\n",
    "arr.remove(30)\n",
    "arr.pop()\n",
    "print(\"\\n\")\n",
    "#print(arr)\n",
    "#traversal\n",
    "for i in arr:\n",
    "    print(i,end=' ')\n",
    "\n",
    "#searching\n",
    "print(\"\\n 25 in array?\",25 in arr)    "
   ]
  },
  {
   "cell_type": "code",
   "execution_count": 11,
   "id": "90fc2caa-ac10-4750-9780-19f4c257e3df",
   "metadata": {},
   "outputs": [
    {
     "name": "stdin",
     "output_type": "stream",
     "text": [
      "enter a name: malayalam\n"
     ]
    },
    {
     "name": "stdout",
     "output_type": "stream",
     "text": [
      "palindrome\n",
      "{'m': 2, 'a': 4, 'l': 2, 'y': 1}\n"
     ]
    }
   ],
   "source": [
    "#2\n",
    "''' program to check wether the given string is palindrome or not and count the\n",
    "palandromic characters which are repeated\n",
    "\n",
    "str=madam\n",
    "o/p:{'m':2,'a':2,'d':1}\n",
    "\n",
    "str=malayalam\n",
    "o/p:{'m':2,'a':4,'l':2,'y':1}\n",
    "'''\n",
    "text=input(\"enter a name:\")\n",
    "if text==text[::1]:\n",
    "    print(\"palindrome\")\n",
    "else:\n",
    "    print(\"not\")\n",
    "freq={}\n",
    "for ch in text:\n",
    "    freq[ch]=freq.get(ch,0)+1\n",
    "print(freq)    \n",
    "    \n",
    "    "
   ]
  },
  {
   "cell_type": "code",
   "execution_count": 21,
   "id": "1cc69599-e29e-4dab-a0bb-c9a88ff2391d",
   "metadata": {},
   "outputs": [
    {
     "name": "stdin",
     "output_type": "stream",
     "text": [
      "enter the size of array: 7\n"
     ]
    },
    {
     "name": "stdout",
     "output_type": "stream",
     "text": [
      "enter the elements:\n"
     ]
    },
    {
     "name": "stdin",
     "output_type": "stream",
     "text": [
      "element1: 11\n",
      "element2: 22\n",
      "element3: 33\n",
      "element4: 44\n",
      "element5: 55\n",
      "element6: 66\n",
      "element7: 77\n",
      "enter the element tpo search: 22\n"
     ]
    },
    {
     "name": "stdout",
     "output_type": "stream",
     "text": [
      "\n",
      " element 22 found at 1\n"
     ]
    }
   ],
   "source": [
    "#3\n",
    "\n",
    "def linear_search(arr,key):\n",
    "    for i in range(len(arr)):\n",
    "        if arr[i]==key:\n",
    "            return i\n",
    "    return -1       \n",
    "size=int(input(\"enter the size of array:\"))\n",
    "arr=[]\n",
    "print(\"enter the elements:\")\n",
    "for i in range(size):\n",
    "    num=int(input(f\"element{i+1}:\"))\n",
    "    arr.append(num)\n",
    "key=int(input(\"enter the element tpo search:\"))\n",
    "result=linear_search(arr,key)\n",
    "if result !=-1:\n",
    "    print(f\"\\n element {key} found at {result}\")\n",
    "else:\n",
    "    print(f\"\\n element {key} not found in the array\")\n",
    "    "
   ]
  },
  {
   "cell_type": "code",
   "execution_count": 1,
   "id": "eb89efc5-abad-4ccc-99e4-fcbdc38f7c8d",
   "metadata": {},
   "outputs": [
    {
     "name": "stdin",
     "output_type": "stream",
     "text": [
      "enter the size of array: 7\n"
     ]
    },
    {
     "name": "stdout",
     "output_type": "stream",
     "text": [
      "enter the elements:\n"
     ]
    },
    {
     "name": "stdin",
     "output_type": "stream",
     "text": [
      "element1: 1\n",
      "element2: 2\n",
      "element3: 3\n",
      "element4: 4\n",
      "element5: 5\n",
      "element6: 6\n",
      "element7: 7\n",
      "enter the element tpo search: 5\n"
     ]
    },
    {
     "name": "stdout",
     "output_type": "stream",
     "text": [
      "\n",
      " element 5 found at 4\n"
     ]
    }
   ],
   "source": [
    "#4\n",
    "\n",
    "def binary_search(arr,key):\n",
    "    low=0\n",
    "    high=len(arr)-1\n",
    "    while low<=high:\n",
    "        mid=(low+high)//2\n",
    "        if arr[mid]==key:\n",
    "            return mid\n",
    "        elif arr[mid]<key:\n",
    "            low=mid+1\n",
    "        else:\n",
    "            high=mid-1\n",
    "    return -1       \n",
    "size=int(input(\"enter the size of array:\"))\n",
    "arr=[]\n",
    "print(\"enter the elements:\")\n",
    "for i in range(size):\n",
    "    num=int(input(f\"element{i+1}:\"))\n",
    "    arr.append(num)\n",
    "key=int(input(\"enter the element tpo search:\"))\n",
    "result=binary_search(arr,key)\n",
    "if result !=-1:\n",
    "    print(f\"\\n element {key} found at {result}\")\n",
    "else:\n",
    "    print(f\"\\n element {key} not found in the array\")\n",
    "    \n"
   ]
  },
  {
   "cell_type": "code",
   "execution_count": null,
   "id": "de8b5a09-52e3-4426-817e-bcdb6b48fb2a",
   "metadata": {},
   "outputs": [],
   "source": []
  }
 ],
 "metadata": {
  "kernelspec": {
   "display_name": "Python 3 (ipykernel)",
   "language": "python",
   "name": "python3"
  },
  "language_info": {
   "codemirror_mode": {
    "name": "ipython",
    "version": 3
   },
   "file_extension": ".py",
   "mimetype": "text/x-python",
   "name": "python",
   "nbconvert_exporter": "python",
   "pygments_lexer": "ipython3",
   "version": "3.12.7"
  }
 },
 "nbformat": 4,
 "nbformat_minor": 5
}
