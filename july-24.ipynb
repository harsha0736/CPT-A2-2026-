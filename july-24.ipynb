{
 "cells": [
  {
   "cell_type": "code",
   "execution_count": null,
   "id": "0bd83099-ba84-4e2e-af07-f32c386d8d14",
   "metadata": {},
   "outputs": [],
   "source": [
    "deletiing operactions\n",
    "1.at end\n",
    "2.at beginning\n",
    "3.by value\n",
    "\n",
    "\n",
    "head -->10-->20-->30-->40 "
   ]
  },
  {
   "cell_type": "code",
   "execution_count": 17,
   "id": "ef1d7d52-1eda-433c-932e-36424108be9d",
   "metadata": {
    "scrolled": true
   },
   "outputs": [
    {
     "name": "stdout",
     "output_type": "stream",
     "text": [
      "\n",
      " LinkedList- Insert at beging...\n",
      "1.insetr\n",
      "2.display\n",
      "3.delete by value\n",
      "4.exit\n"
     ]
    },
    {
     "name": "stdin",
     "output_type": "stream",
     "text": [
      "enter your  choice: 1\n",
      "enter a value to insert: 11\n"
     ]
    },
    {
     "name": "stdout",
     "output_type": "stream",
     "text": [
      "\n",
      " LinkedList- Insert at beging...\n",
      "1.insetr\n",
      "2.display\n",
      "3.delete by value\n",
      "4.exit\n"
     ]
    },
    {
     "name": "stdin",
     "output_type": "stream",
     "text": [
      "enter your  choice: 1\n",
      "enter a value to insert: 22\n"
     ]
    },
    {
     "name": "stdout",
     "output_type": "stream",
     "text": [
      "\n",
      " LinkedList- Insert at beging...\n",
      "1.insetr\n",
      "2.display\n",
      "3.delete by value\n",
      "4.exit\n"
     ]
    },
    {
     "name": "stdin",
     "output_type": "stream",
     "text": [
      "enter your  choice: 1\n",
      "enter a value to insert: 33\n"
     ]
    },
    {
     "name": "stdout",
     "output_type": "stream",
     "text": [
      "\n",
      " LinkedList- Insert at beging...\n",
      "1.insetr\n",
      "2.display\n",
      "3.delete by value\n",
      "4.exit\n"
     ]
    },
    {
     "name": "stdin",
     "output_type": "stream",
     "text": [
      "enter your  choice: 1\n",
      "enter a value to insert: 44\n"
     ]
    },
    {
     "name": "stdout",
     "output_type": "stream",
     "text": [
      "\n",
      " LinkedList- Insert at beging...\n",
      "1.insetr\n",
      "2.display\n",
      "3.delete by value\n",
      "4.exit\n"
     ]
    },
    {
     "name": "stdin",
     "output_type": "stream",
     "text": [
      "enter your  choice: 1\n",
      "enter a value to insert: 55\n"
     ]
    },
    {
     "name": "stdout",
     "output_type": "stream",
     "text": [
      "\n",
      " LinkedList- Insert at beging...\n",
      "1.insetr\n",
      "2.display\n",
      "3.delete by value\n",
      "4.exit\n"
     ]
    },
    {
     "name": "stdin",
     "output_type": "stream",
     "text": [
      "enter your  choice: 2\n"
     ]
    },
    {
     "name": "stdout",
     "output_type": "stream",
     "text": [
      "11---22---33---44---55---None\n",
      "\n",
      " LinkedList- Insert at beging...\n",
      "1.insetr\n",
      "2.display\n",
      "3.delete by value\n",
      "4.exit\n"
     ]
    },
    {
     "name": "stdin",
     "output_type": "stream",
     "text": [
      "enter your  choice: 3\n",
      "enter the value,you want to delete: 33\n"
     ]
    },
    {
     "name": "stdout",
     "output_type": "stream",
     "text": [
      "33 delete from the ll\n",
      "\n",
      " LinkedList- Insert at beging...\n",
      "1.insetr\n",
      "2.display\n",
      "3.delete by value\n",
      "4.exit\n"
     ]
    },
    {
     "name": "stdin",
     "output_type": "stream",
     "text": [
      "enter your  choice: 2\n"
     ]
    },
    {
     "name": "stdout",
     "output_type": "stream",
     "text": [
      "11---22---44---55---None\n",
      "\n",
      " LinkedList- Insert at beging...\n",
      "1.insetr\n",
      "2.display\n",
      "3.delete by value\n",
      "4.exit\n"
     ]
    },
    {
     "name": "stdin",
     "output_type": "stream",
     "text": [
      "enter your  choice: 4\n"
     ]
    },
    {
     "name": "stdout",
     "output_type": "stream",
     "text": [
      "exit the operaction...\n"
     ]
    }
   ],
   "source": [
    "'''delete operaction by value'''\n",
    "class Node:\n",
    "    def __init__(self,data):\n",
    "        self.data=data\n",
    "        self.next=None\n",
    "class LinkedList:\n",
    "    def __init__(self):\n",
    "        self.head=None\n",
    "        \n",
    "    def iae(self,data):\n",
    "        newnode=Node(data)\n",
    "        if not self.head:\n",
    "            self.head=newnode\n",
    "            return  \n",
    "        current=self.head\n",
    "        while current.next:\n",
    "            current=current.next\n",
    "        current.next=newnode\n",
    "        \n",
    "    def deletevalue(self,key):\n",
    "        current=self.head\n",
    "        if not current:\n",
    "            print(\"empty LL\")\n",
    "            return\n",
    "        if current.data==key:\n",
    "            self.head=current.next\n",
    "            print(f\"{key} delete from the list\")\n",
    "            return\n",
    "        prev=None\n",
    "        while current and current.data != key:\n",
    "            prev=current\n",
    "            current=current.next\n",
    "        if not current:\n",
    "            print(f\"{key} not found in the LL\")\n",
    "            return\n",
    "        prev.next=current.next\n",
    "        print(f\"{key} delete from the LL\")\n",
    "    def display(self):\n",
    "        current=self.head\n",
    "        if not current:\n",
    "            print(\"LL-empty\")\n",
    "            return \n",
    "        while current:\n",
    "             print(current.data,end='---')\n",
    "             current=current.next\n",
    "        print(\"None\")  \n",
    "\n",
    "\n",
    "ll=LinkedList()\n",
    "while True:\n",
    "    print(\"\\n LinkedList- Insert at beging...\")\n",
    "    print(\"1.insetr\")\n",
    "    print(\"2.display\")\n",
    "    print(\"3.delete by value\")\n",
    "    print(\"4.exit\")\n",
    "    choice=input(\"enter your  choice:\")\n",
    "    if choice=='1':\n",
    "        data=int(input(\"enter a value to insert:\"))\n",
    "        ll.iae(data)\n",
    "    elif choice=='2':\n",
    "        ll.display()\n",
    "    elif choice=='3':\n",
    "        key=int(input(\"enter the value,you want to delete:\"))\n",
    "        ll.deletevalue(key)\n",
    "    elif choice=='4':\n",
    "        print(\"exit the operaction...\")\n",
    "        break\n",
    "    else:\n",
    "        print(\"enter only ...1/2/3/4\")\n",
    "\n",
    "\n",
    "\n",
    "\n"
   ]
  },
  {
   "cell_type": "code",
   "execution_count": 26,
   "id": "aaa5a1dd-6029-450a-82bf-f05aa019e0be",
   "metadata": {},
   "outputs": [
    {
     "name": "stdout",
     "output_type": "stream",
     "text": [
      "\n",
      " LinkedList- Insert at beging...\n",
      "1.Insetr\n",
      "2.DISPLAY\n",
      "3.delete\n",
      "4.exit\n"
     ]
    },
    {
     "name": "stdin",
     "output_type": "stream",
     "text": [
      "enter your  choice: 1\n",
      "enter a value to insert: 11\n"
     ]
    },
    {
     "name": "stdout",
     "output_type": "stream",
     "text": [
      "\n",
      " LinkedList- Insert at beging...\n",
      "1.Insetr\n",
      "2.DISPLAY\n",
      "3.delete\n",
      "4.exit\n"
     ]
    },
    {
     "name": "stdin",
     "output_type": "stream",
     "text": [
      "enter your  choice: 1\n",
      "enter a value to insert: 22\n"
     ]
    },
    {
     "name": "stdout",
     "output_type": "stream",
     "text": [
      "\n",
      " LinkedList- Insert at beging...\n",
      "1.Insetr\n",
      "2.DISPLAY\n",
      "3.delete\n",
      "4.exit\n"
     ]
    },
    {
     "name": "stdin",
     "output_type": "stream",
     "text": [
      "enter your  choice: 1\n",
      "enter a value to insert: 33\n"
     ]
    },
    {
     "name": "stdout",
     "output_type": "stream",
     "text": [
      "\n",
      " LinkedList- Insert at beging...\n",
      "1.Insetr\n",
      "2.DISPLAY\n",
      "3.delete\n",
      "4.exit\n"
     ]
    },
    {
     "name": "stdin",
     "output_type": "stream",
     "text": [
      "enter your  choice: 1\n",
      "enter a value to insert: 44\n"
     ]
    },
    {
     "name": "stdout",
     "output_type": "stream",
     "text": [
      "\n",
      " LinkedList- Insert at beging...\n",
      "1.Insetr\n",
      "2.DISPLAY\n",
      "3.delete\n",
      "4.exit\n"
     ]
    },
    {
     "name": "stdin",
     "output_type": "stream",
     "text": [
      "enter your  choice: 2\n"
     ]
    },
    {
     "name": "stdout",
     "output_type": "stream",
     "text": [
      "11---22---33---44---None\n",
      "\n",
      " LinkedList- Insert at beging...\n",
      "1.Insetr\n",
      "2.DISPLAY\n",
      "3.delete\n",
      "4.exit\n"
     ]
    },
    {
     "name": "stdin",
     "output_type": "stream",
     "text": [
      "enter your  choice: 3\n",
      "enter the value,you want to delete: 1\n"
     ]
    },
    {
     "ename": "TypeError",
     "evalue": "LinkedList.deletebegin() takes 1 positional argument but 2 were given",
     "output_type": "error",
     "traceback": [
      "\u001b[1;31m---------------------------------------------------------------------------\u001b[0m",
      "\u001b[1;31mTypeError\u001b[0m                                 Traceback (most recent call last)",
      "Cell \u001b[1;32mIn[26], line 54\u001b[0m\n\u001b[0;32m     52\u001b[0m \u001b[38;5;28;01melif\u001b[39;00m choice\u001b[38;5;241m==\u001b[39m\u001b[38;5;124m'\u001b[39m\u001b[38;5;124m3\u001b[39m\u001b[38;5;124m'\u001b[39m:\n\u001b[0;32m     53\u001b[0m     key\u001b[38;5;241m=\u001b[39m\u001b[38;5;28mint\u001b[39m(\u001b[38;5;28minput\u001b[39m(\u001b[38;5;124m\"\u001b[39m\u001b[38;5;124menter the value,you want to delete:\u001b[39m\u001b[38;5;124m\"\u001b[39m))\n\u001b[1;32m---> 54\u001b[0m     ll\u001b[38;5;241m.\u001b[39mdeletebegin(key)\n\u001b[0;32m     55\u001b[0m \u001b[38;5;28;01melif\u001b[39;00m choice\u001b[38;5;241m==\u001b[39m\u001b[38;5;124m'\u001b[39m\u001b[38;5;124m4\u001b[39m\u001b[38;5;124m'\u001b[39m:\n\u001b[0;32m     56\u001b[0m     \u001b[38;5;28mprint\u001b[39m(\u001b[38;5;124m\"\u001b[39m\u001b[38;5;124mexit the operaction...\u001b[39m\u001b[38;5;124m\"\u001b[39m)\n",
      "\u001b[1;31mTypeError\u001b[0m: LinkedList.deletebegin() takes 1 positional argument but 2 were given"
     ]
    }
   ],
   "source": [
    "'''delete beginning'''\n",
    "class Node:\n",
    "    def __init__(self,data):\n",
    "        self.data=data\n",
    "        self.next=None\n",
    "class LinkedList:\n",
    "    def __init__(self):\n",
    "        self.head=None\n",
    "        \n",
    "    def iae(self,data):\n",
    "        newnode=Node(data)\n",
    "        if not self.head:\n",
    "            self.head=newnode\n",
    "            return  \n",
    "        current=self.head\n",
    "        while current.next:\n",
    "            current=current.next\n",
    "        current.next=newnode\n",
    "        \n",
    "    def deletebegin(self):\n",
    "        if self.head is None:\n",
    "            print(\"empty==LL\")\n",
    "        else:\n",
    "            print(\"deletyed node from beginning\",self.hea.node)\n",
    "            self.head=self.head.next\n",
    "        \n",
    "      \n",
    "    def display(self):\n",
    "        current=self.head\n",
    "        if not current:\n",
    "            print(\"LL-empty\")\n",
    "            return \n",
    "        while current:\n",
    "            print(current.data,end='---')\n",
    "            current=current.next\n",
    "        print(\"None\")  \n",
    "\n",
    "\n",
    "ll=LinkedList()\n",
    "while True:\n",
    "    print(\"\\n LinkedList- Insert at beging...\")\n",
    "    print(\"1.Insetr\")\n",
    "    print(\"2.DISPLAY\")\n",
    "    print(\"3.delete\")\n",
    "    print(\"4.exit\")\n",
    "    choice=input(\"enter your  choice:\")\n",
    "    if choice=='1':\n",
    "        data=int(input(\"enter a value to insert:\"))\n",
    "        ll.iae(data)\n",
    "    elif choice=='2':\n",
    "        ll.display()\n",
    "    elif choice=='3':\n",
    "        key=int(input(\"enter the value,you want to delete:\"))\n",
    "        ll.deletebegin(key)\n",
    "    elif choice=='4':\n",
    "        print(\"exit the operaction...\")\n",
    "        break\n",
    "    else:\n",
    "        print(\"enter only ...1/2/3/4\")\n"
   ]
  },
  {
   "cell_type": "code",
   "execution_count": 30,
   "id": "36648255-03e9-4e84-a648-0864ff956caf",
   "metadata": {
    "collapsed": true,
    "jupyter": {
     "outputs_hidden": true
    }
   },
   "outputs": [
    {
     "name": "stdout",
     "output_type": "stream",
     "text": [
      "\n",
      " LinkedList- Insert at beging...\n",
      "1.insetr\n",
      "2.display\n",
      "3.delete by value\n",
      "4.exit\n"
     ]
    },
    {
     "name": "stdin",
     "output_type": "stream",
     "text": [
      "enter your  choice: 1\n",
      "enter a value to insert: 11\n"
     ]
    },
    {
     "name": "stdout",
     "output_type": "stream",
     "text": [
      "\n",
      " LinkedList- Insert at beging...\n",
      "1.insetr\n",
      "2.display\n",
      "3.delete by value\n",
      "4.exit\n"
     ]
    },
    {
     "name": "stdin",
     "output_type": "stream",
     "text": [
      "enter your  choice: 1\n",
      "enter a value to insert: 22\n"
     ]
    },
    {
     "name": "stdout",
     "output_type": "stream",
     "text": [
      "\n",
      " LinkedList- Insert at beging...\n",
      "1.insetr\n",
      "2.display\n",
      "3.delete by value\n",
      "4.exit\n"
     ]
    },
    {
     "name": "stdin",
     "output_type": "stream",
     "text": [
      "enter your  choice: 1\n",
      "enter a value to insert: 33\n"
     ]
    },
    {
     "name": "stdout",
     "output_type": "stream",
     "text": [
      "\n",
      " LinkedList- Insert at beging...\n",
      "1.insetr\n",
      "2.display\n",
      "3.delete by value\n",
      "4.exit\n"
     ]
    },
    {
     "name": "stdin",
     "output_type": "stream",
     "text": [
      "enter your  choice: 1\n",
      "enter a value to insert: 44\n"
     ]
    },
    {
     "name": "stdout",
     "output_type": "stream",
     "text": [
      "\n",
      " LinkedList- Insert at beging...\n",
      "1.insetr\n",
      "2.display\n",
      "3.delete by value\n",
      "4.exit\n"
     ]
    },
    {
     "name": "stdin",
     "output_type": "stream",
     "text": [
      "enter your  choice: 2\n"
     ]
    },
    {
     "name": "stdout",
     "output_type": "stream",
     "text": [
      "11---22---33---44---None\n",
      "\n",
      " LinkedList- Insert at beging...\n",
      "1.insetr\n",
      "2.display\n",
      "3.delete by value\n",
      "4.exit\n"
     ]
    },
    {
     "name": "stdin",
     "output_type": "stream",
     "text": [
      "enter your  choice: 3\n",
      "enter the value,you want to delete: 22\n"
     ]
    },
    {
     "ename": "AttributeError",
     "evalue": "'LinkedList' object has no attribute 'deletevalue'",
     "output_type": "error",
     "traceback": [
      "\u001b[1;31m---------------------------------------------------------------------------\u001b[0m",
      "\u001b[1;31mAttributeError\u001b[0m                            Traceback (most recent call last)",
      "Cell \u001b[1;32mIn[30], line 61\u001b[0m\n\u001b[0;32m     59\u001b[0m \u001b[38;5;28;01melif\u001b[39;00m choice\u001b[38;5;241m==\u001b[39m\u001b[38;5;124m'\u001b[39m\u001b[38;5;124m3\u001b[39m\u001b[38;5;124m'\u001b[39m:\n\u001b[0;32m     60\u001b[0m     key\u001b[38;5;241m=\u001b[39m\u001b[38;5;28mint\u001b[39m(\u001b[38;5;28minput\u001b[39m(\u001b[38;5;124m\"\u001b[39m\u001b[38;5;124menter the value,you want to delete:\u001b[39m\u001b[38;5;124m\"\u001b[39m))\n\u001b[1;32m---> 61\u001b[0m     ll\u001b[38;5;241m.\u001b[39mdeletevalue(key)\n\u001b[0;32m     62\u001b[0m \u001b[38;5;28;01melif\u001b[39;00m choice\u001b[38;5;241m==\u001b[39m\u001b[38;5;124m'\u001b[39m\u001b[38;5;124m4\u001b[39m\u001b[38;5;124m'\u001b[39m:\n\u001b[0;32m     63\u001b[0m     \u001b[38;5;28mprint\u001b[39m(\u001b[38;5;124m\"\u001b[39m\u001b[38;5;124mexit the operaction...\u001b[39m\u001b[38;5;124m\"\u001b[39m)\n",
      "\u001b[1;31mAttributeError\u001b[0m: 'LinkedList' object has no attribute 'deletevalue'"
     ]
    }
   ],
   "source": [
    "'''delete operaction by value'''\n",
    "class Node:\n",
    "    def __init__(self,data):\n",
    "        self.data=data\n",
    "        self.next=None\n",
    "class LinkedList:\n",
    "    def __init__(self):\n",
    "        self.head=None\n",
    "        \n",
    "    def iae(self,data):\n",
    "        newnode=Node(data)\n",
    "        if not self.head:\n",
    "            self.head=newnode\n",
    "            return  \n",
    "        current=self.head\n",
    "        while current.next:\n",
    "            current=current.next\n",
    "        current.next=newnode\n",
    "        \n",
    "    def deleteend(self):\n",
    "        if self.head is None:\n",
    "            print(\"empty LL\")\n",
    "            return\n",
    "        if self.head.next is none:\n",
    "            print(f\"delete last npode:{self.head.data}\")\n",
    "            return\n",
    "        current=self.head\n",
    "        while current.next.next:\n",
    "            current=current.next\n",
    "        print(f\"delete last node:{current.next.data}\")\n",
    "        current.next=Node\n",
    "\n",
    "    \n",
    "        \n",
    "    def display(self):\n",
    "        current=self.head\n",
    "        if not current:\n",
    "            print(\"LL-empty\")\n",
    "            return \n",
    "        while current:\n",
    "             print(current.data,end='---')\n",
    "             current=current.next\n",
    "        print(\"None\")  \n",
    "\n",
    "\n",
    "ll=LinkedList()\n",
    "while True:\n",
    "    print(\"\\n LinkedList- Insert at beging...\")\n",
    "    print(\"1.insetr\")\n",
    "    print(\"2.display\")\n",
    "    print(\"3.delete by value\")\n",
    "    print(\"4.exit\")\n",
    "    choice=input(\"enter your  choice:\")\n",
    "    if choice=='1':\n",
    "        data=int(input(\"enter a value to insert:\"))\n",
    "        ll.iae(data)\n",
    "    elif choice=='2':\n",
    "        ll.display()\n",
    "    elif choice=='3':\n",
    "        key=int(input(\"enter the value,you want to delete:\"))\n",
    "        ll.deletevalue(key)\n",
    "    elif choice=='4':\n",
    "        print(\"exit the operaction...\")\n",
    "        break\n",
    "    else:\n",
    "        print(\"enter only ...1/2/3/4\")\n"
   ]
  },
  {
   "cell_type": "code",
   "execution_count": 46,
   "id": "db428a88-b08e-46f6-9023-830c66b93f62",
   "metadata": {},
   "outputs": [
    {
     "name": "stdout",
     "output_type": "stream",
     "text": [
      "\n",
      "--------ATM Transaction Menu--------\n",
      "1.Deposit\n",
      "2.WithDraw\n",
      "3.History\n",
      "4.Exit\n"
     ]
    },
    {
     "name": "stdin",
     "output_type": "stream",
     "text": [
      "enter your choice: 1\n",
      "enter amount to deposit: 10000\n"
     ]
    },
    {
     "name": "stdout",
     "output_type": "stream",
     "text": [
      "\n",
      "--------ATM Transaction Menu--------\n",
      "1.Deposit\n",
      "2.WithDraw\n",
      "3.History\n",
      "4.Exit\n"
     ]
    },
    {
     "name": "stdin",
     "output_type": "stream",
     "text": [
      "enter your choice: 2\n",
      "enter amount to withdraw 3000\n"
     ]
    },
    {
     "name": "stdout",
     "output_type": "stream",
     "text": [
      "WithDraw of Rs.3000.0 recorded...\n",
      "\n",
      "--------ATM Transaction Menu--------\n",
      "1.Deposit\n",
      "2.WithDraw\n",
      "3.History\n",
      "4.Exit\n"
     ]
    },
    {
     "name": "stdin",
     "output_type": "stream",
     "text": [
      "enter your choice: 3\n"
     ]
    },
    {
     "name": "stdout",
     "output_type": "stream",
     "text": [
      "\n",
      " Transaction History \n",
      "1,Deposit- Rs10000.0\n",
      "2,WithDraw- Rs3000.0\n",
      "\n",
      "--------ATM Transaction Menu--------\n",
      "1.Deposit\n",
      "2.WithDraw\n",
      "3.History\n",
      "4.Exit\n"
     ]
    },
    {
     "name": "stdin",
     "output_type": "stream",
     "text": [
      "enter your choice: 4\n"
     ]
    },
    {
     "name": "stdout",
     "output_type": "stream",
     "text": [
      "end of transaction....exit!!!\n"
     ]
    }
   ],
   "source": [
    "class Transaction:\n",
    "    def __init__(self,transaction_type,amount):\n",
    "        self.type=transaction_type\n",
    "        self.amount=amount\n",
    "        self.next=None\n",
    "class Transactionhistory:\n",
    "    def __init__(self):\n",
    "        self.head=None\n",
    "    def add_transaction(self,transaction_type,amount):\n",
    "        nn=Transaction(transaction_type,amount)\n",
    "        if not self.head:\n",
    "            self.head=nn\n",
    "        else:\n",
    "            current=self.head\n",
    "            while current.next:\n",
    "                current=current.next\n",
    "            current.next=nn\n",
    "            print(f\"{transaction_type} of Rs.{amount} recorded...\")\n",
    "    def show_history(self):\n",
    "        if not self.head:\n",
    "            print(\"no transaction found....\")\n",
    "            return\n",
    "        print(\"\\n Transaction History \")\n",
    "        current=self.head\n",
    "        count=1\n",
    "        while current:\n",
    "            print(f\"{count},{current.type}- Rs{current.amount}\")\n",
    "            current=current.next\n",
    "            count+=1\n",
    "            \n",
    "            \n",
    "\n",
    "\n",
    "history=Transactionhistory()\n",
    "while True:\n",
    "    print(\"\\n--------ATM Transaction Menu--------\")\n",
    "    print(\"1.Deposit\")\n",
    "    print(\"2.WithDraw\")\n",
    "    print(\"3.History\")\n",
    "    print(\"4.Exit\")\n",
    "    choice=input(\"enter your choice:\")\n",
    "    if choice=='1':\n",
    "        amount=float(input(\"enter amount to deposit:\"))\n",
    "        history.add_transaction(\"Deposit\",amount)\n",
    "    elif choice=='2':\n",
    "        amount=float(input(\"enter amount to withdraw\"))\n",
    "        history.add_transaction(\"WithDraw\",amount)\n",
    "    elif choice=='3':\n",
    "        history.show_history()\n",
    "    elif choice=='4':\n",
    "        print(\"end of transaction....exit!!!\")\n",
    "        break\n",
    "    else:\n",
    "        print(\"choose 1/2/3/4\")\n",
    "         \n",
    "        \n",
    "        "
   ]
  },
  {
   "cell_type": "code",
   "execution_count": null,
   "id": "742c42a2-6ef0-4191-a6a4-58a18529cb8a",
   "metadata": {},
   "outputs": [],
   "source": [
    "'''consider a single linked list with insert at end nodes after insertion \n",
    "reverse the node to print\n",
    "input= 11-22-33-44-55-null\n",
    "output- 55-44-33-22-11-null'''\n",
    "\n"
   ]
  }
 ],
 "metadata": {
  "kernelspec": {
   "display_name": "Python 3 (ipykernel)",
   "language": "python",
   "name": "python3"
  },
  "language_info": {
   "codemirror_mode": {
    "name": "ipython",
    "version": 3
   },
   "file_extension": ".py",
   "mimetype": "text/x-python",
   "name": "python",
   "nbconvert_exporter": "python",
   "pygments_lexer": "ipython3",
   "version": "3.12.7"
  }
 },
 "nbformat": 4,
 "nbformat_minor": 5
}
