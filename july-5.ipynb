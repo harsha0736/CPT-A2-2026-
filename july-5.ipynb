{
 "cells": [
  {
   "cell_type": "code",
   "execution_count": null,
   "id": "43b541ed-0105-406a-b384-d68507bbb033",
   "metadata": {},
   "outputs": [],
   "source": [
    "sortings\n",
    "selecion \n",
    "insertion\n",
    "bubble\n",
    "quick\n",
    "counig\n",
    "radix\n",
    "heap\n"
   ]
  },
  {
   "cell_type": "code",
   "execution_count": null,
   "id": "28af3144-5ee8-49c6-8063-328a469c6afa",
   "metadata": {},
   "outputs": [],
   "source": [
    "1.start from the first element in the list/array\n",
    "2.arr[0]=min\n",
    "3.compare with all the remaining elements to find the real lowest element\n",
    "4.perform swapping with current position\n",
    "5.repeat the same with adding positional value for each,min check \n",
    "\n",
    "for ->0 to n-1:\n",
    "    min=i\n",
    "    for j-> i+1 to n:\n",
    "           if arr[j]<arr[min]\n",
    "                   swap\n",
    "min=i+1\n",
    "\n",
    "                       "
   ]
  },
  {
   "cell_type": "code",
   "execution_count": 3,
   "id": "6fc19c44-c151-4556-ae6a-6cef19afc7e6",
   "metadata": {},
   "outputs": [
    {
     "name": "stdin",
     "output_type": "stream",
     "text": [
      "enter the number of element: 7\n"
     ]
    },
    {
     "name": "stdout",
     "output_type": "stream",
     "text": [
      "enter 7 element\n"
     ]
    },
    {
     "name": "stdin",
     "output_type": "stream",
     "text": [
      " 17\n",
      " 14\n",
      " 15\n",
      " 18\n",
      " 19\n",
      " 12\n",
      " 1\n"
     ]
    },
    {
     "name": "stdout",
     "output_type": "stream",
     "text": [
      "sorted array [1, 12, 14, 15, 17, 18, 19]\n"
     ]
    }
   ],
   "source": [
    "#1\n",
    "def selection_sort(arr):\n",
    "    n=len(arr)\n",
    "    for i in range(n):\n",
    "        min_index=i\n",
    "        for j in range(i+1,n):\n",
    "            if arr[j]<arr[min_index]:\n",
    "                min_index=j\n",
    "        arr[i],arr[min_index]=arr[min_index],arr[i]\n",
    "    return arr             \n",
    "\n",
    "\n",
    "size=int(input(\"enter the number of element:\"))\n",
    "arr=[]\n",
    "print(\"enter\",size,\"element\")\n",
    "for _ in range(size):\n",
    "    num=int(input())\n",
    "    arr.append(num)\n",
    "\n",
    "result=selection_sort(arr)\n",
    "print(\"sorted array\",result)"
   ]
  },
  {
   "cell_type": "code",
   "execution_count": 5,
   "id": "4cb516c2-e09a-45d5-96f3-d9339e5466cb",
   "metadata": {},
   "outputs": [
    {
     "name": "stdin",
     "output_type": "stream",
     "text": [
      "enter the number of element: 7\n"
     ]
    },
    {
     "name": "stdout",
     "output_type": "stream",
     "text": [
      "enter 7 element\n"
     ]
    },
    {
     "name": "stdin",
     "output_type": "stream",
     "text": [
      " 1\n",
      " 2\n",
      " 3\n",
      " 4\n",
      " 5\n",
      " 6\n",
      " 7\n"
     ]
    },
    {
     "name": "stdout",
     "output_type": "stream",
     "text": [
      "sorted array [7, 6, 5, 4, 3, 2, 1]\n"
     ]
    }
   ],
   "source": [
    "#1.1\n",
    "def selection_sort(arr):\n",
    "    n=len(arr)\n",
    "    for i in range(n):\n",
    "        min_index=i\n",
    "        for j in range(i+1,n):\n",
    "            if arr[j]>arr[min_index]:\n",
    "                min_index=j\n",
    "                arr[i],arr[min_index]=arr[min_index],arr[i]\n",
    "    return arr             \n",
    "\n",
    "\n",
    "size=int(input(\"enter the number of element:\"))\n",
    "arr=[]\n",
    "print(\"enter\",size,\"element\")\n",
    "for _ in range(size):\n",
    "    num=int(input())\n",
    "    arr.append(num)\n",
    "\n",
    "result=selection_sort(arr)\n",
    "print(\"sorted array\",result)"
   ]
  },
  {
   "cell_type": "code",
   "execution_count": null,
   "id": "e5f52f42-b997-4ab9-8473-f728e6501778",
   "metadata": {},
   "outputs": [],
   "source": [
    "insertion sort:\n",
    "1.start from the second element(i=1)\n",
    "2.previous index value element check()\n",
    "3.shift larger element one position  to the right\n",
    "4.insert the current element in the correct position \n",
    "5.repeat untill list sorted \n",
    "\n",
    "for i-> 1 to n-1:\n",
    "        key=arr[i]\n",
    "        j=i-1\n",
    "        while j>=0 and arr[j]>key\n",
    "                arr[j+1]=arr[j]\n",
    "        arr[j+1]=key\n"
   ]
  },
  {
   "cell_type": "code",
   "execution_count": 7,
   "id": "b511f1e9-4438-4175-ac22-e70af69a0a18",
   "metadata": {},
   "outputs": [
    {
     "name": "stdin",
     "output_type": "stream",
     "text": [
      "enter the number of element: 7\n"
     ]
    },
    {
     "name": "stdout",
     "output_type": "stream",
     "text": [
      "enter 7 element\n"
     ]
    },
    {
     "name": "stdin",
     "output_type": "stream",
     "text": [
      " 1\n",
      " 5\n",
      " 7\n",
      " 3\n",
      " 9\n",
      " 2\n",
      " 6\n"
     ]
    },
    {
     "name": "stdout",
     "output_type": "stream",
     "text": [
      "sorted array [1, 2, 3, 5, 6, 7, 9]\n"
     ]
    }
   ],
   "source": [
    "#2\n",
    "def insertion_sort(arr):\n",
    "    for i in range(1,len(arr)):\n",
    "        key=arr[i]\n",
    "        j=i-1\n",
    "        while j>=0 and arr[j]>key:\n",
    "            arr[j+1]=arr[j]\n",
    "            j-=1\n",
    "        arr[j+1]=key\n",
    "    return arr    \n",
    "\n",
    "size=int(input(\"enter the number of element:\"))\n",
    "arr=[]\n",
    "print(\"enter\",size,\"element\")\n",
    "for _ in range(size):\n",
    "    num=int(input())\n",
    "    arr.append(num)\n",
    "result=insertion_sort(arr)\n",
    "print(\"sorted array\",result)"
   ]
  },
  {
   "cell_type": "code",
   "execution_count": 7,
   "id": "107a7248-2000-4294-bec7-68109103e0b5",
   "metadata": {},
   "outputs": [
    {
     "name": "stdin",
     "output_type": "stream",
     "text": [
      "enter the number of element: 4\n"
     ]
    },
    {
     "name": "stdout",
     "output_type": "stream",
     "text": [
      "enter 4 element\n"
     ]
    },
    {
     "name": "stdin",
     "output_type": "stream",
     "text": [
      " venky\n",
      " harsha\n",
      " anand\n",
      " durga\n"
     ]
    },
    {
     "name": "stdout",
     "output_type": "stream",
     "text": [
      "sorted array ['anand', 'durga', 'harsha', 'venky']\n"
     ]
    }
   ],
   "source": [
    "#2.2\n",
    "def insertion_sort(arr):\n",
    "    for i in range(1,len(arr)):\n",
    "        key=arr[i]\n",
    "        j=i-1\n",
    "        while j>=0 and arr[j]>key:\n",
    "            arr[j+1]=arr[j]\n",
    "            j-=1\n",
    "        arr[j+1]=key\n",
    "    return arr    \n",
    "\n",
    "size=int(input(\"enter the number of element:\"))\n",
    "arr=[]\n",
    "print(\"enter\",size,\"element\")\n",
    "for _ in range(size):\n",
    "    names=input()\n",
    "    arr.append(names)\n",
    "result=insertion_sort(arr)\n",
    "print(\"sorted array\",result)"
   ]
  },
  {
   "cell_type": "code",
   "execution_count": 1,
   "id": "308a1575-a531-49a1-9cdd-0f166fbf5833",
   "metadata": {},
   "outputs": [
    {
     "name": "stdout",
     "output_type": "stream",
     "text": [
      "['kiwi', 'date', 'apple', 'banana', 'cherry']\n"
     ]
    }
   ],
   "source": [
    "#2.3\n",
    "''' perform insertion sort on strings based on length of the words'''\n",
    "\n",
    "def insertion_sort_by_length(words):\n",
    "    for i in range(1, len(words)):\n",
    "        key = words[i]\n",
    "        j = i - 1\n",
    "        while j >= 0 and words[j] > key:\n",
    "            words[j + 1] = words[j]\n",
    "            j -= 1\n",
    "        words[j + 1] = key\n",
    "    return words\n",
    "\n",
    "words_list = [\"apple\", \"banana\", \"kiwi\", \"cherry\", \"date\"]\n",
    "sorted_words = insertion_sort_by_length(words_list)\n",
    "print(sorted_words) \n",
    "\n"
   ]
  },
  {
   "cell_type": "code",
   "execution_count": null,
   "id": "a216b077-c905-46e2-b186-d1d7ced368f3",
   "metadata": {},
   "outputs": [],
   "source": []
  },
  {
   "cell_type": "code",
   "execution_count": 7,
   "id": "1a433160-8392-4445-815a-ad8c7514f535",
   "metadata": {},
   "outputs": [
    {
     "name": "stdin",
     "output_type": "stream",
     "text": [
      "enter the number of element: 5\n"
     ]
    },
    {
     "name": "stdout",
     "output_type": "stream",
     "text": [
      "enter 5 element\n"
     ]
    },
    {
     "name": "stdin",
     "output_type": "stream",
     "text": [
      " apple\n",
      " mango\n",
      " goa\n",
      " banana\n",
      " grapes\n"
     ]
    },
    {
     "name": "stdout",
     "output_type": "stream",
     "text": [
      "sorted array ['goa', 'apple', 'mango', 'banana', 'grapes']\n"
     ]
    }
   ],
   "source": [
    "#2.4\n",
    "def insertion_sort(arr):\n",
    "    for i in range(1,len(arr)):\n",
    "        key=arr[i]\n",
    "        j=i-1\n",
    "        while j>=0 and len(arr[j])>len(key):\n",
    "            arr[j+1]=arr[j]\n",
    "            j-=1\n",
    "        arr[j+1]=key\n",
    "    return arr    \n",
    "\n",
    "size=int(input(\"enter the number of element:\"))\n",
    "arr=[]\n",
    "print(\"enter\",size,\"element\")\n",
    "for _ in range(size):\n",
    "    name=input()\n",
    "    arr.append(name)\n",
    "result=insertion_sort(arr)\n",
    "print(\"sorted array\",result)"
   ]
  },
  {
   "cell_type": "code",
   "execution_count": 13,
   "id": "46b956d9-ea99-4222-a4bb-a74e8de1d16a",
   "metadata": {},
   "outputs": [
    {
     "name": "stdin",
     "output_type": "stream",
     "text": [
      "enter a string:  dhoni\n"
     ]
    },
    {
     "name": "stdout",
     "output_type": "stream",
     "text": [
      "['d', 'h', 'o', 'n', 'i']\n",
      "['d', 'h', 'i', 'n', 'o']\n",
      "sorted_characters: dhino\n"
     ]
    }
   ],
   "source": [
    "#2.5\n",
    "def insertion_sort(arr):\n",
    "    for i in range(1,len(arr)):\n",
    "        key=arr[i]\n",
    "        j=i-1\n",
    "        while j>=0 and arr[j]>key:\n",
    "            arr[j+1]=arr[j]\n",
    "            j-=1\n",
    "        arr[j+1]=key\n",
    "    return arr    \n",
    "\n",
    "text=input(\"enter a string: \")\n",
    "ch=list(text)\n",
    "print(ch)\n",
    "sort_chars=insertion_sort(ch)\n",
    "print(ch)\n",
    "print(\"sorted_characters:\",''.join(ch))\n"
   ]
  },
  {
   "cell_type": "code",
   "execution_count": null,
   "id": "803a07da-d3f3-4c5f-b67d-7015ac42bfb8",
   "metadata": {},
   "outputs": [],
   "source": []
  }
 ],
 "metadata": {
  "kernelspec": {
   "display_name": "Python 3 (ipykernel)",
   "language": "python",
   "name": "python3"
  },
  "language_info": {
   "codemirror_mode": {
    "name": "ipython",
    "version": 3
   },
   "file_extension": ".py",
   "mimetype": "text/x-python",
   "name": "python",
   "nbconvert_exporter": "python",
   "pygments_lexer": "ipython3",
   "version": "3.12.7"
  }
 },
 "nbformat": 4,
 "nbformat_minor": 5
}
