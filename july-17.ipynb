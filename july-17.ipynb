{
 "cells": [
  {
   "cell_type": "code",
   "execution_count": 74,
   "id": "ddd65cb3-1a45-4297-9f52-d7a8ff3b2f3f",
   "metadata": {},
   "outputs": [
    {
     "name": "stdout",
     "output_type": "stream",
     "text": [
      "previous: harsha Davuluri\n",
      "Latest: harsha v\n"
     ]
    }
   ],
   "source": [
    "with open (\"file1.txt\", 'w') as f:\n",
    "    f.write(\"harsha Davuluri\")\n",
    "with open(\"file1.txt\",'r+') as f:\n",
    "    data=f.read()\n",
    "    print(\"previous:\",data)\n",
    "    new_data=data.replace(\"Davuluri\",\"vardhan\")\n",
    "    f.seek(0)\n",
    "    f.write(new_data)\n",
    "    f.truncate(8)\n",
    "with open(\"file1.txt\",'r')as f:\n",
    "    print(\"Latest:\",f.read())"
   ]
  },
  {
   "cell_type": "code",
   "execution_count": 76,
   "id": "efab2b5f-cbbd-4094-8750-d3d4d22fb725",
   "metadata": {},
   "outputs": [
    {
     "name": "stdout",
     "output_type": "stream",
     "text": [
      "previous: Hello Davuluri!!\n",
      "latest: Hello mr\n"
     ]
    }
   ],
   "source": [
    "with open (\"file1.txt\", 'w+') as f:\n",
    "    f.write(\"Hello Davuluri!!\")\n",
    "    f.seek(0)\n",
    "    data=f.read()\n",
    "    print(\"previous:\",data)\n",
    "    new_data=data.replace(\"Davuluri!!\",\"mr\")\n",
    "    f.seek(0)\n",
    "    f.write(new_data)\n",
    "    f.truncate()\n",
    "with open(\"file1.txt\",'r') as f:\n",
    "    print(\"latest:\",f.read())\n",
    "    "
   ]
  },
  {
   "cell_type": "code",
   "execution_count": 86,
   "id": "2183352f-bfce-4e7b-934f-fd8266ced479",
   "metadata": {},
   "outputs": [
    {
     "name": "stdout",
     "output_type": "stream",
     "text": [
      "current data:\n",
      " \n",
      " latest line........\n"
     ]
    }
   ],
   "source": [
    "with open(\"log.txt\",'a+') as f:\n",
    "    f.write(\"\\n latest line........\")\n",
    "    f.seek(0)\n",
    "    data=f.read()\n",
    "    print(\"current data:\\n\",data)"
   ]
  },
  {
   "cell_type": "code",
   "execution_count": 82,
   "id": "dcca09d1-fa76-409c-9db5-e299a0cabd3f",
   "metadata": {},
   "outputs": [],
   "source": [
    "with open(\"log.txt\",'r') as f:\n",
    "    lines=f.readlines()\n",
    "with open('log.txt','w') as f:\n",
    "    for line in lines:\n",
    "        if line.strip == 'four':\n",
    "            f.write(line)\n",
    "        \n",
    "    "
   ]
  },
  {
   "cell_type": "code",
   "execution_count": 125,
   "id": "1a7d2b56-5b5d-4353-8c27-8756782c099a",
   "metadata": {},
   "outputs": [],
   "source": [
    "with open(\"log1.txt\",'r') as f:\n",
    "    lines=f.readlines()\n",
    "with open('log1.txt','w') as f:\n",
    "    for line in lines:\n",
    "        if line.strip() != '4':\n",
    "            f.write(line)\n",
    "    "
   ]
  },
  {
   "cell_type": "code",
   "execution_count": 129,
   "id": "fea7d252-59f0-445f-9b9c-f8365bb07ff8",
   "metadata": {},
   "outputs": [
    {
     "name": "stdin",
     "output_type": "stream",
     "text": [
      "enter exact line: 5\n"
     ]
    }
   ],
   "source": [
    "#series number data -deletion\n",
    "ldel=input(\"enter exact line:\")\n",
    "with open(\"log1.txt\",'r') as f:\n",
    "    lines=f.readlines()\n",
    "with open('log1.txt','w') as f:\n",
    "    for line in lines:\n",
    "        if line.strip() != '4':\n",
    "            f.write(line)\n",
    "    "
   ]
  },
  {
   "cell_type": "code",
   "execution_count": null,
   "id": "fe8b9004-6fe3-4e85-b467-48542212647e",
   "metadata": {},
   "outputs": [],
   "source": [
    "fileno()\n",
    "flush()\n",
    "isatty()\n",
    "readline()\n"
   ]
  },
  {
   "cell_type": "code",
   "execution_count": 131,
   "id": "23add80b-445c-4c89-b332-701ab0307465",
   "metadata": {},
   "outputs": [
    {
     "name": "stdout",
     "output_type": "stream",
     "text": [
      "3\n"
     ]
    }
   ],
   "source": [
    "#fileno\n",
    "f=open(\"file1.txt\",'w')\n",
    "print(f.fileno())\n",
    "f.flush()"
   ]
  },
  {
   "cell_type": "code",
   "execution_count": 133,
   "id": "04f95bc3-8cee-48da-90e2-ec81c0718fa3",
   "metadata": {},
   "outputs": [
    {
     "name": "stdout",
     "output_type": "stream",
     "text": [
      "False\n"
     ]
    }
   ],
   "source": [
    "f=open(\"log.txt\",'w')\n",
    "f.write(\"hello\")\n",
    "print(f.isatty())"
   ]
  },
  {
   "cell_type": "code",
   "execution_count": 135,
   "id": "bc4223f3-c0bf-4ae6-9e0a-ec13ab9a7a4a",
   "metadata": {},
   "outputs": [
    {
     "name": "stdout",
     "output_type": "stream",
     "text": [
      "python version: 3.12.7 | packaged by Anaconda, Inc. | (main, Oct  4 2024, 13:17:27) [MSC v.1929 64 bit (AMD64)]\n"
     ]
    }
   ],
   "source": [
    "import sys\n",
    "print(\"python version:\",sys.version)\n"
   ]
  },
  {
   "cell_type": "code",
   "execution_count": 139,
   "id": "bf58b295-febf-42ae-8271-2e4326935478",
   "metadata": {},
   "outputs": [
    {
     "name": "stdin",
     "output_type": "stream",
     "text": [
      "enter age: 21\n"
     ]
    },
    {
     "name": "stdout",
     "output_type": "stream",
     "text": [
      "you are elgible.....\n"
     ]
    }
   ],
   "source": [
    "import sys\n",
    "age=int(input(\"enter age:\"))\n",
    "if age<18:\n",
    "    print(\"not elgible to drive...\")\n",
    "    sys.exit()\n",
    "print(\"you are elgible.....\")\n"
   ]
  },
  {
   "cell_type": "code",
   "execution_count": 141,
   "id": "8a564b05-7abd-4d1b-bdef-cd4dc0fe42b3",
   "metadata": {},
   "outputs": [
    {
     "name": "stdout",
     "output_type": "stream",
     "text": [
      "platform: win32\n"
     ]
    }
   ],
   "source": [
    "import sys\n",
    "print(\"platform:\",sys.platform)"
   ]
  },
  {
   "cell_type": "code",
   "execution_count": null,
   "id": "805ead0d-7e57-4765-a145-a4f0b49cb6b7",
   "metadata": {},
   "outputs": [],
   "source": [
    "sys.argv-------cmd line arg\n",
    "sys.exit()\n",
    "sys.stderr----error message\n",
    "sys.version\n",
    "sys.platform\n",
    "sys.recursionlimit()\n",
    "sys.stdout----output redirect "
   ]
  }
 ],
 "metadata": {
  "kernelspec": {
   "display_name": "Python 3 (ipykernel)",
   "language": "python",
   "name": "python3"
  },
  "language_info": {
   "codemirror_mode": {
    "name": "ipython",
    "version": 3
   },
   "file_extension": ".py",
   "mimetype": "text/x-python",
   "name": "python",
   "nbconvert_exporter": "python",
   "pygments_lexer": "ipython3",
   "version": "3.12.7"
  }
 },
 "nbformat": 4,
 "nbformat_minor": 5
}
