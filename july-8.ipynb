{
 "cells": [
  {
   "cell_type": "code",
   "execution_count": null,
   "id": "dba63c2b-5b8f-4106-a770-626826e9be08",
   "metadata": {},
   "outputs": [],
   "source": [
    "sortings:\n",
    "bubble\n",
    "counting sort"
   ]
  },
  {
   "cell_type": "code",
   "execution_count": 7,
   "id": "fab7aac2-36d3-4d97-8c1b-a62c947324fd",
   "metadata": {},
   "outputs": [
    {
     "name": "stdin",
     "output_type": "stream",
     "text": [
      "enter the number of elements: 5\n"
     ]
    },
    {
     "name": "stdout",
     "output_type": "stream",
     "text": [
      "enter the elements:\n"
     ]
    },
    {
     "name": "stdin",
     "output_type": "stream",
     "text": [
      " 33\n",
      " 88\n",
      " 1\n",
      " 77\n",
      " 22\n"
     ]
    },
    {
     "name": "stdout",
     "output_type": "stream",
     "text": [
      "original list: [33, 88, 1, 77, 22]\n",
      "bubblesort: [1, 22, 33, 77, 88]\n"
     ]
    }
   ],
   "source": [
    "''' BUBBLE sort\n",
    "algo\n",
    "1.start fro the beginning of the array/list.\n",
    "2.compare each pair to adjacent number\n",
    "3.if latest element is greater than ajscent perform swap\n",
    "4.repeat the [process till n-1.\n",
    "5.after each cycle/pass,largest unsorted element would br in correct pos\n",
    "6.repeat pass till all the element are sorted \n",
    "pseudo:\n",
    "for i ->0 to n-1:\n",
    "for j -> 0 to n-i-2\n",
    "if a[j]>a[j+1]\n",
    "swap(a[j],a[j+1])\n",
    "'''\n",
    "#code\n",
    "def bubble_sort(arr):\n",
    "    n=len(arr)\n",
    "    for i in range(n):\n",
    "        for j in range(0,n-i-1):\n",
    "            if arr[j] > arr[j+1]:\n",
    "                arr[j],arr[j+1]=arr[j+1],arr[j]\n",
    "size=int(input(\"enter the number of elements:\"))\n",
    "arr=[]\n",
    "print(\"enter the elements:\")\n",
    "for _ in range(size):\n",
    "    arr.append(int(input()))\n",
    "print(\"original list:\",arr)\n",
    "bubble_sort(arr)\n",
    "print(\"bubblesort:\",arr)"
   ]
  },
  {
   "cell_type": "code",
   "execution_count": 25,
   "id": "e7f638c1-c80a-461a-a402-35277921b069",
   "metadata": {},
   "outputs": [
    {
     "name": "stdin",
     "output_type": "stream",
     "text": [
      "enter the number of elements: 7\n"
     ]
    },
    {
     "name": "stdout",
     "output_type": "stream",
     "text": [
      "enter the elements:\n"
     ]
    },
    {
     "name": "stdin",
     "output_type": "stream",
     "text": [
      " 4\n",
      " 22\n",
      " 1\n",
      " 33\n",
      " 8\n",
      " 8\n",
      " 5\n"
     ]
    },
    {
     "name": "stdout",
     "output_type": "stream",
     "text": [
      "before: [4, 22, 1, 33, 8, 8, 5]\n",
      "after: [1, 4, 5, 8, 8, 22, 33]\n"
     ]
    }
   ],
   "source": [
    "'''\n",
    "counting sort:\n",
    "if a[j\n",
    "\n",
    "\n",
    "2-1-1-0-2-5-4-0-2-8-7-7-9-2-0-1-9\n",
    "\n",
    "non-comparision sort \n",
    "1.no -ve number\n",
    "2.no -longer number\n",
    "3.short confined numbers only ex: 0-100\n",
    "\n",
    "algorithm:\n",
    "1.find man min of array\n",
    "2.min!<0\n",
    "3.create a count array to store frequency of numbers\n",
    "4.modify the count array for each element to be store the sum of previous counts\n",
    "5.place the output array back to the original array\n",
    "\n",
    "pseudo code:\n",
    "countsort(arr,n):\n",
    "1.find the max in arr\n",
    "2.create count(0-max)\n",
    "3.for i -> 0 to n-1:\n",
    "count[a[i]] +=1\n",
    "4.for i -> to max_val:\n",
    "count[i]+=count[i-1]\n",
    "create o/p arr[n]\n",
    "5.for i>n-1 to 0:\n",
    "o/p[count[a[i]]-1]=arr[i]\n",
    "count[a[i]]-=1\n",
    "copy output to arr\n",
    "'''\n",
    "#code\n",
    "def csort(arr):\n",
    "    if not arr:\n",
    "        return[]\n",
    "    max_value=max(arr)\n",
    "    count=[0]*(max_value+1)\n",
    "    for num in arr:\n",
    "        count[num]+=1\n",
    "    for i in range(1,len(count)):\n",
    "        count[i]+=count[i-1]\n",
    "    output=[0]*len(arr)\n",
    "    for num in reversed(arr):\n",
    "        output[count[num]-1]=num\n",
    "        count[num]-=1\n",
    "    for i in range(len(arr)):\n",
    "        arr[i]=output[i]\n",
    "\n",
    "\n",
    "\n",
    "size=int(input(\"enter the number of elements:\"))\n",
    "arr=[]\n",
    "print(\"enter the elements:\")\n",
    "for _ in range(size):\n",
    "    arr.append(int(input()))\n",
    "print(\"before:\",arr)\n",
    "csort(arr)\n",
    "print(\"after:\",arr)\n"
   ]
  },
  {
   "cell_type": "raw",
   "id": "bd417471-a415-4816-b7c3-4b70a14ab1d4",
   "metadata": {},
   "source": [
    "'''\n",
    "counting sort:\n",
    "if a[j\n",
    "\n",
    "\n",
    "2-1-1-0-2-5-4-0-2-8-7-7-9-2-0-1-9\n",
    "\n",
    "non-comparision sort \n",
    "\n",
    "1.no -ve number\n",
    "2.no -longer number\n",
    "3.short confined numbers only ex: 0-100\n",
    "\n",
    "algorithm:\n",
    "1.find man min of array\n",
    "2.min!<0\n",
    "3.create a count array to store frequency of numbers\n",
    "4.modify the count array for each element to be store the sum of previous counts\n",
    "5.place the output array back to the original array\n",
    "\n",
    "pseudo code:\n",
    "countsort(arr,n):\n",
    "1.find the max in arr\n",
    "2.create count(0-max)\n",
    "3.for i -> 0 to n-1:\n",
    "count[a[i]] +=1\n",
    "4.for i -> to max_val:\n",
    "count[i]+=count[i-1]\n",
    "create o/p arr[n]\n",
    "5.for i>n-1 to 0:\n",
    "o/p[count[a[i]]-1]=arr[i]\n",
    "count[a[i]]-=1\n",
    "copy output to arr\n",
    "'''\n",
    "#code\n",
    "def csort(arr):\n",
    "    if not arr:\n",
    "        return[]\n",
    "    max_value=max(arr)\n",
    "    count=[0]*(max_value+1)\n",
    "    for num in arr:\n",
    "        count[num]+=1\n",
    "    for i in range(1,len(count)):\n",
    "        count[i]+=count[i-1]\n",
    "    output=[0]*len(arr)\n",
    "    for num in reversed(arr):\n",
    "        output[count[num]-1]=num\n",
    "        count[num]-=1\n",
    "    for i in range(len(arr)):\n",
    "        arr[i]=output[i]\n",
    "\n",
    "arr=[4,2,2,8,3,3,1]\n",
    "print(\"before:\",arr)\n",
    "csort(arr)\n",
    "print(\"after:\",arr)"
   ]
  },
  {
   "cell_type": "code",
   "execution_count": null,
   "id": "43c18017-25c1-4d49-bde9-0151b6e49230",
   "metadata": {},
   "outputs": [],
   "source": []
  },
  {
   "cell_type": "code",
   "execution_count": null,
   "id": "8fbea962-7a91-46d3-9686-5e98bae36b04",
   "metadata": {},
   "outputs": [],
   "source": []
  }
 ],
 "metadata": {
  "kernelspec": {
   "display_name": "Python 3 (ipykernel)",
   "language": "python",
   "name": "python3"
  },
  "language_info": {
   "codemirror_mode": {
    "name": "ipython",
    "version": 3
   },
   "file_extension": ".py",
   "mimetype": "text/x-python",
   "name": "python",
   "nbconvert_exporter": "python",
   "pygments_lexer": "ipython3",
   "version": "3.12.7"
  }
 },
 "nbformat": 4,
 "nbformat_minor": 5
}
