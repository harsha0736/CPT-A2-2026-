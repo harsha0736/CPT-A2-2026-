{
 "cells": [
  {
   "cell_type": "code",
   "execution_count": 15,
   "id": "8bf9f9f4-0cfc-4454-bc4d-201f534bade1",
   "metadata": {
    "scrolled": true
   },
   "outputs": [
    {
     "name": "stdout",
     "output_type": "stream",
     "text": [
      "the object value: 10\n",
      "the class var value: 1\n",
      "the object value: 20\n",
      "the class var value: 2\n",
      "the object value: 30\n",
      "the class var value: 3\n",
      "object with value 30 is going outof scope\n",
      "object with value 10 is going outof scope\n",
      "object with value 20 is going outof scope\n"
     ]
    }
   ],
   "source": [
    "#DELETE METHOD __del__()\n",
    "class abc():\n",
    "    classvar=0\n",
    "    def __init__(self,var):\n",
    "        abc.classvar+=1\n",
    "        self.var=var\n",
    "        print(\"the object value:\",var)\n",
    "        print(\"the class var value:\",abc.classvar)\n",
    "    def __del__(self):\n",
    "        abc.classvar-=1\n",
    "        print(\"object with value %d is going outof scope\" %self.var)\n",
    "obj1=abc(10)\n",
    "obj2=abc(20)\n",
    "obj3=abc(30)\n",
    "del obj1\n",
    "del obj2\n",
    "        "
   ]
  },
  {
   "cell_type": "code",
   "execution_count": null,
   "id": "8f949f7a-f349-494d-954f-dd094ad67b14",
   "metadata": {},
   "outputs": [],
   "source": [
    "'''\n",
    "special methods\n",
    "__rper__() \n",
    "__len__()\n",
    "__cmp__()\n",
    "__call__()\n",
    "__hash__()\n",
    "operational\n",
    "__gt__(),__ge__(), __lt__(),__le__(),__eq__(),__ne__(),__iter__(),__getitem__(),__setitem_()\n",
    "'''"
   ]
  },
  {
   "cell_type": "code",
   "execution_count": 41,
   "id": "8ea4edee-a46b-4648-b6ab-519c25ec1409",
   "metadata": {},
   "outputs": [
    {
     "name": "stdout",
     "output_type": "stream",
     "text": [
      "Before Modify\n",
      "[1, 2, 3, 4, 5, 6, 7, 8, 9]\n",
      "After Modify\n",
      "[1, 2, 3, 10, 5, 6, 7, 8, 9]\n"
     ]
    }
   ],
   "source": [
    "class num:\n",
    "    def __init__(self, mylist):\n",
    "        self.mylist = mylist  \n",
    "\n",
    "    def __getitem__(self, index):\n",
    "        return self.mylist[index] \n",
    "\n",
    "    def __setitem__(self, index, val): \n",
    "        self.mylist[index] = val\n",
    "\n",
    "numlist = num([1, 2, 3, 4, 5, 6, 7, 8, 9])\n",
    "print(\"Before Modify\")\n",
    "print(numlist.mylist)\n",
    "numlist[3] = 10  \n",
    "print(\"After Modify\")\n",
    "print(numlist.mylist)\n"
   ]
  },
  {
   "cell_type": "code",
   "execution_count": 47,
   "id": "29ce41ea-6370-4e47-9f57-2efa7950fd30",
   "metadata": {},
   "outputs": [
    {
     "name": "stdout",
     "output_type": "stream",
     "text": [
      "from class method: 10\n",
      "from class method: 100\n",
      "from main module: var = 10\n"
     ]
    }
   ],
   "source": [
    "#pudlic variable and private variables\n",
    "class abc:\n",
    "    def __init__(self, v1, v2): \n",
    "        self.v1 = v1   \n",
    "        self.__v2 = v2 \n",
    "    def display(self):  \n",
    "        print(\"from class method:\", self.v1)\n",
    "        print(\"from class method:\", self.__v2) \n",
    "obj = abc(10, 100)\n",
    "obj.display()  \n",
    "print(\"from main module: var =\", obj.v1)\n",
    "#print(\"from main module: var=\", obj.__v2)"
   ]
  },
  {
   "cell_type": "code",
   "execution_count": null,
   "id": "b9ab8be0-ef7b-4f4f-8ab7-0167a251994b",
   "metadata": {},
   "outputs": [],
   "source": []
  },
  {
   "cell_type": "code",
   "execution_count": 45,
   "id": "0221c873-3a7f-406c-9a92-82d317a41c50",
   "metadata": {},
   "outputs": [
    {
     "name": "stdout",
     "output_type": "stream",
     "text": [
      "object.__dict__= {'v1': 11, 'v2': 1.2345}\n",
      "object.__doc__= None\n",
      "class.__name__= abc\n",
      "object.__module__= __main__\n",
      "class.__bases__= (<class 'object'>,)\n"
     ]
    }
   ],
   "source": [
    "class abc():\n",
    "    def __init__(self,v1,v2):\n",
    "        self.v1=v1\n",
    "        self.v2=v2\n",
    "    def display(self):\n",
    "        print(\"var1:\",self.v1)\n",
    "        print(\"var2:\",self.v2)\n",
    "obj=abc(11,1.2345)\n",
    "print(\"object.__dict__=\",obj.__dict__)\n",
    "print(\"object.__doc__=\",obj.__doc__)\n",
    "print(\"class.__name__=\",abc.__name__)\n",
    "print(\"object.__module__=\",obj.__module__)\n",
    "print(\"class.__bases__=\",abc.__bases__)"
   ]
  },
  {
   "cell_type": "code",
   "execution_count": 54,
   "id": "4e8d1f32-aee0-4e6c-a420-e75d3e79ff4f",
   "metadata": {},
   "outputs": [
    {
     "name": "stdout",
     "output_type": "stream",
     "text": [
      "Base class-1\n",
      "Base class-2\n",
      "derived-class\n"
     ]
    }
   ],
   "source": [
    "#inheritance -multiple\n",
    "# code to demo the class from super class through constructor of base class\n",
    "\n",
    "class base1(object):\n",
    "    def __init__(self):\n",
    "        print(\"Base class-1\")\n",
    "        super(base1,self).__init__()\n",
    "class base2(object):\n",
    "    def __init__(self):\n",
    "        print(\"Base class-2\") \n",
    "class derived(base1,base2):\n",
    "    def __init__(self):\n",
    "        super(derived,self).__init__()\n",
    "        \n",
    "        print(\"derived-class\")\n",
    "d=derived()        \n",
    "        \n",
    "    "
   ]
  },
  {
   "cell_type": "code",
   "execution_count": null,
   "id": "8a0f2805-717c-4e6c-b6b7-3be25eccf67a",
   "metadata": {},
   "outputs": [],
   "source": [
    "class base1(object):\n",
    "    def __init__(self):\n",
    "        print(\"Base class-1\")\n",
    "        super(base1,self).__init__()\n",
    "class base2(object):\n",
    "    def __init__(self):\n",
    "        print(\"Base class-2\") \n",
    "class derived(base1,base2):\n",
    "    def __init__(self):\n",
    "        super(derived,self).__init__()\n",
    "        \n",
    "        print(\"derived-class\")\n",
    "d=derived()        \n",
    "        "
   ]
  },
  {
   "cell_type": "code",
   "execution_count": 58,
   "id": "b0136397-89b8-48c3-b61e-7e1cca583503",
   "metadata": {},
   "outputs": [
    {
     "name": "stdin",
     "output_type": "stream",
     "text": [
      "enter the value of a: 10\n",
      "enter the value of b: 20\n"
     ]
    },
    {
     "name": "stdout",
     "output_type": "stream",
     "text": [
      "addition: 30\n",
      "difference: -10\n",
      "product: 200\n"
     ]
    }
   ],
   "source": [
    "#multiple inheritence using in calc \n",
    "\n",
    "class addition:\n",
    "    def add(self,a,b):\n",
    "        return a+b\n",
    "class subtract:\n",
    "    def sub(self,a,b):\n",
    "        return a-b\n",
    "class calc(addition,subtract):\n",
    "    def mul(self,a,b):\n",
    "        return a*b\n",
    "c=calc()\n",
    "num1=int(input(\"enter the value of a:\"))\n",
    "num2=int(input(\"enter the value of b:\"))\n",
    "print(\"addition:\",c.add(num1,num2))\n",
    "print(\"difference:\",c.sub(num1,num2))\n",
    "print(\"product:\",c.mul(num1,num2))\n"
   ]
  },
  {
   "cell_type": "code",
   "execution_count": null,
   "id": "072748d4-b045-433a-9ca2-8d94df5128a1",
   "metadata": {},
   "outputs": [],
   "source": []
  }
 ],
 "metadata": {
  "kernelspec": {
   "display_name": "Python 3 (ipykernel)",
   "language": "python",
   "name": "python3"
  },
  "language_info": {
   "codemirror_mode": {
    "name": "ipython",
    "version": 3
   },
   "file_extension": ".py",
   "mimetype": "text/x-python",
   "name": "python",
   "nbconvert_exporter": "python",
   "pygments_lexer": "ipython3",
   "version": "3.12.7"
  }
 },
 "nbformat": 4,
 "nbformat_minor": 5
}
