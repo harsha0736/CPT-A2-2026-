{
 "cells": [
  {
   "cell_type": "code",
   "execution_count": 3,
   "id": "46f433da-90e4-4731-8f81-d7e0e954ae15",
   "metadata": {
    "scrolled": true
   },
   "outputs": [
    {
     "name": "stdout",
     "output_type": "stream",
     "text": [
      "[0, 1, 4, 9, 16]\n"
     ]
    }
   ],
   "source": [
    "sq=[x**2 for x in range(5)]\n",
    "print(sq)"
   ]
  },
  {
   "cell_type": "code",
   "execution_count": 5,
   "id": "5dbac30e-9891-49ad-a89e-4b3e8c714901",
   "metadata": {
    "scrolled": true
   },
   "outputs": [
    {
     "name": "stdout",
     "output_type": "stream",
     "text": [
      "[0, 1, 2, 3, 4]\n"
     ]
    }
   ],
   "source": [
    "sq=[x for x in range(5)]\n",
    "print(sq)"
   ]
  },
  {
   "cell_type": "code",
   "execution_count": 9,
   "id": "9b5975c0-d74b-415d-9f6b-3bba9c698ad0",
   "metadata": {
    "scrolled": true
   },
   "outputs": [
    {
     "name": "stdout",
     "output_type": "stream",
     "text": [
      "[0, 2, 4, 6, 8, 10, 12, 14]\n"
     ]
    }
   ],
   "source": [
    "sq=[x for x in range(15) if x%2==0]\n",
    "print(sq)"
   ]
  },
  {
   "cell_type": "code",
   "execution_count": 19,
   "id": "c978122d-a949-410f-abe8-86ff932c8742",
   "metadata": {
    "scrolled": true
   },
   "outputs": [
    {
     "name": "stdout",
     "output_type": "stream",
     "text": [
      "['APPLE', 'KIWI', 'BANNANA']\n"
     ]
    }
   ],
   "source": [
    "words=['apple','kiwi','bannana']\n",
    "upp=[word.upper() for word in words]\n",
    "print(upp)"
   ]
  },
  {
   "cell_type": "code",
   "execution_count": 23,
   "id": "42d1031b-4589-4024-a2a4-3f6c5b0ecc4b",
   "metadata": {
    "scrolled": true
   },
   "outputs": [
    {
     "name": "stdout",
     "output_type": "stream",
     "text": [
      "[1, 2, 3, 4, 5, 6, 7, 8, 9]\n"
     ]
    }
   ],
   "source": [
    "#nested list comprehension on 2d matrix to flatten\n",
    "matrix=[[1,2,3],[4,5,6],[7,8,9]]\n",
    "flat=[num for row in matrix for num in row]\n",
    "print(flat)"
   ]
  },
  {
   "cell_type": "code",
   "execution_count": 3,
   "id": "ae0c390a-7f2c-41bc-ace7-5b14d053c3eb",
   "metadata": {
    "scrolled": true
   },
   "outputs": [
    {
     "name": "stdout",
     "output_type": "stream",
     "text": [
      "[0, 0, 0, 1, 2]\n"
     ]
    }
   ],
   "source": [
    "#using logical condition , replace all the negitive numbers with zaros \n",
    "nums=[-2,-1,0,1,2]\n",
    "nonneg=[x if x>=0 else 0 for x in nums]\n",
    "print(nonneg)"
   ]
  },
  {
   "cell_type": "code",
   "execution_count": 6,
   "id": "5c3cce7c-9b40-4e98-b5cb-0acb96b4c809",
   "metadata": {
    "scrolled": true
   },
   "outputs": [
    {
     "name": "stdout",
     "output_type": "stream",
     "text": [
      "['a', 'k', 'b']\n"
     ]
    }
   ],
   "source": [
    "words=['apple','kiwi','bannana']\n",
    "fc=[word[0] for word in words]\n",
    "print(fc)"
   ]
  },
  {
   "cell_type": "code",
   "execution_count": 8,
   "id": "2adbc42e-5475-4979-a24e-c53da7468c2a",
   "metadata": {
    "scrolled": true
   },
   "outputs": [
    {
     "name": "stdout",
     "output_type": "stream",
     "text": [
      "[5, 4, 7]\n"
     ]
    }
   ],
   "source": [
    "words=['apple','kiwi','bannana']\n",
    "l=[len(word) for word in words]\n",
    "print(l)"
   ]
  },
  {
   "cell_type": "code",
   "execution_count": 14,
   "id": "1deddfbd-e236-4a8f-825c-77fa7931607f",
   "metadata": {
    "scrolled": true
   },
   "outputs": [
    {
     "name": "stdout",
     "output_type": "stream",
     "text": [
      "[1, 2, 3, 4, 5]\n"
     ]
    }
   ],
   "source": [
    "#filtering non values \n",
    "items=[1, None, 2, None, 3, 4, 5]\n",
    "valid=[x for x in items if x is not None]\n",
    "print(valid)"
   ]
  },
  {
   "cell_type": "code",
   "execution_count": 16,
   "id": "f1da851e-5bd6-46be-a0bc-707e4cbc857b",
   "metadata": {
    "scrolled": true
   },
   "outputs": [
    {
     "name": "stdout",
     "output_type": "stream",
     "text": [
      "[('harsha', 21), ('harsha', 22), ('durga', 21), ('durga', 22)]\n"
     ]
    }
   ],
   "source": [
    "names=['harsha','durga']\n",
    "ages=[21,22]\n",
    "pair=[(name,age)  for name in names for age in ages]\n",
    "print(pair)"
   ]
  },
  {
   "cell_type": "code",
   "execution_count": 18,
   "id": "13890d75-06c6-4b5b-a4a3-bb09a95412ed",
   "metadata": {
    "scrolled": true
   },
   "outputs": [
    {
     "name": "stdout",
     "output_type": "stream",
     "text": [
      "['e', 'o', 'i', 'u', 'u', 'u']\n"
     ]
    }
   ],
   "source": [
    "#give a string , create a list of all vowels in the string using list omprehens\n",
    "text=\"hello jinhuu sung\"\n",
    "v=[char for char in text if char.lower() in 'aeiou']\n",
    "print(v)\n"
   ]
  },
  {
   "cell_type": "code",
   "execution_count": null,
   "id": "9f60c267-5ace-4f8f-b604-1f91311d0fd5",
   "metadata": {},
   "outputs": [],
   "source": [
    "#patterns"
   ]
  },
  {
   "cell_type": "code",
   "execution_count": 22,
   "id": "c851855e-5c85-487f-a741-f008da5d6204",
   "metadata": {
    "scrolled": true
   },
   "outputs": [
    {
     "name": "stdin",
     "output_type": "stream",
     "text": [
      "enter the size of the matrix: 7\n"
     ]
    },
    {
     "name": "stdout",
     "output_type": "stream",
     "text": [
      "$ $ $ $ $ $ $ \n",
      "$ $ $ $ $ $ $ \n",
      "$ $ $ $ $ $ $ \n",
      "$ $ $ $ $ $ $ \n",
      "$ $ $ $ $ $ $ \n",
      "$ $ $ $ $ $ $ \n",
      "$ $ $ $ $ $ $ \n"
     ]
    }
   ],
   "source": [
    "size=int(input(\"enter the size of the matrix:\"))\n",
    "for i in range(size):\n",
    "    for j in range(size):\n",
    "        print('$', end=\" \")\n",
    "    print()    "
   ]
  },
  {
   "cell_type": "code",
   "execution_count": 24,
   "id": "16da56e4-2286-48bc-aaef-92f33c27cf68",
   "metadata": {
    "scrolled": true
   },
   "outputs": [
    {
     "name": "stdin",
     "output_type": "stream",
     "text": [
      "enter the size of the matrix: 7\n"
     ]
    },
    {
     "name": "stdout",
     "output_type": "stream",
     "text": [
      "$ $ $ $ $ $ $ \n",
      "$           $ \n",
      "$           $ \n",
      "$           $ \n",
      "$           $ \n",
      "$           $ \n",
      "$ $ $ $ $ $ $ \n"
     ]
    }
   ],
   "source": [
    "size=int(input(\"enter the size of the matrix:\"))\n",
    "for i in range(size):\n",
    "    for j in range(size):\n",
    "        if i==0 or j==0 or i==size-1 or j==size-1:\n",
    "            print('$', end=\" \")\n",
    "        else:\n",
    "            print(' ',end=' ')\n",
    "    print()    "
   ]
  },
  {
   "cell_type": "code",
   "execution_count": 26,
   "id": "f5e2c892-b6fe-4d57-842b-1fc239b1ee9c",
   "metadata": {
    "scrolled": true
   },
   "outputs": [
    {
     "name": "stdin",
     "output_type": "stream",
     "text": [
      "enter the size of the matrix: 7\n"
     ]
    },
    {
     "name": "stdout",
     "output_type": "stream",
     "text": [
      "$ $ $ $ $ $ $ \n",
      "$ $         $ \n",
      "$   $       $ \n",
      "$     $     $ \n",
      "$       $   $ \n",
      "$         $ $ \n",
      "$ $ $ $ $ $ $ \n"
     ]
    }
   ],
   "source": [
    "size=int(input(\"enter the size of the matrix:\"))\n",
    "for i in range(size):\n",
    "    for j in range(size):\n",
    "        if i==0 or j==0 or i==size-1 or j==size-1 or i==j or j==i:\n",
    "            print('$', end=\" \")\n",
    "        else:\n",
    "            print(' ',end=' ')\n",
    "    print()    "
   ]
  },
  {
   "cell_type": "code",
   "execution_count": 30,
   "id": "353fd628-f496-439c-b4bf-efef01486e3a",
   "metadata": {
    "scrolled": true
   },
   "outputs": [
    {
     "name": "stdin",
     "output_type": "stream",
     "text": [
      "enter the size of the matrix: 7\n"
     ]
    },
    {
     "name": "stdout",
     "output_type": "stream",
     "text": [
      "$ $ $ $ $ $ $ \n",
      "$ $       $ $ \n",
      "$   $   $   $ \n",
      "$     $     $ \n",
      "$   $   $   $ \n",
      "$ $       $ $ \n",
      "$ $ $ $ $ $ $ \n"
     ]
    }
   ],
   "source": [
    "size=int(input(\"enter the size of the matrix:\"))\n",
    "for i in range(size):\n",
    "    for j in range(size):\n",
    "        if i==0 or j==0 or i==size-1 or j==size-1 or i==j or (i+j)==size-1:\n",
    "            print('$', end=\" \")\n",
    "        else:\n",
    "            print(' ',end=' ')\n",
    "    print()    "
   ]
  },
  {
   "cell_type": "code",
   "execution_count": 34,
   "id": "a586ce66-5887-45d9-8e2b-4a0ce756db7a",
   "metadata": {
    "scrolled": true
   },
   "outputs": [
    {
     "name": "stdin",
     "output_type": "stream",
     "text": [
      "enter the size of the matrix: 7\n"
     ]
    },
    {
     "name": "stdout",
     "output_type": "stream",
     "text": [
      "$           $ \n",
      "  $       $   \n",
      "    $   $     \n",
      "      $       \n",
      "    $   $     \n",
      "  $       $   \n",
      "$           $ \n"
     ]
    }
   ],
   "source": [
    "size=int(input(\"enter the size of the matrix:\"))\n",
    "for i in range(size):\n",
    "    for j in range(size):\n",
    "        if i==j or (i+j)==size-1:\n",
    "            print('$', end=\" \")\n",
    "        else:\n",
    "            print(' ',end=' ')\n",
    "    print()    "
   ]
  },
  {
   "cell_type": "code",
   "execution_count": 115,
   "id": "b6f006d2-22a0-46ed-ad45-71168358dca7",
   "metadata": {
    "scrolled": true
   },
   "outputs": [
    {
     "name": "stdin",
     "output_type": "stream",
     "text": [
      "enter the size of the matrix: 7\n"
     ]
    },
    {
     "name": "stdout",
     "output_type": "stream",
     "text": [
      "$             \n",
      "$ $           \n",
      "$   $         \n",
      "$     $       \n",
      "$       $     \n",
      "$         $   \n",
      "$ $ $ $ $ $ $ \n"
     ]
    }
   ],
   "source": [
    "size=int(input(\"enter the size of the matrix:\"))\n",
    "for i in range(size):\n",
    "    for j in range(size):\n",
    "        if i==j or j==0 or i==size-1:\n",
    "            print('$', end=\" \")\n",
    "        else:\n",
    "            print(' ',end=' ')\n",
    "    print()    "
   ]
  },
  {
   "cell_type": "code",
   "execution_count": 46,
   "id": "45563538-5469-4ad3-9914-ac1e30c09136",
   "metadata": {
    "scrolled": true
   },
   "outputs": [
    {
     "name": "stdin",
     "output_type": "stream",
     "text": [
      "enter the size of the matrix: 7\n"
     ]
    },
    {
     "name": "stdout",
     "output_type": "stream",
     "text": [
      "$ $ $ $ $ $ $ \n",
      "  $         $ \n",
      "    $       $ \n",
      "      $     $ \n",
      "        $   $ \n",
      "          $ $ \n",
      "            $ \n"
     ]
    }
   ],
   "source": [
    "size=int(input(\"enter the size of the matrix:\"))\n",
    "for i in range(size):\n",
    "    for j in range(size):\n",
    "        if i==j or i==0 or j==size-1:\n",
    "            print('$', end=\" \")\n",
    "        else:\n",
    "            print(' ',end=' ')\n",
    "    print()    "
   ]
  },
  {
   "cell_type": "code",
   "execution_count": null,
   "id": "9924bf1c-350e-405a-8963-afef6b29f7d0",
   "metadata": {},
   "outputs": [],
   "source": [
    "#number manuplacions of patterns"
   ]
  },
  {
   "cell_type": "code",
   "execution_count": 48,
   "id": "9b69c22a-5cd4-4c0b-a342-9e268f845646",
   "metadata": {
    "scrolled": true
   },
   "outputs": [
    {
     "name": "stdout",
     "output_type": "stream",
     "text": [
      "1 \n",
      "2 3 \n",
      "4 5 6 \n",
      "7 8 9 10 \n",
      "11 12 13 14 15 \n",
      "16 17 18 19 20 21 \n",
      "22 23 24 25 26 27 28 \n"
     ]
    }
   ],
   "source": [
    "rows=7\n",
    "num=1\n",
    "for i in range(1,rows+1):\n",
    "    for j in range(1,i+1):\n",
    "        print(num,end=' ')\n",
    "        num+=1\n",
    "    print()    "
   ]
  },
  {
   "cell_type": "code",
   "execution_count": null,
   "id": "33536216-5db0-408e-9c87-7fc5d4566ed5",
   "metadata": {},
   "outputs": [],
   "source": [
    "#pascal triangle"
   ]
  },
  {
   "cell_type": "code",
   "execution_count": 113,
   "id": "e3a7279d-dd19-4877-a6f9-e24e1cd32100",
   "metadata": {
    "scrolled": true
   },
   "outputs": [
    {
     "name": "stdout",
     "output_type": "stream",
     "text": [
      "            @ \n",
      "          @ @ @ \n",
      "        @ @ @ @ @ \n",
      "      @ @ @ @ @ @ @ \n",
      "    @ @ @ @ @ @ @ @ @ \n",
      "  @ @ @ @ @ @ @ @ @ @ @ \n",
      "@ @ @ @ @ @ @ @ @ @ @ @ @ \n"
     ]
    }
   ],
   "source": [
    "rows=7\n",
    "for i in range(rows):\n",
    "    for j in range(rows-i-1):\n",
    "        print(\" \",end=' ')\n",
    "    for k in range(2*i +1):\n",
    "        print(\"@\",end=' ')\n",
    "    print()    "
   ]
  },
  {
   "cell_type": "code",
   "execution_count": 125,
   "id": "7486b49c-eaae-4652-8464-bd01a15ebae0",
   "metadata": {
    "scrolled": true
   },
   "outputs": [
    {
     "name": "stdout",
     "output_type": "stream",
     "text": [
      "            0   \n",
      "          0   0   \n",
      "        0   0   0   \n",
      "      0   0   0   0   \n",
      "    0   0   0   0   0   \n",
      "  0   0   0   0   0   0   \n",
      "0   0   0   0   0   0   0   \n"
     ]
    }
   ],
   "source": [
    "rows=7\n",
    "for i in range(rows):\n",
    "    for j in range(rows-i-1):\n",
    "        print(\" \",end=' ')\n",
    "    for k in range(i+1):\n",
    "        print(num, end='   ')\n",
    "        num=num*(i-k)//(k+1)\n",
    "    print()    "
   ]
  },
  {
   "cell_type": "code",
   "execution_count": null,
   "id": "53342301-a977-4441-a73b-66bebe98db93",
   "metadata": {
    "scrolled": true
   },
   "outputs": [],
   "source": [
    "#program to print alphabete in a lexciagrphical order (pyramid pattern)\n",
    "#A-Z\n",
    "def print_pyramid():\n",
    "    alphabet = 'ABCDEFGHIJKLMNOPQRSTUVWXYZ'\n",
    "    n = len(alphabet)\n",
    "    for i in range(n):\n",
    "        # Add leading spaces for pyramid shape\n",
    "        print(' '*(n-i-1),end=' ')\n",
    "        # Print letters in lexicographical order\n",
    "        print(alphabet[:i + 1])\n",
    "        \n",
    "print_pyramid()"
   ]
  },
  {
   "cell_type": "code",
   "execution_count": 147,
   "id": "81bc796e-3ed3-4003-9cfa-7a84ee22b180",
   "metadata": {},
   "outputs": [
    {
     "ename": "SyntaxError",
     "evalue": "invalid syntax. Perhaps you forgot a comma? (300995834.py, line 3)",
     "output_type": "error",
     "traceback": [
      "\u001b[1;36m  Cell \u001b[1;32mIn[147], line 3\u001b[1;36m\u001b[0m\n\u001b[1;33m    matrix= [[0] *n for_in range(n)]\u001b[0m\n\u001b[1;37m             ^\u001b[0m\n\u001b[1;31mSyntaxError\u001b[0m\u001b[1;31m:\u001b[0m invalid syntax. Perhaps you forgot a comma?\n"
     ]
    }
   ],
   "source": [
    "#spiral pattern/clock wise\n",
    "n=4\n",
    "matrix= [[0] *n for_in range(n)]\n",
    "num=1\n",
    "top=0\n",
    "bottom=n-1\n",
    "left=0\n",
    "right=-1\n",
    "while top<=bottom and left <=right:\n",
    "    for i in range(left,right+1):\n",
    "        matrix[top][i]=num\n",
    "        num+=1\n",
    "    top+=1\n",
    "    for i in range(top,bottom):\n",
    "        matrix[i][right]=num\n",
    "        num+=1\n",
    "    right-=1\n",
    "    for i in range(right,left-1,-1):\n",
    "        matrix[bottom][i]=num\n",
    "        num+=1\n",
    "    bottom-=1\n",
    "    for i in range(bottom,top-1,-1):\n",
    "        matrix[top][i]=num\n",
    "        num+=1\n",
    "    left+=1\n",
    "for row in matrix:\n",
    "    for val in row:\n",
    "        print(f\"{val:2}\",end=' ')\n",
    "    print()    \n",
    "    \n",
    "    "
   ]
  },
  {
   "cell_type": "code",
   "execution_count": null,
   "id": "e2de918b-1ab4-4b78-b6f3-0f3ca7d2d4cf",
   "metadata": {},
   "outputs": [],
   "source": []
  }
 ],
 "metadata": {
  "kernelspec": {
   "display_name": "Python 3 (ipykernel)",
   "language": "python",
   "name": "python3"
  },
  "language_info": {
   "codemirror_mode": {
    "name": "ipython",
    "version": 3
   },
   "file_extension": ".py",
   "mimetype": "text/x-python",
   "name": "python",
   "nbconvert_exporter": "python",
   "pygments_lexer": "ipython3",
   "version": "3.12.7"
  }
 },
 "nbformat": 4,
 "nbformat_minor": 5
}
