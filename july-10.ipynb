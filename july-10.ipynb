{
 "cells": [
  {
   "cell_type": "code",
   "execution_count": 23,
   "id": "cf3f371a-2d2f-4bcd-a8e4-be832a7fc88d",
   "metadata": {},
   "outputs": [
    {
     "name": "stdin",
     "output_type": "stream",
     "text": [
      "enter a single word sai\n"
     ]
    },
    {
     "name": "stdout",
     "output_type": "stream",
     "text": [
      "original string: sai\n",
      "sorted string: ais\n"
     ]
    }
   ],
   "source": [
    "#csort_str\n",
    "def csortString(s):\n",
    "    count=[0]*26\n",
    "    for char in s:\n",
    "        count[ord(char)-ord('a')]+=1\n",
    "    sorted_str= ''\n",
    "    for i in range(26):\n",
    "        sorted_str+= chr(i+ord('a'))*count[i]\n",
    "    return sorted_str\n",
    "    \n",
    "\n",
    "name=input(\"enter a single word\")\n",
    "sorted_name=csortString(name)\n",
    "print(\"original string:\",name)\n",
    "print(\"sorted string:\",sorted_name)"
   ]
  },
  {
   "cell_type": "code",
   "execution_count": 40,
   "id": "d67738bd-f3b0-462c-a732-001ef8d18c99",
   "metadata": {},
   "outputs": [
    {
     "name": "stdout",
     "output_type": "stream",
     "text": [
      "before sort [70, 45, 75, 90, 802, 24, 2, 66]\n",
      "after sort [2, 24, 45, 66, 70, 75, 90, 802]\n"
     ]
    }
   ],
   "source": [
    "#radix sort\n",
    "'''\n",
    "1.find the maximum number to determinenno of digits\n",
    "2.sect 10^0, for digit position\n",
    "3.increment digit position, w.r.t pass\n",
    "4.loop -> max num//exp>0\n",
    "   perfor count sort based on current digit\n",
    "   (num//exp)%10\n",
    "   multiply exp by 10 \n",
    "'''\n",
    "\n",
    "#code\n",
    "def count_sort(arr,exp):\n",
    "    n=len(arr)\n",
    "    output=[0]*n\n",
    "    count=[0]*10\n",
    "    for i in range(n):\n",
    "        index=(arr[i]//exp)%10\n",
    "        count[index]+=1\n",
    "    for i in range(1,10):\n",
    "        count[i]+=count[i-1]\n",
    "    i=n-1\n",
    "    while i>=0:\n",
    "        index=(arr[i]//exp)%10\n",
    "        output[count[index]-1]=arr[i]\n",
    "        count[index]-=1\n",
    "        i-=1\n",
    "    for i in range(n):\n",
    "        arr[i]=output[i]\n",
    "def radix_sort(arr):\n",
    "    max_num=max(arr)\n",
    "    exp=1\n",
    "    while max_num//exp>0:\n",
    "        count_sort(arr,exp)\n",
    "        exp *=10\n",
    "    \n",
    "\n",
    "arr=[70,45,75,90,802,24,2,66]\n",
    "print(\"before sort\",arr)\n",
    "radix_sort(arr)\n",
    "print(\"after sort\",arr)\n",
    "\n",
    "   "
   ]
  },
  {
   "cell_type": "code",
   "execution_count": null,
   "id": "31d2dd66-6cc7-4b16-8990-856938845620",
   "metadata": {},
   "outputs": [],
   "source": [
    "#pancake-sort\n"
   ]
  }
 ],
 "metadata": {
  "kernelspec": {
   "display_name": "Python 3 (ipykernel)",
   "language": "python",
   "name": "python3"
  },
  "language_info": {
   "codemirror_mode": {
    "name": "ipython",
    "version": 3
   },
   "file_extension": ".py",
   "mimetype": "text/x-python",
   "name": "python",
   "nbconvert_exporter": "python",
   "pygments_lexer": "ipython3",
   "version": "3.12.7"
  }
 },
 "nbformat": 4,
 "nbformat_minor": 5
}
