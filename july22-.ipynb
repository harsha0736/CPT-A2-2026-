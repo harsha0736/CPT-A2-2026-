{
 "cells": [
  {
   "cell_type": "code",
   "execution_count": null,
   "id": "b107d32c-9d55-4f51-9e63-bdd252cd7394",
   "metadata": {},
   "outputs": [],
   "source": [
    "linked lists:non contagrized\n",
    "1.single ll\n",
    "2.double ll\n",
    "3.circular s/d ll\n",
    "\n",
    "sll\n",
    "\n",
    "\n",
    "head---> nade1----->nade2----->tail/null\n",
    "\n",
    "class nade:\n",
    "    def __init__(self,data):\n",
    "        self.data=data\n",
    "        self.next=none\n",
    "\n",
    "\n",
    "\n",
    "insertion\n",
    "1.at begin\n",
    "2.at end\n",
    "\n",
    "        \n"
   ]
  },
  {
   "cell_type": "code",
   "execution_count": 21,
   "id": "77a4a5e3-4f2b-4a22-bb7e-fcf9053e7204",
   "metadata": {
    "scrolled": true
   },
   "outputs": [
    {
     "name": "stdout",
     "output_type": "stream",
     "text": [
      "\n",
      " LinkedList- Insert at beging...\n",
      "1.lnsetr\n",
      "2.display\n",
      "3.Exit\n"
     ]
    },
    {
     "name": "stdin",
     "output_type": "stream",
     "text": [
      "enter your  choice: 1\n",
      "enter a value to insert: 1\n"
     ]
    },
    {
     "name": "stdout",
     "output_type": "stream",
     "text": [
      "1 inserted from begin.\n",
      "\n",
      " LinkedList- Insert at beging...\n",
      "1.lnsetr\n",
      "2.display\n",
      "3.Exit\n"
     ]
    },
    {
     "name": "stdin",
     "output_type": "stream",
     "text": [
      "enter your  choice: 1\n",
      "enter a value to insert: 2\n"
     ]
    },
    {
     "name": "stdout",
     "output_type": "stream",
     "text": [
      "2 inserted from begin.\n",
      "\n",
      " LinkedList- Insert at beging...\n",
      "1.lnsetr\n",
      "2.display\n",
      "3.Exit\n"
     ]
    },
    {
     "name": "stdin",
     "output_type": "stream",
     "text": [
      "enter your  choice: 1\n",
      "enter a value to insert: 3\n"
     ]
    },
    {
     "name": "stdout",
     "output_type": "stream",
     "text": [
      "3 inserted from begin.\n",
      "\n",
      " LinkedList- Insert at beging...\n",
      "1.lnsetr\n",
      "2.display\n",
      "3.Exit\n"
     ]
    },
    {
     "name": "stdin",
     "output_type": "stream",
     "text": [
      "enter your  choice: 2\n"
     ]
    },
    {
     "name": "stdout",
     "output_type": "stream",
     "text": [
      "3---2---1---None\n",
      "\n",
      " LinkedList- Insert at beging...\n",
      "1.lnsetr\n",
      "2.display\n",
      "3.Exit\n"
     ]
    },
    {
     "name": "stdin",
     "output_type": "stream",
     "text": [
      "enter your  choice: 3\n"
     ]
    },
    {
     "name": "stdout",
     "output_type": "stream",
     "text": [
      "exit the operation...\n"
     ]
    }
   ],
   "source": [
    "class Node:\n",
    "    def __init__(self,data):\n",
    "        self.data=data\n",
    "        self.next=None\n",
    "class LinkedList:\n",
    "    def __init__(self):\n",
    "        self.head=None\n",
    "    def iab(self,data):\n",
    "        newnode=Node(data)\n",
    "        newnode.next=self.head\n",
    "        self.head=newnode\n",
    "        print(f\"{data} inserted from begin.\")\n",
    "    def display(self):\n",
    "        current=self.head\n",
    "        if not current:\n",
    "            print(\"LL-empty\")\n",
    "            return \n",
    "        while current:\n",
    "             print(current.data,end='---')\n",
    "             current=current.next\n",
    "        print(\"None\")    \n",
    "         \n",
    "\n",
    "ll=LinkedList()\n",
    "while True:\n",
    "    print(\"\\n LinkedList- Insert at beging...\")\n",
    "    print(\"1.lnsetr\")\n",
    "    print(\"2.display\")\n",
    "    print(\"3.Exit\")\n",
    "    choice=input(\"enter your  choice:\")\n",
    "    if choice=='1':\n",
    "        data=int(input(\"enter a value to insert:\"))\n",
    "        ll.iab(data)\n",
    "    elif choice=='2':\n",
    "        ll.display()\n",
    "    elif choice=='3':\n",
    "        print(\"exit the operation...\")\n",
    "        break\n",
    "    else:\n",
    "        print(\"enter only ...1,2,3\")\n",
    "        \n",
    "        \n"
   ]
  },
  {
   "cell_type": "code",
   "execution_count": 42,
   "id": "1e5eee6b-4ae7-4bdc-bb40-eb3f75317cce",
   "metadata": {
    "scrolled": true
   },
   "outputs": [
    {
     "name": "stdout",
     "output_type": "stream",
     "text": [
      "\n",
      " LinkedList- Insert at beging...\n",
      "1.lnsetr\n",
      "2.display\n",
      "3.Exit\n"
     ]
    },
    {
     "name": "stdin",
     "output_type": "stream",
     "text": [
      "enter your  choice: 1\n",
      "enter a value to insert: 11\n"
     ]
    },
    {
     "name": "stdout",
     "output_type": "stream",
     "text": [
      "11 inserted from begin.\n",
      "\n",
      " LinkedList- Insert at beging...\n",
      "1.lnsetr\n",
      "2.display\n",
      "3.Exit\n"
     ]
    },
    {
     "name": "stdin",
     "output_type": "stream",
     "text": [
      "enter your  choice: 22\n"
     ]
    },
    {
     "name": "stdout",
     "output_type": "stream",
     "text": [
      "enter only ...1,2,3\n",
      "\n",
      " LinkedList- Insert at beging...\n",
      "1.lnsetr\n",
      "2.display\n",
      "3.Exit\n"
     ]
    },
    {
     "name": "stdin",
     "output_type": "stream",
     "text": [
      "enter your  choice: 1\n",
      "enter a value to insert: 11\n"
     ]
    },
    {
     "name": "stdout",
     "output_type": "stream",
     "text": [
      "11 inserted from begin.\n",
      "\n",
      " LinkedList- Insert at beging...\n",
      "1.lnsetr\n",
      "2.display\n",
      "3.Exit\n"
     ]
    },
    {
     "name": "stdin",
     "output_type": "stream",
     "text": [
      "enter your  choice: 1\n",
      "enter a value to insert: 22\n"
     ]
    },
    {
     "name": "stdout",
     "output_type": "stream",
     "text": [
      "22 inserted from begin.\n",
      "\n",
      " LinkedList- Insert at beging...\n",
      "1.lnsetr\n",
      "2.display\n",
      "3.Exit\n"
     ]
    },
    {
     "name": "stdin",
     "output_type": "stream",
     "text": [
      "enter your  choice: 1\n",
      "enter a value to insert: 44\n"
     ]
    },
    {
     "name": "stdout",
     "output_type": "stream",
     "text": [
      "44 inserted from begin.\n",
      "\n",
      " LinkedList- Insert at beging...\n",
      "1.lnsetr\n",
      "2.display\n",
      "3.Exit\n"
     ]
    },
    {
     "name": "stdin",
     "output_type": "stream",
     "text": [
      "enter your  choice: 1\n",
      "enter a value to insert: 7\n"
     ]
    },
    {
     "name": "stdout",
     "output_type": "stream",
     "text": [
      "7 inserted from begin.\n",
      "\n",
      " LinkedList- Insert at beging...\n",
      "1.lnsetr\n",
      "2.display\n",
      "3.Exit\n"
     ]
    },
    {
     "name": "stdin",
     "output_type": "stream",
     "text": [
      "enter your  choice: 2\n"
     ]
    },
    {
     "name": "stdout",
     "output_type": "stream",
     "text": [
      "7---44---22---11---11---None\n",
      "\n",
      " LinkedList- Insert at beging...\n",
      "1.lnsetr\n",
      "2.display\n",
      "3.Exit\n"
     ]
    },
    {
     "name": "stdin",
     "output_type": "stream",
     "text": [
      "enter your  choice: 3\n"
     ]
    },
    {
     "name": "stdout",
     "output_type": "stream",
     "text": [
      "exit the operation...\n"
     ]
    }
   ],
   "source": [
    "class Node:\n",
    "    def __init__(self,data):\n",
    "        self.data=data\n",
    "        self.next=None\n",
    "class LinkedList:\n",
    "    def __init__(self):\n",
    "        self.head=None\n",
    "    def iae(self,data):\n",
    "        newnode=Node(data)\n",
    "        if self.head is None:\n",
    "            self.head=newnode\n",
    "            print(\"f{data} inserted at end / will be first node\")\n",
    "            return\n",
    "        current=self.head\n",
    "        while current.next:\n",
    "            current=current.next\n",
    "        current.next=newnode\n",
    "        print(\"{data} inserted last\")\n",
    "\n",
    "\n",
    "\n",
    "    \n",
    "\n",
    "    \n",
    "    def display(self):\n",
    "        current=self.head\n",
    "        if not current:\n",
    "            print(\"LL-empty\")\n",
    "            return \n",
    "        while current:\n",
    "             print(current.data,end='---')\n",
    "             current=current.next\n",
    "        print(\"None\")       \n",
    "ll=LinkedList()\n",
    "while True:\n",
    "    print(\"\\n LinkedList- Insert at beging...\")\n",
    "    print(\"1.lnsetr\")\n",
    "    print(\"2.display\")\n",
    "    print(\"3.Exit\")\n",
    "    choice=input(\"enter your  choice:\")\n",
    "    if choice=='1':\n",
    "        data=int(input(\"enter a value to insert:\"))\n",
    "        ll.iab(data)\n",
    "    elif choice=='2':\n",
    "        ll.display()\n",
    "    elif choice=='3':\n",
    "        print(\"exit the operation...\")\n",
    "        break\n",
    "    else:\n",
    "        print(\"enter only ...1,2,3\")\n",
    "        \n",
    "        \n"
   ]
  },
  {
   "cell_type": "code",
   "execution_count": null,
   "id": "73b3dfe4-2c15-4174-bbc6-79dbe58222f7",
   "metadata": {},
   "outputs": [],
   "source": [
    " def __init__(self):\n",
    "        self.head=None\n",
    "    def iab(self,data):\n",
    "        newnode=Node(data)\n",
    "        newnode.next=self.head\n",
    "        self.head=newnode\n",
    "        print(f\"{data} inserted from begin.\")\n",
    "    def display(self):\n",
    "        current=self.head\n",
    "        if not current:\n",
    "            print(\"LL-empty\")\n",
    "            return \n",
    "        while current:\n",
    "             print(current.data,end='---')\n",
    "             current=current.next\n",
    "        print(\"None\")    "
   ]
  },
  {
   "cell_type": "code",
   "execution_count": 63,
   "id": "9012c149-04d0-4953-b036-f1524817d21c",
   "metadata": {},
   "outputs": [
    {
     "name": "stdout",
     "output_type": "stream",
     "text": [
      "\n",
      " LinkedList- Insert at beging...\n",
      "1.lnsetr\n",
      "2.display\n",
      "3.Exit\n"
     ]
    },
    {
     "name": "stdin",
     "output_type": "stream",
     "text": [
      "enter your  choice: 1\n",
      "enter a value to insert: 100\n",
      "enter position starting from 1: 1\n"
     ]
    },
    {
     "name": "stdout",
     "output_type": "stream",
     "text": [
      "100 insert at pos-1\n",
      "\n",
      " LinkedList- Insert at beging...\n",
      "1.lnsetr\n",
      "2.display\n",
      "3.Exit\n"
     ]
    },
    {
     "name": "stdin",
     "output_type": "stream",
     "text": [
      "enter your  choice: 2\n"
     ]
    },
    {
     "name": "stdout",
     "output_type": "stream",
     "text": [
      "100---None\n",
      "\n",
      " LinkedList- Insert at beging...\n",
      "1.lnsetr\n",
      "2.display\n",
      "3.Exit\n"
     ]
    },
    {
     "name": "stdin",
     "output_type": "stream",
     "text": [
      "enter your  choice: 3\n"
     ]
    },
    {
     "name": "stdout",
     "output_type": "stream",
     "text": [
      "exit the operation...\n"
     ]
    }
   ],
   "source": [
    "class Node:\n",
    "    def __init__(self,data):\n",
    "        self.data=data\n",
    "        self.next=None\n",
    "class LinkedList:\n",
    "    def __init__(self):\n",
    "        self.head=None\n",
    "    def iap(self,data,pos):\n",
    "        newnode=Node(data)\n",
    "        if pos<=0:\n",
    "            print(\"position min>=1\")\n",
    "        if pos==1:\n",
    "            newnode.next==self.head\n",
    "            self.head=newnode\n",
    "            print(f\"{data} insert at pos-1\")\n",
    "            return\n",
    "        current=self.head\n",
    "        c=1\n",
    "        while current and c < pos-1:\n",
    "            current=current.next\n",
    "            c+=1\n",
    "        if not current:\n",
    "            print(\"not in  range...\")\n",
    "            return\n",
    "        newnode.next=current.next\n",
    "        current.next=newnode\n",
    "        print(\"f{data} inserted at position{pos}.\")\n",
    "        \n",
    "    def display(self):\n",
    "        current=self.head\n",
    "        if not current:\n",
    "            print(\"LL-empty\")\n",
    "            return \n",
    "        while current:\n",
    "             print(current.data,end='---')\n",
    "             current=current.next\n",
    "        print(\"None\")    \n",
    "ll=LinkedList()\n",
    "while True:\n",
    "    print(\"\\n LinkedList- Insert at beging...\")\n",
    "    print(\"1.lnsetr\")\n",
    "    print(\"2.display\")\n",
    "    print(\"3.Exit\")\n",
    "    choice=input(\"enter your  choice:\")\n",
    "    if choice=='1':\n",
    "        data=int(input(\"enter a value to insert:\"))\n",
    "        pos=int(input(\"enter position starting from 1:\"))\n",
    "        ll.iap(data,pos)\n",
    "    elif choice=='2':\n",
    "        ll.display()\n",
    "    elif choice=='3':\n",
    "        print(\"exit the operation...\")\n",
    "        break\n",
    "    else:\n",
    "        print(\"enter only ...1,2,3\")\n",
    "        \n",
    "        \n"
   ]
  },
  {
   "cell_type": "code",
   "execution_count": 71,
   "id": "beaa272a-a607-44fb-bf8f-8c2b806b3135",
   "metadata": {
    "scrolled": true
   },
   "outputs": [
    {
     "name": "stdout",
     "output_type": "stream",
     "text": [
      "\n",
      " LinkedList- Insert at beging...\n",
      "1.lnsetr\n",
      "2.display\n",
      "3.search\n",
      "4.exit\n"
     ]
    },
    {
     "name": "stdin",
     "output_type": "stream",
     "text": [
      "enter your  choice: 1\n",
      "enter a value to insert: 11\n"
     ]
    },
    {
     "name": "stdout",
     "output_type": "stream",
     "text": [
      "11 inserted from begin.\n",
      "\n",
      " LinkedList- Insert at beging...\n",
      "1.lnsetr\n",
      "2.display\n",
      "3.search\n",
      "4.exit\n"
     ]
    },
    {
     "name": "stdin",
     "output_type": "stream",
     "text": [
      "enter your  choice: 1\n",
      "enter a value to insert: 22\n"
     ]
    },
    {
     "name": "stdout",
     "output_type": "stream",
     "text": [
      "22 inserted from begin.\n",
      "\n",
      " LinkedList- Insert at beging...\n",
      "1.lnsetr\n",
      "2.display\n",
      "3.search\n",
      "4.exit\n"
     ]
    },
    {
     "name": "stdin",
     "output_type": "stream",
     "text": [
      "enter your  choice: 1\n",
      "enter a value to insert: 33\n"
     ]
    },
    {
     "name": "stdout",
     "output_type": "stream",
     "text": [
      "33 inserted from begin.\n",
      "\n",
      " LinkedList- Insert at beging...\n",
      "1.lnsetr\n",
      "2.display\n",
      "3.search\n",
      "4.exit\n"
     ]
    },
    {
     "name": "stdin",
     "output_type": "stream",
     "text": [
      "enter your  choice: 1\n",
      "enter a value to insert: 44\n"
     ]
    },
    {
     "name": "stdout",
     "output_type": "stream",
     "text": [
      "44 inserted from begin.\n",
      "\n",
      " LinkedList- Insert at beging...\n",
      "1.lnsetr\n",
      "2.display\n",
      "3.search\n",
      "4.exit\n"
     ]
    },
    {
     "name": "stdin",
     "output_type": "stream",
     "text": [
      "enter your  choice: 1\n",
      "enter a value to insert: 55\n"
     ]
    },
    {
     "name": "stdout",
     "output_type": "stream",
     "text": [
      "55 inserted from begin.\n",
      "\n",
      " LinkedList- Insert at beging...\n",
      "1.lnsetr\n",
      "2.display\n",
      "3.search\n",
      "4.exit\n"
     ]
    },
    {
     "name": "stdin",
     "output_type": "stream",
     "text": [
      "enter your  choice: 1\n",
      "enter a value to insert: 66\n"
     ]
    },
    {
     "name": "stdout",
     "output_type": "stream",
     "text": [
      "66 inserted from begin.\n",
      "\n",
      " LinkedList- Insert at beging...\n",
      "1.lnsetr\n",
      "2.display\n",
      "3.search\n",
      "4.exit\n"
     ]
    },
    {
     "name": "stdin",
     "output_type": "stream",
     "text": [
      "enter your  choice: 1\n",
      "enter a value to insert: 77\n"
     ]
    },
    {
     "name": "stdout",
     "output_type": "stream",
     "text": [
      "77 inserted from begin.\n",
      "\n",
      " LinkedList- Insert at beging...\n",
      "1.lnsetr\n",
      "2.display\n",
      "3.search\n",
      "4.exit\n"
     ]
    },
    {
     "name": "stdin",
     "output_type": "stream",
     "text": [
      "enter your  choice: 2\n"
     ]
    },
    {
     "name": "stdout",
     "output_type": "stream",
     "text": [
      "77---66---55---44---33---22---11---None\n",
      "\n",
      " LinkedList- Insert at beging...\n",
      "1.lnsetr\n",
      "2.display\n",
      "3.search\n",
      "4.exit\n"
     ]
    },
    {
     "name": "stdin",
     "output_type": "stream",
     "text": [
      "enter your  choice: 3\n",
      "enter the value,you want search: 44\n"
     ]
    },
    {
     "name": "stdout",
     "output_type": "stream",
     "text": [
      "44 found in the ll\n",
      "\n",
      " LinkedList- Insert at beging...\n",
      "1.lnsetr\n",
      "2.display\n",
      "3.search\n",
      "4.exit\n"
     ]
    },
    {
     "name": "stdin",
     "output_type": "stream",
     "text": [
      "enter your  choice: 4\n"
     ]
    },
    {
     "name": "stdout",
     "output_type": "stream",
     "text": [
      "exit the operaction...\n"
     ]
    }
   ],
   "source": [
    "class Node:\n",
    "    def __init__(self,data):\n",
    "        self.data=data\n",
    "        self.next=None\n",
    "class LinkedList:\n",
    "    def __init__(self):\n",
    "        self.head=None\n",
    "    def iae(self,data):\n",
    "        newnode=Node(data)\n",
    "        newnode.next=self.head\n",
    "        self.head=newnode\n",
    "        print(f\"{data} inserted from begin.\")\n",
    "\n",
    "    \n",
    "    def search(self,key):\n",
    "        pos=1\n",
    "        current=self.head\n",
    "        while current:\n",
    "            if current.data==key:\n",
    "                print(f\"{key} found in the ll\")\n",
    "                return True\n",
    "            current=current.next\n",
    "            pos+=1\n",
    "        print(f\"{key} not found in the ll\")\n",
    "        return False\n",
    "        \n",
    "    \n",
    "    def display(self):\n",
    "        current=self.head\n",
    "        if not current:\n",
    "            print(\"LL-empty\")\n",
    "            return \n",
    "        while current:\n",
    "             print(current.data,end='---')\n",
    "             current=current.next\n",
    "        print(\"None\")  \n",
    "\n",
    "\n",
    "ll=LinkedList()\n",
    "while True:\n",
    "    print(\"\\n LinkedList- Insert at beging...\")\n",
    "    print(\"1.lnsetr\")\n",
    "    print(\"2.display\")\n",
    "    print(\"3.search\")\n",
    "    print(\"4.exit\")\n",
    "    choice=input(\"enter your  choice:\")\n",
    "    if choice=='1':\n",
    "        data=int(input(\"enter a value to insert:\"))\n",
    "        ll.iae(data)\n",
    "    elif choice=='2':\n",
    "        ll.display()\n",
    "    elif choice=='3':\n",
    "        val=int(input(\"enter the value,you want search:\"))\n",
    "        ll.search(val)\n",
    "    elif choice=='4':\n",
    "        print(\"exit the operaction...\")\n",
    "        break\n",
    "    else:\n",
    "        print(\"enter only ...1/2/3/4\")\n",
    "        \n",
    "        \n",
    "        \n"
   ]
  },
  {
   "cell_type": "code",
   "execution_count": null,
   "id": "34a4ee5e-0951-4546-8316-ab4677caa4ad",
   "metadata": {},
   "outputs": [],
   "source": [
    "("
   ]
  }
 ],
 "metadata": {
  "kernelspec": {
   "display_name": "Python 3 (ipykernel)",
   "language": "python",
   "name": "python3"
  },
  "language_info": {
   "codemirror_mode": {
    "name": "ipython",
    "version": 3
   },
   "file_extension": ".py",
   "mimetype": "text/x-python",
   "name": "python",
   "nbconvert_exporter": "python",
   "pygments_lexer": "ipython3",
   "version": "3.12.7"
  }
 },
 "nbformat": 4,
 "nbformat_minor": 5
}
