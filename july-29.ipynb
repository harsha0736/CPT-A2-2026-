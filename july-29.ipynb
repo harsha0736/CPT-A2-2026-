{
 "cells": [
  {
   "cell_type": "code",
   "execution_count": 3,
   "id": "2350260f-e13e-4fe2-8c5a-f987c905ba8c",
   "metadata": {},
   "outputs": [
    {
     "name": "stdin",
     "output_type": "stream",
     "text": [
      "Enter the number of elements to insert at end: 4\n",
      "Enter element 1:  11\n",
      "Enter element 2:  22\n",
      "Enter element 3:  33\n",
      "Enter element 4:  44\n"
     ]
    },
    {
     "name": "stdout",
     "output_type": "stream",
     "text": [
      "Doubly Linked List:\n",
      "11<->22<->33<->44<->None\n",
      "value fro traversing backward...\n",
      "44<-->33<-->22<-->11<-->None\n"
     ]
    }
   ],
   "source": [
    "class Node:\n",
    "    def __init__(self, data):\n",
    "        self.data = data\n",
    "        self.prev = None\n",
    "        self.next = None\n",
    "\n",
    "class DoublyLinkedList:\n",
    "    def __init__(self):\n",
    "        self.head = None\n",
    "\n",
    "    def iae(self,data):\n",
    "        newnode = Node(data)\n",
    "        if self.head is None:\n",
    "            self.head=newnode\n",
    "            return\n",
    "        temp=self.head\n",
    "        while temp.next:\n",
    "            temp=temp.next\n",
    "        temp.next=newnode\n",
    "        newnode.prev=temp\n",
    "        \n",
    "    def backtraverse(self):\n",
    "        print(\"value fro traversing backward...\")\n",
    "        temp=self.head\n",
    "        if not temp:\n",
    "            print(\"empty list\")\n",
    "            return\n",
    "        while temp.next:\n",
    "            temp=temp.next\n",
    "        while temp:\n",
    "            print(temp.data,end='<-->')\n",
    "            temp=temp.prev\n",
    "        print(\"None\")   \n",
    "\n",
    "    def display(self):\n",
    "        temp = self.head\n",
    "        print(\"Doubly Linked List:\")\n",
    "        while temp:\n",
    "            print(temp.data, end=\"<->\")\n",
    "            temp = temp.next\n",
    "        print(\"None\")\n",
    "\n",
    "# Driver code\n",
    "dll = DoublyLinkedList()\n",
    "n = int(input(\"Enter the number of elements to insert at end:\"))\n",
    "for i in range(n):\n",
    "    val = int(input(f\"Enter element {i+1}: \"))\n",
    "    dll.iae(val)\n",
    "dll.display()\n",
    "dll.backtraverse()"
   ]
  },
  {
   "cell_type": "code",
   "execution_count": 11,
   "id": "c483bebd-5d2e-4a8e-8a56-853efc235af2",
   "metadata": {},
   "outputs": [
    {
     "name": "stdin",
     "output_type": "stream",
     "text": [
      "Enter number of elements to insert at beginning:  4\n",
      "Enter element 1:  11\n",
      "Enter element 2:  22\n",
      "Enter element 3:  33\n",
      "Enter element 4:  44\n"
     ]
    },
    {
     "name": "stdout",
     "output_type": "stream",
     "text": [
      "Doubly Linked List (Forward):\n",
      "44 <-> 33 <-> 22 <-> 11 <-> None\n",
      "Doubly Linked List (Backward):\n",
      "11 <-> 22 <-> 33 <-> 44 <-> None\n"
     ]
    }
   ],
   "source": [
    "class Node:\n",
    "    def __init__(self, data):\n",
    "        self.data = data\n",
    "        self.prev = None\n",
    "        self.next = None\n",
    "\n",
    "class DoublyLinkedList:\n",
    "    def __init__(self):\n",
    "        self.head = None\n",
    "\n",
    "    def insert_at_beginning(self, data):\n",
    "        new_node = Node(data)\n",
    "        new_node.next = self.head\n",
    "        if self.head is not None:\n",
    "            self.head.prev = new_node\n",
    "        self.head = new_node\n",
    "\n",
    "    def display_forward(self):\n",
    "        print(\"Doubly Linked List (Forward):\")\n",
    "        temp = self.head\n",
    "        if not temp:\n",
    "            print(\"List is empty.\")\n",
    "            return\n",
    "        while temp:\n",
    "            print(temp.data, end=\" <-> \")\n",
    "            temp = temp.next\n",
    "        print(\"None\")\n",
    "\n",
    "    def display_backward(self):\n",
    "        print(\"Doubly Linked List (Backward):\")\n",
    "        temp = self.head\n",
    "        if not temp:\n",
    "            print(\"List is empty.\")\n",
    "            return\n",
    "        \n",
    "        while temp.next:\n",
    "            temp = temp.next\n",
    "        while temp:\n",
    "            print(temp.data, end=\" <-> \")\n",
    "            temp = temp.prev\n",
    "        print(\"None\")\n",
    "\n",
    "#Driver Code\n",
    "dll = DoublyLinkedList()\n",
    "n = int(input(\"Enter number of elements to insert at beginning: \"))\n",
    "for i in range(n):\n",
    "    val = int(input(f\"Enter element {i+1}: \"))\n",
    "    dll.insert_at_beginning(val)\n",
    "\n",
    "dll.display_forward()\n",
    "dll.display_backward()\n"
   ]
  },
  {
   "cell_type": "code",
   "execution_count": 1,
   "id": "e60c8081-c64d-468e-b5ec-c34963346532",
   "metadata": {},
   "outputs": [
    {
     "name": "stdin",
     "output_type": "stream",
     "text": [
      "Enter the number of elements to insert at end: 4\n",
      "Enter element 1:  11\n",
      "Enter element 2:  22\n",
      "Enter element 3:  33\n",
      "Enter element 4:  4\n"
     ]
    },
    {
     "name": "stdout",
     "output_type": "stream",
     "text": [
      "Doubly Linked List:\n",
      "4<->33<->22<->11<->None\n"
     ]
    },
    {
     "name": "stdin",
     "output_type": "stream",
     "text": [
      "\n",
      " how maney times you want to perform delete op: 1\n"
     ]
    },
    {
     "name": "stdout",
     "output_type": "stream",
     "text": [
      "Delete:4\n",
      "Doubly Linked List:\n",
      "33<->22<->11<->None\n"
     ]
    }
   ],
   "source": [
    "class Node:\n",
    "    def __init__(self, data):\n",
    "        self.data = data\n",
    "        self.prev = None\n",
    "        self.next = None\n",
    "\n",
    "class DoublyLinkedList:\n",
    "    def __init__(self):\n",
    "        self.head = None\n",
    "\n",
    "    def iab(self,data):\n",
    "        newnode = Node(data)\n",
    "        newnode.next=self.head\n",
    "        if self.head:\n",
    "            self.head.prev=newnode\n",
    "        self.head=newnode\n",
    "        \n",
    "    def dab(self):\n",
    "        if not self:\n",
    "            print(\"can't perform delete in an empty list...\")\n",
    "        print(f\"Delete:{self.head.data}\")\n",
    "        self.head=self.head.next\n",
    "        if self.head:\n",
    "            self.head.prev=None\n",
    "\n",
    "    def display(self):\n",
    "        temp = self.head\n",
    "        print(\"Doubly Linked List:\")\n",
    "        while temp:\n",
    "            print(temp.data, end=\"<->\")\n",
    "            temp = temp.next\n",
    "        print(\"None\")\n",
    "\n",
    "# Driver code\n",
    "dll = DoublyLinkedList()\n",
    "n = int(input(\"Enter the number of elements to insert at end:\"))\n",
    "for i in range(n):\n",
    "    val = int(input(f\"Enter element {i+1}: \"))\n",
    "    dll.iab(val)\n",
    "dll.display()\n",
    "d=int(input(\"\\n how maney times you want to perform delete op:\"))\n",
    "for _ in range(d):\n",
    "    dll.dab()\n",
    "    dll.display()"
   ]
  },
  {
   "cell_type": "code",
   "execution_count": null,
   "id": "7d21238e-3330-4093-bf11-3d356423f8c0",
   "metadata": {},
   "outputs": [],
   "source": [
    "delete operaions DLL:\n",
    "1.delee at begin/insert at begin\n",
    "40<-->30<-->20<-->10(t)->N\n",
    "2.delete at begin/insert at end\n",
    "3.selete at end/insert at end\n",
    "4.delete at end/ insert at begin"
   ]
  },
  {
   "cell_type": "code",
   "execution_count": 15,
   "id": "d4399738-0d18-4342-b75d-8c88947035c4",
   "metadata": {},
   "outputs": [
    {
     "name": "stdin",
     "output_type": "stream",
     "text": [
      "Enter the number of elements to insert at end: 6\n",
      "Enter element 1:  11\n",
      "Enter element 2:  22\n",
      "Enter element 3:  33\n",
      "Enter element 4:  66\n",
      "Enter element 5:  7\n",
      "Enter element 6:  4\n"
     ]
    },
    {
     "name": "stdout",
     "output_type": "stream",
     "text": [
      "Doubly Linked List:\n",
      "4<->7<->66<->33<->22<->11<->None\n"
     ]
    },
    {
     "name": "stdin",
     "output_type": "stream",
     "text": [
      "\n",
      " how maney times you want to perform delete op at end: 2\n"
     ]
    },
    {
     "name": "stdout",
     "output_type": "stream",
     "text": [
      "delete:11\n",
      "Doubly Linked List:\n",
      "4<->7<->66<->33<->22<->None\n",
      "delete:22\n",
      "Doubly Linked List:\n",
      "4<->7<->66<->33<->None\n"
     ]
    }
   ],
   "source": [
    "class Node:\n",
    "    def __init__(self, data):\n",
    "        self.data = data\n",
    "        self.prev = None\n",
    "        self.next = None\n",
    "\n",
    "class DoublyLinkedList:\n",
    "    def __init__(self):\n",
    "        self.head = None\n",
    "\n",
    "    def iab(self,data):\n",
    "        newnode = Node(data)\n",
    "        newnode.next=self.head\n",
    "        if self.head:\n",
    "            self.head.prev=newnode\n",
    "        self.head=newnode\n",
    "        \n",
    "    def dae(self):\n",
    "        if self.head is None:\n",
    "            print(\"can't perform delete in an empty list...\")\n",
    "            return\n",
    "        temp=self.head\n",
    "        while temp.next:\n",
    "            temp=temp.next\n",
    "        print(f\"delete:{temp.data}\")\n",
    "        if temp.prev:\n",
    "            temp.prev.next=None\n",
    "        else:\n",
    "            self.head=None\n",
    "\n",
    "\n",
    "    \n",
    "    def display(self):\n",
    "        temp = self.head\n",
    "        print(\"Doubly Linked List:\")\n",
    "        while temp:\n",
    "            print(temp.data, end=\"<->\")\n",
    "            temp = temp.next\n",
    "        print(\"None\")\n",
    "            \n",
    "# Driver code\n",
    "dll = DoublyLinkedList()\n",
    "n = int(input(\"Enter the number of elements to insert at end:\"))\n",
    "for i in range(n):\n",
    "    val = int(input(f\"Enter element {i+1}: \"))\n",
    "    dll.iab(val)\n",
    "dll.display()\n",
    "d=int(input(\"\\n how maney times you want to perform delete op at end:\"))\n",
    "for _ in range(d):\n",
    "    dll.dae()\n",
    "    dll.display()"
   ]
  },
  {
   "cell_type": "code",
   "execution_count": 17,
   "id": "a669959b-b2f9-4b57-8d3a-6cd6ef9e1786",
   "metadata": {},
   "outputs": [
    {
     "name": "stdin",
     "output_type": "stream",
     "text": [
      "Enter the number of elements to insert at end: 4\n",
      "Enter element 1:  11\n",
      "Enter element 2:  22\n",
      "Enter element 3:  33\n",
      "Enter element 4:  44\n"
     ]
    },
    {
     "name": "stdout",
     "output_type": "stream",
     "text": [
      "Doubly Linked List:\n",
      "11<->22<->33<->44<->None\n"
     ]
    },
    {
     "name": "stdin",
     "output_type": "stream",
     "text": [
      "\n",
      " how maney times you want to perform delete op at end: 2\n"
     ]
    },
    {
     "name": "stdout",
     "output_type": "stream",
     "text": [
      "delete:44\n",
      "Doubly Linked List:\n",
      "11<->22<->33<->None\n",
      "delete:33\n",
      "Doubly Linked List:\n",
      "11<->22<->None\n"
     ]
    }
   ],
   "source": [
    "class Node:\n",
    "    def __init__(self, data):\n",
    "        self.data = data\n",
    "        self.prev = None\n",
    "        self.next = None\n",
    "\n",
    "class DoublyLinkedList:\n",
    "    def __init__(self):\n",
    "        self.head = None\n",
    "\n",
    "    def iae(self,data):\n",
    "        newnode = Node(data)\n",
    "        if not self.head:\n",
    "            self.head=newnode\n",
    "            return\n",
    "        temp=self.head\n",
    "        while temp.next:\n",
    "            temp=temp.next\n",
    "        temp.next=newnode\n",
    "        newnode.prev=temp\n",
    "        \n",
    "    def dae(self):\n",
    "        if self.head is None:\n",
    "            print(\"can't perform delete in an empty list...\")\n",
    "            return\n",
    "        temp=self.head\n",
    "        while temp.next:\n",
    "            temp=temp.next\n",
    "        print(f\"delete:{temp.data}\")\n",
    "        if temp.prev:\n",
    "            temp.prev.next=None\n",
    "        else:\n",
    "            self.head=None\n",
    "    \n",
    "    def display(self):\n",
    "        temp = self.head\n",
    "        print(\"Doubly Linked List:\")\n",
    "        while temp:\n",
    "            print(temp.data, end=\"<->\")\n",
    "            temp = temp.next\n",
    "        print(\"None\")\n",
    "            \n",
    "# Driver code\n",
    "dll = DoublyLinkedList()\n",
    "n = int(input(\"Enter the number of elements to insert at end:\"))\n",
    "for i in range(n):\n",
    "    val = int(input(f\"Enter element {i+1}: \"))\n",
    "    dll.iae(val)\n",
    "dll.display()\n",
    "d=int(input(\"\\n how maney times you want to perform delete op at end:\"))\n",
    "for _ in range(d):\n",
    "    dll.dae()\n",
    "    dll.display()"
   ]
  },
  {
   "cell_type": "code",
   "execution_count": 21,
   "id": "145c0085-8d34-4ebb-997d-454dbe336b5a",
   "metadata": {},
   "outputs": [
    {
     "name": "stdin",
     "output_type": "stream",
     "text": [
      "Enter the number of elements to insert at end:  7\n",
      "Enter element 1:  1\n",
      "Enter element 2:  2\n",
      "Enter element 3:  3\n",
      "Enter element 4:  4\n",
      "Enter element 5:  5\n",
      "Enter element 6:  6\n",
      "Enter element 7:  7\n"
     ]
    },
    {
     "name": "stdout",
     "output_type": "stream",
     "text": [
      "Doubly Linked List:\n",
      "1<->2<->3<->4<->5<->6<->7<->None\n"
     ]
    },
    {
     "name": "stdin",
     "output_type": "stream",
     "text": [
      "\n",
      " How many times do you want to perform delete operation at beginning:  2\n"
     ]
    },
    {
     "name": "stdout",
     "output_type": "stream",
     "text": [
      "Deleted: 1\n",
      "Doubly Linked List:\n",
      "2<->3<->4<->5<->6<->7<->None\n",
      "Deleted: 2\n",
      "Doubly Linked List:\n",
      "3<->4<->5<->6<->7<->None\n"
     ]
    }
   ],
   "source": [
    "#insert at end and delete at beginning\n",
    "class Node:\n",
    "    def __init__(self, data):\n",
    "        self.data = data\n",
    "        self.prev = None\n",
    "        self.next = None\n",
    "\n",
    "class DoublyLinkedList:\n",
    "    def __init__(self):\n",
    "        self.head = None\n",
    "\n",
    "    def iae(self, data): \n",
    "        newnode = Node(data)\n",
    "        if not self.head:\n",
    "            self.head = newnode\n",
    "            return\n",
    "        temp = self.head\n",
    "        while temp.next:\n",
    "            temp = temp.next\n",
    "        temp.next = newnode\n",
    "        newnode.prev = temp\n",
    "\n",
    "    def dab(self):  \n",
    "        if self.head is None:\n",
    "            print(\"Can't perform delete in an empty list...\")\n",
    "            return\n",
    "        print(f\"Deleted: {self.head.data}\")\n",
    "        if self.head.next:\n",
    "            self.head = self.head.next\n",
    "            self.head.prev = None\n",
    "        else:\n",
    "            self.head = None  \n",
    "\n",
    "    def display(self):\n",
    "        temp = self.head\n",
    "        print(\"Doubly Linked List:\")\n",
    "        if not temp:\n",
    "            print(\"None\")\n",
    "            return\n",
    "        while temp:\n",
    "            print(temp.data, end=\"<->\")\n",
    "            temp = temp.next\n",
    "        print(\"None\")\n",
    "\n",
    "#Driver code\n",
    "dll = DoublyLinkedList()\n",
    "n = int(input(\"Enter the number of elements to insert at end: \"))\n",
    "for i in range(n):\n",
    "    val = int(input(f\"Enter element {i+1}: \"))\n",
    "    dll.iae(val)\n",
    "\n",
    "dll.display()\n",
    "\n",
    "d = int(input(\"\\n How many times do you want to perform delete operation at beginning: \"))\n",
    "for _ in range(d):\n",
    "    dll.dab()\n",
    "    dll.display()\n",
    "\n"
   ]
  },
  {
   "cell_type": "code",
   "execution_count": 39,
   "id": "349d9825-ebb5-49b8-a469-8d136864a595",
   "metadata": {},
   "outputs": [
    {
     "name": "stdin",
     "output_type": "stream",
     "text": [
      "Enter the number of elements to insert at end:  7\n",
      "Enter element 1:  1\n",
      "Enter element 2:  2\n",
      "Enter element 3:  3\n",
      "Enter element 4:  4\n",
      "Enter element 5:  5\n",
      "Enter element 6:  6\n",
      "Enter element 7:  7\n"
     ]
    },
    {
     "name": "stdout",
     "output_type": "stream",
     "text": [
      "Doubly Linked List:\n",
      "1<->2<->3<->4<->5<->6<->7<->None\n"
     ]
    },
    {
     "name": "stdin",
     "output_type": "stream",
     "text": [
      "\n",
      " How many times do you want to perform delete op at beginning:  2\n",
      "enter value to dalate: 1\n"
     ]
    },
    {
     "name": "stdout",
     "output_type": "stream",
     "text": [
      "Delete:1\n",
      "Doubly Linked List:\n",
      "2<->3<->4<->5<->6<->7<->None\n"
     ]
    },
    {
     "name": "stdin",
     "output_type": "stream",
     "text": [
      "enter value to dalate: 5\n"
     ]
    },
    {
     "name": "stdout",
     "output_type": "stream",
     "text": [
      "Delete:5\n",
      "Doubly Linked List:\n",
      "2<->3<->4<->6<->7<->None\n"
     ]
    }
   ],
   "source": [
    "'''write a code delete operaction By value\n",
    "delete the value which i enter delete that value in the list'''\n",
    "#insert at end and delete at beginning\n",
    "class Node:\n",
    "    def __init__(self, data):\n",
    "        self.data = data\n",
    "        self.prev = None\n",
    "        self.next = None\n",
    "\n",
    "class DoublyLinkedList:\n",
    "    def __init__(self):\n",
    "        self.head = None\n",
    "\n",
    "    def iae(self, data): \n",
    "        newnode = Node(data)\n",
    "        if not self.head:\n",
    "            self.head = newnode\n",
    "            return\n",
    "        temp = self.head\n",
    "        while temp.next:\n",
    "            temp = temp.next\n",
    "        temp.next = newnode\n",
    "        newnode.prev = temp\n",
    "\n",
    "    def dbv(self,value):\n",
    "        temp=self.head\n",
    "        while temp:\n",
    "            if temp.data==value:\n",
    "                print(f\"Delete:{temp.data}\")\n",
    "                if temp.prev:\n",
    "                    temp.prev.next=temp.next\n",
    "                else:\n",
    "                    self.head=temp.next\n",
    "                if temp.next:\n",
    "                    temp.next.prev=temp.prev\n",
    "                return\n",
    "            temp=temp.next\n",
    "        print(f\"{value} not found in the list\")\n",
    "\n",
    "    def display(self):\n",
    "        temp = self.head\n",
    "        print(\"Doubly Linked List:\")\n",
    "        if not temp:\n",
    "            print(\"None\")\n",
    "            return\n",
    "        while temp:\n",
    "            print(temp.data, end=\"<->\")\n",
    "            temp = temp.next\n",
    "        print(\"None\")\n",
    "\n",
    "#Driver code\n",
    "dll = DoublyLinkedList()\n",
    "n = int(input(\"Enter the number of elements to insert at end: \"))\n",
    "for i in range(n):\n",
    "    val = int(input(f\"Enter element {i+1}: \"))\n",
    "    dll.iae(val)\n",
    "\n",
    "dll.display()\n",
    "\n",
    "d = int(input(\"\\n How many times do you want to perform delete op at beginning: \"))\n",
    "for _ in range(d):\n",
    "    val=int(input(\"enter value to dalate:\"))\n",
    "    dll.dbv(val)\n",
    "    \n",
    "    dll.display()\n",
    "\n"
   ]
  },
  {
   "cell_type": "code",
   "execution_count": 49,
   "id": "6175ea74-44e9-41f5-8c06-3b1d78ba485a",
   "metadata": {},
   "outputs": [
    {
     "name": "stdin",
     "output_type": "stream",
     "text": [
      "Enter number of elements:  7\n",
      "Enter value:  1\n",
      "Enter value:  2\n",
      "Enter value:  3\n",
      "Enter value:  4\n",
      "Enter value:  2\n",
      "Enter value:  5\n",
      "Enter value:  1\n"
     ]
    },
    {
     "name": "stdout",
     "output_type": "stream",
     "text": [
      "DLL:\n",
      "1<-->2<-->3<-->4<-->2<-->5<-->1<-->\n",
      "Duplicate value in DLL:\n",
      "1 appears 2 times\n",
      "2 appears 2 times\n"
     ]
    }
   ],
   "source": [
    "'''write a code check the duplicates in a Double Linked List and print the count\n",
    "of frequency\n",
    "input=6\n",
    "10\n",
    "20\n",
    "30\n",
    "20\n",
    "10\n",
    "40\n",
    "output:\n",
    "DLL\n",
    "10<-->20<-->30<-->20<-->10<-->40\n",
    "duplicate value in DLL:\n",
    "10 appears 2 times\n",
    "20 appears 2 times\n",
    "\n",
    "if current.next else \"\"\n",
    "'''\n",
    "\n",
    "\n",
    "class Node:\n",
    "    def __init__(self, data):\n",
    "        self.data = data\n",
    "        self.prev = None\n",
    "        self.next = None\n",
    "\n",
    "class DoublyLinkedList:\n",
    "    def __init__(self):\n",
    "        self.head = None\n",
    "\n",
    "    def iae(self, data):\n",
    "        newnode = Node(data)\n",
    "        if not self.head:\n",
    "            self.head = newnode\n",
    "        else:\n",
    "            temp= self.head\n",
    "            while temp.next:\n",
    "                temp= temp.next\n",
    "            temp.next = newnode\n",
    "            newnode.prev = temp\n",
    "\n",
    "    def display(self):\n",
    "        temp= self.head\n",
    "        if not temp:\n",
    "            print(\"DLL is empty.\")\n",
    "            return\n",
    "        print(\"DLL:\")\n",
    "        while temp:\n",
    "            print(temp.data, end=\"<-->\" )\n",
    "            temp= temp.next\n",
    "        print()\n",
    "\n",
    "    def count_duplicates(self):\n",
    "        freq = {}\n",
    "        temp = self.head\n",
    "        while temp:\n",
    "            freq[temp.data] = freq.get(temp.data, 0) + 1\n",
    "            temp= temp.next\n",
    "        print(\"Duplicate value in DLL:\")\n",
    "        for val, count in freq.items():\n",
    "            if count > 1:\n",
    "                print(f\"{val} appears {count} times\")\n",
    "\n",
    "#Driver Code\n",
    "dll = DoublyLinkedList()\n",
    "n = int(input(\"Enter number of elements: \"))\n",
    "\n",
    "for _ in range(n):\n",
    "    val = int(input(\"Enter value: \"))\n",
    "    dll.iae(val)\n",
    "\n",
    "dll.display()\n",
    "dll.count_duplicates()\n"
   ]
  },
  {
   "cell_type": "code",
   "execution_count": null,
   "id": "f913c7d0-5cf9-46f1-93ad-9f4e8b0ce50e",
   "metadata": {},
   "outputs": [],
   "source": []
  }
 ],
 "metadata": {
  "kernelspec": {
   "display_name": "Python 3 (ipykernel)",
   "language": "python",
   "name": "python3"
  },
  "language_info": {
   "codemirror_mode": {
    "name": "ipython",
    "version": 3
   },
   "file_extension": ".py",
   "mimetype": "text/x-python",
   "name": "python",
   "nbconvert_exporter": "python",
   "pygments_lexer": "ipython3",
   "version": "3.12.7"
  }
 },
 "nbformat": 4,
 "nbformat_minor": 5
}
